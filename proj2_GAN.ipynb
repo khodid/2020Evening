{
  "nbformat": 4,
  "nbformat_minor": 0,
  "metadata": {
    "colab": {
      "name": "proj2_GAN.ipynb",
      "provenance": [],
      "collapsed_sections": [],
      "mount_file_id": "1JrfrA313MLkcjOz4_2pUl1Sc-2G2Bnbv",
      "authorship_tag": "ABX9TyOkZox1v65My9cTuZvJ+lvC",
      "include_colab_link": true
    },
    "kernelspec": {
      "name": "python3",
      "display_name": "Python 3"
    },
    "accelerator": "GPU"
  },
  "cells": [
    {
      "cell_type": "markdown",
      "metadata": {
        "id": "view-in-github",
        "colab_type": "text"
      },
      "source": [
        "<a href=\"https://colab.research.google.com/github/khodid/2020Evening/blob/master/proj2_GAN.ipynb\" target=\"_parent\"><img src=\"https://colab.research.google.com/assets/colab-badge.svg\" alt=\"Open In Colab\"/></a>"
      ]
    },
    {
      "cell_type": "markdown",
      "metadata": {
        "id": "GGBfc0VzAL8z",
        "colab_type": "text"
      },
      "source": [
        "# 2020 하계 프로젝트 \\#2\n",
        "- Evening 스터디 2020년 하계 방학 개인 프로젝트 \\# 2\n",
        "- 개발기간: 2020.08.07~\n",
        "- 주제: FER2013을 이용한 기초 GAN 연습\n"
      ]
    },
    {
      "cell_type": "markdown",
      "metadata": {
        "id": "I1I2hG9pIa6v",
        "colab_type": "text"
      },
      "source": [
        "## 사전 작업 \n",
        "- Google Drive mount\n",
        "- 작업공간 디렉토리 설정\n",
        "- GPU 환경설정\n",
        "- 하이퍼파라미터 설정"
      ]
    },
    {
      "cell_type": "code",
      "metadata": {
        "id": "Mo0Zs_XiIiaJ",
        "colab_type": "code",
        "colab": {
          "base_uri": "https://localhost:8080/",
          "height": 126
        },
        "outputId": "9285a621-df04-4b07-8d3f-387dc1d0a096"
      },
      "source": [
        "# Google Drive Mount\n",
        "from google.colab import drive\n",
        "drive.mount('/content/gdrive')"
      ],
      "execution_count": 1,
      "outputs": [
        {
          "output_type": "stream",
          "text": [
            "Go to this URL in a browser: https://accounts.google.com/o/oauth2/auth?client_id=947318989803-6bn6qk8qdgf4n4g3pfee6491hc0brc4i.apps.googleusercontent.com&redirect_uri=urn%3aietf%3awg%3aoauth%3a2.0%3aoob&response_type=code&scope=email%20https%3a%2f%2fwww.googleapis.com%2fauth%2fdocs.test%20https%3a%2f%2fwww.googleapis.com%2fauth%2fdrive%20https%3a%2f%2fwww.googleapis.com%2fauth%2fdrive.photos.readonly%20https%3a%2f%2fwww.googleapis.com%2fauth%2fpeopleapi.readonly\n",
            "\n",
            "Enter your authorization code:\n",
            "··········\n",
            "Mounted at /content/gdrive\n"
          ],
          "name": "stdout"
        }
      ]
    },
    {
      "cell_type": "code",
      "metadata": {
        "id": "tmFr6K1-IZt5",
        "colab_type": "code",
        "colab": {}
      },
      "source": [
        "# Working Directory\n",
        "root = '/content/gdrive/My Drive/Kaggle'"
      ],
      "execution_count": 2,
      "outputs": []
    },
    {
      "cell_type": "code",
      "metadata": {
        "id": "yUoLmXOCK-wZ",
        "colab_type": "code",
        "colab": {}
      },
      "source": [
        "# 환경설정\n",
        "import torch\n",
        "device = torch.device('cuda' if torch.cuda.is_available() else 'cpu')"
      ],
      "execution_count": 3,
      "outputs": []
    },
    {
      "cell_type": "code",
      "metadata": {
        "id": "lUeVGuEDMEq4",
        "colab_type": "code",
        "colab": {}
      },
      "source": [
        "# Hyper-parameters\n",
        "batch_size = 64\n",
        "epochs = 400\n",
        "discriminator_learning_rate = 0.0008\n",
        "generator_learning_rate = 0.0004"
      ],
      "execution_count": 41,
      "outputs": []
    },
    {
      "cell_type": "markdown",
      "metadata": {
        "id": "WQYra-KZIW8d",
        "colab_type": "text"
      },
      "source": [
        "## Dataset 다운받기\n",
        "\n",
        "프로젝트 1에서 했던 것과 동일한 방식으로 Kaggle에서 데이터를 다운받아 주겠다.\n",
        "\n",
        "해당 코드는 프로젝트 진행하는 데 단 한 번만 실행하므로, 전부 주석처리 하였다.\n",
        "\n",
        "이번에 사용하는 데이터는 \\<FER 2013\\>, 48x48 흑백(grayscale) 이미지로서 사람이나 그림의 표정을 7가지 감정 레이블로 분류한 데이터다.\n",
        "\n",
        "Kaggle의 데이터셋 다운로드 과정은 다음과 같다. (참고자료: [Medium - How to fetch kaggle datasets into google colab](https://medium.com/analytics-vidhya/how-to-fetch-kaggle-datasets-into-google-colab-ea682569851a))\n",
        "1. kaggle.json이 존재하는 디렉토리를 등록한다.\n",
        "2. 작업 디렉토리를 변경한다.\n",
        "3. kaggle의 데이터셋 페이지에서 'Copy API Command'를 통해 다운로드 받는 명령을 가져와 실행한다.\n",
        "4. 압축을 푼다."
      ]
    },
    {
      "cell_type": "code",
      "metadata": {
        "id": "MUUrzuljKE7J",
        "colab_type": "code",
        "colab": {}
      },
      "source": [
        "### 1. Config path\n",
        "# import os\n",
        "# os.environ['KAGGLE_CONFIG_DIR'] = \"/content/gdrive/My Drive/Kaggle\""
      ],
      "execution_count": 5,
      "outputs": []
    },
    {
      "cell_type": "code",
      "metadata": {
        "id": "_4WLQITkAJse",
        "colab_type": "code",
        "colab": {}
      },
      "source": [
        "### 2. Redirect\n",
        "# %cd /content/gdrive/My Drive/Kaggle"
      ],
      "execution_count": 6,
      "outputs": []
    },
    {
      "cell_type": "code",
      "metadata": {
        "id": "G_RsAmn_JyVC",
        "colab_type": "code",
        "colab": {}
      },
      "source": [
        "### 3. Download dataset\n",
        "# !kaggle datasets download -d msambare/fer2013"
      ],
      "execution_count": 7,
      "outputs": []
    },
    {
      "cell_type": "code",
      "metadata": {
        "id": "EioidtfmNXmY",
        "colab_type": "code",
        "colab": {
          "base_uri": "https://localhost:8080/",
          "height": 70
        },
        "outputId": "aa2c8e07-db91-400a-a958-e76d56ada57f"
      },
      "source": [
        "### Unzip & delete zip file\n",
        "# !unzip \\*.zip  && rm *.zip"
      ],
      "execution_count": 8,
      "outputs": [
        {
          "output_type": "stream",
          "text": [
            "unzip:  cannot find or open *.zip, *.zip.zip or *.zip.ZIP.\n",
            "\n",
            "No zipfiles found.\n"
          ],
          "name": "stdout"
        }
      ]
    },
    {
      "cell_type": "markdown",
      "metadata": {
        "id": "9xD0UENgNMeE",
        "colab_type": "text"
      },
      "source": [
        "## Dataset 가공하기\n",
        "\n",
        "- 교재의 spec을 그대로 따라하기 위해 28x28로 잘라서 사용할 예정.(너무 뭉게지면 그냥 48x48로 진행하겠음.\n",
        "\n",
        "\n",
        "- torchvision 패키지 사용.\n",
        " - torchvision.transforms\n",
        " - torchvision.datasets.ImageFolder\n",
        "- [torch.utils.data.DataLoader](https://pytorch.org/docs/1.1.0/_modules/torch/utils/data/dataloader.html)"
      ]
    },
    {
      "cell_type": "code",
      "metadata": {
        "id": "Dp2IouunP7b3",
        "colab_type": "code",
        "colab": {}
      },
      "source": [
        "import torchvision\n",
        "\n",
        "trans = torchvision.transforms.Compose([\n",
        "    torchvision.transforms.Grayscale(),\n",
        "    torchvision.transforms.Resize([28,28]),\n",
        "    torchvision.transforms.ToTensor()\n",
        "])\n",
        "\n",
        "train_data = torchvision.datasets.ImageFolder(root = '/content/drive/My Drive/Kaggle/fer2013/train/angry_', transform=trans)\n",
        "test_data = torchvision.datasets.ImageFolder(root='/content/drive/My Drive/Kaggle/fer2013/test/', transform=trans)"
      ],
      "execution_count": 28,
      "outputs": []
    },
    {
      "cell_type": "code",
      "metadata": {
        "id": "Kk6r0K7lRjgE",
        "colab_type": "code",
        "colab": {
          "base_uri": "https://localhost:8080/",
          "height": 336
        },
        "outputId": "bee66634-5125-4acf-ee1b-bb1d96343919"
      },
      "source": [
        "# peek image \n",
        "idx = 3\n",
        "from matplotlib.pyplot import imshow\n",
        "imshow(train_data[idx][0].reshape([28,28]), cmap = 'gray')\n",
        "print(train_data[idx][0][0][0])"
      ],
      "execution_count": 54,
      "outputs": [
        {
          "output_type": "stream",
          "text": [
            "tensor([0.5098, 0.3961, 0.3529, 0.3961, 0.3922, 0.3412, 0.3176, 0.3804, 0.5255,\n",
            "        0.5059, 0.6745, 0.7255, 0.7765, 0.7412, 0.6392, 0.5098, 0.4471, 0.5098,\n",
            "        0.5686, 0.5961, 0.6039, 0.6510, 0.7137, 0.7059, 0.6471, 0.5176, 0.4000,\n",
            "        0.4941])\n"
          ],
          "name": "stdout"
        },
        {
          "output_type": "display_data",
          "data": {
            "image/png": "[encoded data removed]",
            "text/plain": [
              "<Figure size 432x288 with 1 Axes>"
            ]
          },
          "metadata": {
            "tags": [],
            "needs_background": "light"
          }
        }
      ]
    },
    {
      "cell_type": "code",
      "metadata": {
        "id": "qE31eY2fXWbf",
        "colab_type": "code",
        "colab": {}
      },
      "source": [
        "# dataloader\n",
        "import torch.utils.data\n",
        "train_loader = torch.utils.data.DataLoader(train_data, batch_size = batch_size, shuffle=True, drop_last = True, num_workers=4)\n",
        "test_loader = torch.utils.data.DataLoader(test_data, batch_size = batch_size, shuffle=False,drop_last = True, num_workers=4)"
      ],
      "execution_count": 31,
      "outputs": []
    },
    {
      "cell_type": "markdown",
      "metadata": {
        "id": "dsKW07_SYoW5",
        "colab_type": "text"
      },
      "source": [
        "## GAN 설계하기\n",
        "\n",
        "교재에서 keras로 구현한 모델 정의를 읽으면서 동일한 구조를 짰음.\n",
        "\n",
        "\n",
        "- 교재 GAN specification\n",
        " - ```python \n",
        "          gan = GAN(input_dim = (28,28,1)\n",
        "        , discriminator_conv_filters = [64,64,128,128]\n",
        "        , discriminator_conv_kernel_size = [5,5,5,5]\n",
        "        , discriminator_conv_strides = [2,2,2,1]\n",
        "        , discriminator_batch_norm_momentum = None\n",
        "        , discriminator_activation = 'relu'\n",
        "        , discriminator_dropout_rate = 0.4\n",
        "        , discriminator_learning_rate = 0.0008\n",
        "        , generator_initial_dense_layer_size = (7, 7, 64)\n",
        "        , generator_upsample = [2,2, 1, 1]\n",
        "        , generator_conv_filters = [128,64, 64,1]\n",
        "        , generator_conv_kernel_size = [5,5,5,5]\n",
        "        , generator_conv_strides = [1,1, 1, 1]\n",
        "        , generator_batch_norm_momentum = 0.9\n",
        "        , generator_activation = 'relu'\n",
        "        , generator_dropout_rate = None\n",
        "        , generator_learning_rate = 0.0004\n",
        "        , optimiser = 'rmsprop'\n",
        "        , z_dim = 100\n",
        "        ) \n",
        "     ```\n",
        "- Keras 참고자료\n",
        " - [교재 GAN.py](https://github.com/rickiepark/GDL_code/blob/master/models/GAN.py)\n",
        " - [교재 gan_camel_train.ipynb](https://nbviewer.jupyter.org/github/rickiepark/GDL_code/blob/master/04_01_gan_camel_train.ipynb)\n",
        "\n",
        "- 신규 함수\n",
        " - [nn.UpsamplingBilinear2d](https://pytorch.org/docs/master/generated/torch.nn.UpsamplingBilinear2d.html)"
      ]
    },
    {
      "cell_type": "code",
      "metadata": {
        "id": "wP-ufMZ-o_rU",
        "colab_type": "code",
        "colab": {}
      },
      "source": [
        "import torch.nn as nn\n",
        "\n",
        "in_size = 784\n",
        "in_dim = 1\n",
        "latent_size = 100\n",
        "\n",
        "\n",
        "class GAN(nn.Module):\n",
        "  def __init__(self):\n",
        "    super(GAN, self).__init__()\n",
        "    self.discriminator = nn.Sequential(\n",
        "        # D1\n",
        "        nn.Conv2d(1, 64, kernel_size=5, stride=2, padding=2), # 1(28,28) -> 64(14,14)\n",
        "        nn.ReLU(),\n",
        "        nn.Dropout(p=0.4),\n",
        "        \n",
        "        # D2\n",
        "        nn.Conv2d(64, 64, kernel_size=5, stride=2, padding=2), # 64(14, 14) -> 64(7, 7)\n",
        "        nn.ReLU(),\n",
        "        nn.Dropout(p=0.4),\n",
        "\n",
        "        # D3\n",
        "        nn.Conv2d(64, 128, kernel_size=5, stride=2, padding=2), # 64(7, 7) ->128(4, 4)\n",
        "        nn.ReLU(),\n",
        "        nn.Dropout(p=0.4),\n",
        "\n",
        "        # D4\n",
        "        nn.Conv2d(128, 128, kernel_size=5, stride=1, padding=2), # 128(4,4) -> 128(4, 4)\n",
        "        nn.ReLU(),\n",
        "        nn.Dropout(p=0.4),\n",
        "\n",
        "        # D-end\n",
        "        nn.Flatten(), # 128*4*4 = 2048\n",
        "        nn.Linear(2048, 1), # 2048 -> 1\n",
        "        nn.Sigmoid() # 0에서 1 사이 값 하나.\n",
        "    )\n",
        "    self.generator_front = nn.Sequential(\n",
        "        # input size = (100)\n",
        "        nn.Linear(100, 3136),\n",
        "        nn.BatchNorm1d(3136),\n",
        "        nn.ReLU()\n",
        "    )\n",
        "    self.generator_rear = nn.Sequential(\n",
        "        # G1\n",
        "        nn.UpsamplingBilinear2d([14, 14]),\n",
        "        nn.Conv2d(64, 128, kernel_size=5, stride=1, padding=2),\n",
        "        nn.BatchNorm2d(128),\n",
        "        nn.ReLU(),\n",
        "\n",
        "        # G2\n",
        "        nn.UpsamplingBilinear2d(28),\n",
        "        nn.Conv2d(128, 64, kernel_size=5, stride=1, padding=2),\n",
        "        nn.BatchNorm2d(64),\n",
        "        nn.ReLU(),\n",
        "\n",
        "        #G3\n",
        "        nn.ConvTranspose2d(64, 64, kernel_size=5, stride=1, padding=2), #64(28, 28)\n",
        "        nn.BatchNorm2d(64),\n",
        "        nn.ReLU(),\n",
        "\n",
        "        #G-end\n",
        "        nn.ConvTranspose2d(64, 1, kernel_size=5, padding=2), # 1(28, 28)\n",
        "        nn.Tanh()\n",
        "    )\n",
        "  def discrim(self, x):\n",
        "    h = self.discriminator(x)\n",
        "    return h\n",
        "\n",
        "  def gener(self, z):\n",
        "    out = self.generator_front(z)\n",
        "    out = out.reshape(out.size(0), 64, 7, 7)\n",
        "    out = self.generator_rear(out)\n",
        "    return out"
      ],
      "execution_count": 32,
      "outputs": []
    },
    {
      "cell_type": "code",
      "metadata": {
        "id": "Fowamtzp44KC",
        "colab_type": "code",
        "colab": {}
      },
      "source": [
        "test_model = GAN().to(device)"
      ],
      "execution_count": 33,
      "outputs": []
    },
    {
      "cell_type": "code",
      "metadata": {
        "id": "Ex1DWgcbLEzQ",
        "colab_type": "code",
        "colab": {
          "base_uri": "https://localhost:8080/",
          "height": 620
        },
        "outputId": "051d1837-8a5f-4804-b5a2-317d986a64be"
      },
      "source": [
        "# 판별자 테스트\n",
        "test_input = (torch.rand(10, 1, 28, 28)).to(device)\n",
        "out = test_model.discrim(test_input)\n",
        "print('* 판별자 출력 확인 : ')\n",
        "print(out.shape)\n",
        "print(out)\n",
        "print()\n",
        "# 생성자 테스트\n",
        "test_z = (torch.rand(64, 100)).to(device)\n",
        "out2 = test_model.gener(test_z)\n",
        "print('* 생성자 출력 확인 : ')\n",
        "print(out2.shape)\n",
        "print(out2[0][0][0])\n",
        "printable = out2.cpu().detach().numpy()\n",
        "imshow(printable[0][0], cmap='gray')"
      ],
      "execution_count": 34,
      "outputs": [
        {
          "output_type": "stream",
          "text": [
            "* 판별자 출력 확인 : \n",
            "torch.Size([10, 1])\n",
            "tensor([[0.5028],\n",
            "        [0.5034],\n",
            "        [0.5035],\n",
            "        [0.5008],\n",
            "        [0.5059],\n",
            "        [0.5006],\n",
            "        [0.4995],\n",
            "        [0.5083],\n",
            "        [0.5057],\n",
            "        [0.5032]], device='cuda:0', grad_fn=<SigmoidBackward>)\n",
            "\n",
            "* 생성자 출력 확인 : \n",
            "torch.Size([64, 1, 28, 28])\n",
            "tensor([0.9280, 0.9986, 0.9910, 0.9948, 0.9962, 0.9997, 1.0000, 1.0000, 1.0000,\n",
            "        0.9999, 0.9991, 0.9965, 0.9982, 0.9972, 0.9959, 0.9972, 0.9989, 0.9989,\n",
            "        0.9962, 0.9985, 0.9997, 0.9997, 0.9995, 0.9956, 0.6990, 0.9850, 0.9968,\n",
            "        0.9121], device='cuda:0', grad_fn=<SelectBackward>)\n"
          ],
          "name": "stdout"
        },
        {
          "output_type": "execute_result",
          "data": {
            "text/plain": [
              "<matplotlib.image.AxesImage at 0x7f7eb97dcc50>"
            ]
          },
          "metadata": {
            "tags": []
          },
          "execution_count": 34
        },
        {
          "output_type": "display_data",
          "data": {
            "image/png": "[encoded data removed]",
            "text/plain": [
              "<Figure size 432x288 with 1 Axes>"
            ]
          },
          "metadata": {
            "tags": [],
            "needs_background": "light"
          }
        }
      ]
    },
    {
      "cell_type": "markdown",
      "metadata": {
        "id": "bKrEq4TyorYu",
        "colab_type": "text"
      },
      "source": [
        "## Training\n",
        "\n",
        "1. 모델 선언\n",
        "2. optimizer 설정\n",
        "3. training 과정\n",
        "\n",
        "\n",
        "- 교재 모델의 설정대로 하고 있음.\n",
        " - loss function: BCE loss\n",
        " - optimizer: RMS prop\n",
        "- 참고자료\n",
        " - [GAN pytorch tutorial](https://github.com/yunjey/pytorch-tutorial/blob/master/tutorials/03-advanced/generative_adversarial_network/main.py)\n"
      ]
    },
    {
      "cell_type": "code",
      "metadata": {
        "id": "XS_gHmYwX1Y9",
        "colab_type": "code",
        "colab": {}
      },
      "source": [
        "# model 선언\n",
        "model = GAN().to(device)"
      ],
      "execution_count": 35,
      "outputs": []
    },
    {
      "cell_type": "code",
      "metadata": {
        "id": "rapDMM4yovoT",
        "colab_type": "code",
        "colab": {}
      },
      "source": [
        "# optimizer\n",
        "dis_optimizer = torch.optim.RMSprop(model.parameters(), lr = discriminator_learning_rate)  # 0.0008\n",
        "gen_optimizer = torch.optim.RMSprop(model.parameters(), lr = generator_learning_rate)      # 0.0004"
      ],
      "execution_count": 36,
      "outputs": []
    },
    {
      "cell_type": "code",
      "metadata": {
        "id": "IScKgyqrYMlf",
        "colab_type": "code",
        "colab": {}
      },
      "source": [
        "# loss function\n",
        "criterion = nn.BCELoss()"
      ],
      "execution_count": 37,
      "outputs": []
    },
    {
      "cell_type": "code",
      "metadata": {
        "id": "INIIMNsiZFY6",
        "colab_type": "code",
        "colab": {
          "base_uri": "https://localhost:8080/",
          "height": 1000
        },
        "outputId": "5d16e338-958b-480e-d126-b8c99e037a0d"
      },
      "source": [
        "print('Training epochs: '+ str(epochs))\n",
        "\n",
        "data_len = len(train_loader)\n",
        "\n",
        "for epoch in range(epochs):\n",
        "  for idx, (images, labels) in enumerate(train_loader):\n",
        "    images = images.to(device)\n",
        "\n",
        "    # make labels\n",
        "    real_labels = torch.ones(batch_size, 1).to(device)\n",
        "    fake_labels =  torch.zeros(batch_size, 1).to(device)\n",
        "\n",
        "    ### ======== train discriminator ========\n",
        "\n",
        "    '''실제 사진을 real로 인식하도록 loss 계산'''\n",
        "    output = model.discrim(images)\n",
        "    d_real_loss = criterion(output, real_labels)\n",
        "    real_score = output\n",
        "\n",
        "    '''가짜 사진을 fake로 인식하도록 loss 계산'''\n",
        "    z = torch.randn(batch_size, latent_size).to(device)\n",
        "    fake_images = model.gener(z)\n",
        "    output = model.discrim(fake_images)\n",
        "    d_fake_loss = criterion(output, fake_labels)\n",
        "    fake_score = output\n",
        "\n",
        "    ''' Gradient 계산, Back Propagation'''\n",
        "    d_loss = d_real_loss + d_fake_loss\n",
        "\n",
        "    dis_optimizer.zero_grad()\n",
        "    d_loss.backward()\n",
        "    dis_optimizer.step()\n",
        "\n",
        "    ### ======== train generator ========\n",
        "    ''' 가짜 이미지 생성, 평가 '''\n",
        "    z = torch.randn(batch_size, latent_size).to(device)\n",
        "    fake_images = model.gener(z)\n",
        "    output = model.discrim(fake_images)\n",
        "\n",
        "    g_loss = criterion(output, real_labels)\n",
        "\n",
        "    ''' Gradient 계산, Back Propagation '''\n",
        "    gen_optimizer.zero_grad()\n",
        "    g_loss.backward()\n",
        "    dis_optimizer.step()\n",
        "\n",
        "  print('Epoch[{}/{}] 판별자 Loss: {}, 생성자 Loss: {}'.format(epoch+1, epochs, d_loss.item(), g_loss.item()))\n",
        "\n",
        "print('훈련 끗~~!')\n"
      ],
      "execution_count": 42,
      "outputs": [
        {
          "output_type": "stream",
          "text": [
            "Training epochs: 400\n",
            "Epoch[1/400] 판별자 Loss: 0.6994189620018005, 생성자 Loss: 0.6875793933868408\n",
            "Epoch[2/400] 판별자 Loss: 0.6984118223190308, 생성자 Loss: 0.6884045600891113\n",
            "Epoch[3/400] 판별자 Loss: 0.6976439356803894, 생성자 Loss: 0.6892381906509399\n",
            "Epoch[4/400] 판별자 Loss: 0.696976363658905, 생성자 Loss: 0.6898528337478638\n",
            "Epoch[5/400] 판별자 Loss: 0.6965435147285461, 생성자 Loss: 0.6901949644088745\n",
            "Epoch[6/400] 판별자 Loss: 0.6962878108024597, 생성자 Loss: 0.6904232501983643\n",
            "Epoch[7/400] 판별자 Loss: 0.6961585283279419, 생성자 Loss: 0.6905497908592224\n",
            "Epoch[8/400] 판별자 Loss: 0.6959100961685181, 생성자 Loss: 0.6909597516059875\n",
            "Epoch[9/400] 판별자 Loss: 0.6956490874290466, 생성자 Loss: 0.6910516619682312\n",
            "Epoch[10/400] 판별자 Loss: 0.6955385208129883, 생성자 Loss: 0.6911613345146179\n",
            "Epoch[11/400] 판별자 Loss: 0.6954337358474731, 생성자 Loss: 0.6912658214569092\n",
            "Epoch[12/400] 판별자 Loss: 0.6953331232070923, 생성자 Loss: 0.6913660168647766\n",
            "Epoch[13/400] 판별자 Loss: 0.6952404975891113, 생성자 Loss: 0.6914796829223633\n",
            "Epoch[14/400] 판별자 Loss: 0.6951466798782349, 생성자 Loss: 0.6915517449378967\n",
            "Epoch[15/400] 판별자 Loss: 0.6950599551200867, 생성자 Loss: 0.6916380524635315\n",
            "Epoch[16/400] 판별자 Loss: 0.6949774026870728, 생성자 Loss: 0.6917203068733215\n",
            "Epoch[17/400] 판별자 Loss: 0.6948989629745483, 생성자 Loss: 0.6917985081672668\n",
            "Epoch[18/400] 판별자 Loss: 0.69482421875, 생성자 Loss: 0.6918730735778809\n",
            "Epoch[19/400] 판별자 Loss: 0.6948877573013306, 생성자 Loss: 0.6919440031051636\n",
            "Epoch[20/400] 판별자 Loss: 0.6946854591369629, 생성자 Loss: 0.692011296749115\n",
            "Epoch[21/400] 판별자 Loss: 0.6946209669113159, 생성자 Loss: 0.6920756101608276\n",
            "Epoch[22/400] 판별자 Loss: 0.694559633731842, 생성자 Loss: 0.692136824131012\n",
            "Epoch[23/400] 판별자 Loss: 0.6945009827613831, 생성자 Loss: 0.6921951770782471\n",
            "Epoch[24/400] 판별자 Loss: 0.6944453716278076, 생성자 Loss: 0.692250669002533\n",
            "Epoch[25/400] 판별자 Loss: 0.6943925023078918, 생성자 Loss: 0.6923034191131592\n",
            "Epoch[26/400] 판별자 Loss: 0.6943421363830566, 생성자 Loss: 0.6923536658287048\n",
            "Epoch[27/400] 판별자 Loss: 0.694294273853302, 생성자 Loss: 0.6924014687538147\n",
            "Epoch[28/400] 판별자 Loss: 0.6942485570907593, 생성자 Loss: 0.6924469470977783\n",
            "Epoch[29/400] 판별자 Loss: 0.6942057013511658, 생성자 Loss: 0.6924896240234375\n",
            "Epoch[30/400] 판별자 Loss: 100.0, 생성자 Loss: 0.0\n",
            "Epoch[31/400] 판별자 Loss: 100.0, 생성자 Loss: 0.0\n",
            "Epoch[32/400] 판별자 Loss: 100.0, 생성자 Loss: 0.0\n",
            "Epoch[33/400] 판별자 Loss: 100.0, 생성자 Loss: 0.0\n",
            "Epoch[34/400] 판별자 Loss: 100.0, 생성자 Loss: 0.0\n",
            "Epoch[35/400] 판별자 Loss: 100.0, 생성자 Loss: 0.0\n",
            "Epoch[36/400] 판별자 Loss: 100.0, 생성자 Loss: 0.0\n",
            "Epoch[37/400] 판별자 Loss: 100.0, 생성자 Loss: 0.0\n",
            "Epoch[38/400] 판별자 Loss: 100.0, 생성자 Loss: 0.0\n",
            "Epoch[39/400] 판별자 Loss: 100.0, 생성자 Loss: 0.0\n",
            "Epoch[40/400] 판별자 Loss: 100.0, 생성자 Loss: 0.0\n",
            "Epoch[41/400] 판별자 Loss: 100.0, 생성자 Loss: 0.0\n",
            "Epoch[42/400] 판별자 Loss: 100.0, 생성자 Loss: 0.0\n",
            "Epoch[43/400] 판별자 Loss: 100.0, 생성자 Loss: 0.0\n",
            "Epoch[44/400] 판별자 Loss: 100.0, 생성자 Loss: 0.0\n",
            "Epoch[45/400] 판별자 Loss: 100.0, 생성자 Loss: 0.0\n",
            "Epoch[46/400] 판별자 Loss: 100.0, 생성자 Loss: 0.0\n",
            "Epoch[47/400] 판별자 Loss: 100.0, 생성자 Loss: 0.0\n",
            "Epoch[48/400] 판별자 Loss: 100.0, 생성자 Loss: 0.0\n",
            "Epoch[49/400] 판별자 Loss: 100.0, 생성자 Loss: 0.0\n",
            "Epoch[50/400] 판별자 Loss: 100.0, 생성자 Loss: 0.0\n",
            "Epoch[51/400] 판별자 Loss: 100.0, 생성자 Loss: 0.0\n",
            "Epoch[52/400] 판별자 Loss: 100.0, 생성자 Loss: 0.0\n",
            "Epoch[53/400] 판별자 Loss: 100.0, 생성자 Loss: 0.0\n",
            "Epoch[54/400] 판별자 Loss: 100.0, 생성자 Loss: 0.0\n",
            "Epoch[55/400] 판별자 Loss: 100.0, 생성자 Loss: 0.0\n",
            "Epoch[56/400] 판별자 Loss: 100.0, 생성자 Loss: 0.0\n",
            "Epoch[57/400] 판별자 Loss: 100.0, 생성자 Loss: 0.0\n",
            "Epoch[58/400] 판별자 Loss: 100.0, 생성자 Loss: 0.0\n",
            "Epoch[59/400] 판별자 Loss: 100.0, 생성자 Loss: 0.0\n",
            "Epoch[60/400] 판별자 Loss: 100.0, 생성자 Loss: 0.0\n",
            "Epoch[61/400] 판별자 Loss: 100.0, 생성자 Loss: 0.0\n",
            "Epoch[62/400] 판별자 Loss: 100.0, 생성자 Loss: 0.0\n",
            "Epoch[63/400] 판별자 Loss: 100.0, 생성자 Loss: 0.0\n",
            "Epoch[64/400] 판별자 Loss: 100.0, 생성자 Loss: 0.0\n",
            "Epoch[65/400] 판별자 Loss: 100.0, 생성자 Loss: 0.0\n",
            "Epoch[66/400] 판별자 Loss: 100.0, 생성자 Loss: 0.0\n",
            "Epoch[67/400] 판별자 Loss: 100.0, 생성자 Loss: 0.0\n",
            "Epoch[68/400] 판별자 Loss: 100.0, 생성자 Loss: 0.0\n",
            "Epoch[69/400] 판별자 Loss: 100.0, 생성자 Loss: 0.0\n",
            "Epoch[70/400] 판별자 Loss: 100.0, 생성자 Loss: 0.0\n",
            "Epoch[71/400] 판별자 Loss: 100.0, 생성자 Loss: 0.0\n",
            "Epoch[72/400] 판별자 Loss: 100.0, 생성자 Loss: 0.0\n",
            "Epoch[73/400] 판별자 Loss: 100.0, 생성자 Loss: 0.0\n",
            "Epoch[74/400] 판별자 Loss: 100.0, 생성자 Loss: 0.0\n",
            "Epoch[75/400] 판별자 Loss: 100.0, 생성자 Loss: 0.0\n",
            "Epoch[76/400] 판별자 Loss: 100.0, 생성자 Loss: 0.0\n",
            "Epoch[77/400] 판별자 Loss: 100.0, 생성자 Loss: 0.0\n",
            "Epoch[78/400] 판별자 Loss: 100.0, 생성자 Loss: 0.0\n",
            "Epoch[79/400] 판별자 Loss: 100.0, 생성자 Loss: 0.0\n",
            "Epoch[80/400] 판별자 Loss: 100.0, 생성자 Loss: 0.0\n",
            "Epoch[81/400] 판별자 Loss: 100.0, 생성자 Loss: 0.0\n",
            "Epoch[82/400] 판별자 Loss: 100.0, 생성자 Loss: 0.0\n",
            "Epoch[83/400] 판별자 Loss: 100.0, 생성자 Loss: 0.0\n",
            "Epoch[84/400] 판별자 Loss: 100.0, 생성자 Loss: 0.0\n",
            "Epoch[85/400] 판별자 Loss: 100.0, 생성자 Loss: 0.0\n",
            "Epoch[86/400] 판별자 Loss: 100.0, 생성자 Loss: 0.0\n",
            "Epoch[87/400] 판별자 Loss: 100.0, 생성자 Loss: 0.0\n",
            "Epoch[88/400] 판별자 Loss: 100.0, 생성자 Loss: 0.0\n",
            "Epoch[89/400] 판별자 Loss: 100.0, 생성자 Loss: 0.0\n",
            "Epoch[90/400] 판별자 Loss: 100.0, 생성자 Loss: 0.0\n",
            "Epoch[91/400] 판별자 Loss: 100.0, 생성자 Loss: 0.0\n"
          ],
          "name": "stdout"
        },
        {
          "output_type": "error",
          "ename": "KeyboardInterrupt",
          "evalue": "ignored",
          "traceback": [
            "\u001b[0;31m---------------------------------------------------------------------------\u001b[0m",
            "\u001b[0;31mKeyboardInterrupt\u001b[0m                         Traceback (most recent call last)",
            "\u001b[0;32m<ipython-input-42-76b723058bd4>\u001b[0m in \u001b[0;36m<module>\u001b[0;34m()\u001b[0m\n\u001b[1;32m      5\u001b[0m \u001b[0;32mfor\u001b[0m \u001b[0mepoch\u001b[0m \u001b[0;32min\u001b[0m \u001b[0mrange\u001b[0m\u001b[0;34m(\u001b[0m\u001b[0mepochs\u001b[0m\u001b[0;34m)\u001b[0m\u001b[0;34m:\u001b[0m\u001b[0;34m\u001b[0m\u001b[0;34m\u001b[0m\u001b[0m\n\u001b[1;32m      6\u001b[0m   \u001b[0;32mfor\u001b[0m \u001b[0midx\u001b[0m\u001b[0;34m,\u001b[0m \u001b[0;34m(\u001b[0m\u001b[0mimages\u001b[0m\u001b[0;34m,\u001b[0m \u001b[0mlabels\u001b[0m\u001b[0;34m)\u001b[0m \u001b[0;32min\u001b[0m \u001b[0menumerate\u001b[0m\u001b[0;34m(\u001b[0m\u001b[0mtrain_loader\u001b[0m\u001b[0;34m)\u001b[0m\u001b[0;34m:\u001b[0m\u001b[0;34m\u001b[0m\u001b[0;34m\u001b[0m\u001b[0m\n\u001b[0;32m----> 7\u001b[0;31m     \u001b[0mimages\u001b[0m \u001b[0;34m=\u001b[0m \u001b[0mimages\u001b[0m\u001b[0;34m.\u001b[0m\u001b[0mto\u001b[0m\u001b[0;34m(\u001b[0m\u001b[0mdevice\u001b[0m\u001b[0;34m)\u001b[0m\u001b[0;34m\u001b[0m\u001b[0;34m\u001b[0m\u001b[0m\n\u001b[0m\u001b[1;32m      8\u001b[0m \u001b[0;34m\u001b[0m\u001b[0m\n\u001b[1;32m      9\u001b[0m     \u001b[0;31m# make labels\u001b[0m\u001b[0;34m\u001b[0m\u001b[0;34m\u001b[0m\u001b[0;34m\u001b[0m\u001b[0m\n",
            "\u001b[0;31mKeyboardInterrupt\u001b[0m: "
          ]
        }
      ]
    },
    {
      "cell_type": "markdown",
      "metadata": {
        "id": "r-Bob72TRNZG",
        "colab_type": "text"
      },
      "source": [
        "## 생성 이미지 확인\n",
        "\n",
        "1. 랜덤 생성\n",
        "2. 가장 가까운 이미지와 비교하기"
      ]
    },
    {
      "cell_type": "code",
      "metadata": {
        "id": "WU7mJs3QAvz-",
        "colab_type": "code",
        "colab": {
          "base_uri": "https://localhost:8080/",
          "height": 209
        },
        "outputId": "a4d8e92a-3662-4f65-a6ea-6411ca5bbba8"
      },
      "source": [
        "import matplotlib.pyplot as plt\n",
        "\n",
        "z = torch.randn(10, 100).to(device)\n",
        "image = model.gener(z)\n",
        "\n",
        "column, row = 8, 2\n",
        "fig = plt.figure(figsize = (15,5))\n",
        "\n",
        "for i in range(1, 6):\n",
        "\n",
        "  show = image[i].cpu().detach().numpy()\n",
        "  \n",
        "  sub = fig.add_subplot(row, column, i)\n",
        "  sub.axis('off')        \n",
        "  sub.imshow(show[0])\n",
        "  sub.imshow(show[0], cmap='gray')\n",
        "\n",
        "print(show[0][0])"
      ],
      "execution_count": 48,
      "outputs": [
        {
          "output_type": "stream",
          "text": [
            "[-1.         -1.         -1.         -1.         -1.         -0.9999999\n",
            " -0.99999934 -0.99999946 -0.9999999  -0.99999994 -1.         -1.\n",
            " -1.         -1.         -1.         -1.         -1.         -1.\n",
            " -0.99999994 -0.99999994 -0.99999994 -1.         -1.         -1.\n",
            " -1.         -1.         -1.         -0.99998754]\n"
          ],
          "name": "stdout"
        },
        {
          "output_type": "display_data",
          "data": {
            "image/png": "[encoded data removed]",
            "text/plain": [
              "<Figure size 1080x360 with 5 Axes>"
            ]
          },
          "metadata": {
            "tags": [],
            "needs_background": "light"
          }
        }
      ]
    }
  ]
}