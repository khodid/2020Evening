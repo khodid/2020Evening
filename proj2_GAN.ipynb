{
  "nbformat": 4,
  "nbformat_minor": 0,
  "metadata": {
    "colab": {
      "name": "proj2_GAN.ipynb",
      "provenance": [],
      "collapsed_sections": [
        "WQYra-KZIW8d"
      ],
      "authorship_tag": "ABX9TyMhmW+d0ydSPb6JwrcYtBto",
      "include_colab_link": true
    },
    "kernelspec": {
      "name": "python3",
      "display_name": "Python 3"
    }
  },
  "cells": [
    {
      "cell_type": "markdown",
      "metadata": {
        "id": "view-in-github",
        "colab_type": "text"
      },
      "source": [
        "<a href=\"https://colab.research.google.com/github/khodid/2020Evening/blob/master/proj2_GAN.ipynb\" target=\"_parent\"><img src=\"https://colab.research.google.com/assets/colab-badge.svg\" alt=\"Open In Colab\"/></a>"
      ]
    },
    {
      "cell_type": "markdown",
      "metadata": {
        "id": "GGBfc0VzAL8z",
        "colab_type": "text"
      },
      "source": [
        "# 2020 하계 프로젝트 \\#2\n",
        "- Evening 스터디 2020년 하계 방학 개인 프로젝트 \\# 2\n",
        "- 개발기간: 2020.08.07~\n",
        "- 주제: FER2013을 이용한 기초 GAN 연습\n"
      ]
    },
    {
      "cell_type": "markdown",
      "metadata": {
        "id": "I1I2hG9pIa6v",
        "colab_type": "text"
      },
      "source": [
        "## 사전 작업 \n",
        "- Google Drive mount\n",
        "- 작업공간 디렉토리 설정\n",
        "- GPU 환경설정\n",
        "- 하이퍼파라미터 설정"
      ]
    },
    {
      "cell_type": "code",
      "metadata": {
        "id": "Mo0Zs_XiIiaJ",
        "colab_type": "code",
        "colab": {
          "base_uri": "https://localhost:8080/",
          "height": 35
        },
        "outputId": "ce54b840-ebb8-402f-95b8-5e7a92cc9ec0"
      },
      "source": [
        "# Google Drive Mount\n",
        "from google.colab import drive\n",
        "drive.mount('/content/gdrive')"
      ],
      "execution_count": 49,
      "outputs": [
        {
          "output_type": "stream",
          "text": [
            "Drive already mounted at /content/gdrive; to attempt to forcibly remount, call drive.mount(\"/content/gdrive\", force_remount=True).\n"
          ],
          "name": "stdout"
        }
      ]
    },
    {
      "cell_type": "code",
      "metadata": {
        "id": "tmFr6K1-IZt5",
        "colab_type": "code",
        "colab": {}
      },
      "source": [
        "# Working Directory\n",
        "root = '/content/gdrive/My Drive/Kaggle'"
      ],
      "execution_count": 50,
      "outputs": []
    },
    {
      "cell_type": "code",
      "metadata": {
        "id": "yUoLmXOCK-wZ",
        "colab_type": "code",
        "colab": {}
      },
      "source": [
        "# 환경설정\n",
        "device = torch.device('cuda' if torch.cuda.is_available() else 'cpu')"
      ],
      "execution_count": 103,
      "outputs": []
    },
    {
      "cell_type": "code",
      "metadata": {
        "id": "lUeVGuEDMEq4",
        "colab_type": "code",
        "colab": {}
      },
      "source": [
        "# Hyper-parameters\n",
        "batch_size = 64\n",
        "epochs = 5\n",
        "discriminator_learning_rate = 0.0008\n",
        "generator_learning_rate = 0.0004"
      ],
      "execution_count": 51,
      "outputs": []
    },
    {
      "cell_type": "markdown",
      "metadata": {
        "id": "WQYra-KZIW8d",
        "colab_type": "text"
      },
      "source": [
        "## Dataset 다운받기\n",
        "\n",
        "프로젝트 1에서 했던 것과 동일한 방식으로 Kaggle에서 데이터를 다운받아 주겠다.\n",
        "\n",
        "해당 코드는 프로젝트 진행하는 데 단 한 번만 실행하므로, 전부 주석처리 하였다.\n",
        "\n",
        "이번에 사용하는 데이터는 \\<FER 2013\\>, 48x48 흑백(grayscale) 이미지로서 사람이나 그림의 표정을 7가지 감정 레이블로 분류한 데이터다.\n",
        "\n",
        "Kaggle의 데이터셋 다운로드 과정은 다음과 같다. (참고자료: [Medium - How to fetch kaggle datasets into google colab](https://medium.com/analytics-vidhya/how-to-fetch-kaggle-datasets-into-google-colab-ea682569851a))\n",
        "1. kaggle.json이 존재하는 디렉토리를 등록한다.\n",
        "2. 작업 디렉토리를 변경한다.\n",
        "3. kaggle의 데이터셋 페이지에서 'Copy API Command'를 통해 다운로드 받는 명령을 가져와 실행한다.\n",
        "4. 압축을 푼다."
      ]
    },
    {
      "cell_type": "code",
      "metadata": {
        "id": "MUUrzuljKE7J",
        "colab_type": "code",
        "colab": {}
      },
      "source": [
        "### 1. Config path\n",
        "# import os\n",
        "# os.environ['KAGGLE_CONFIG_DIR'] = \"/content/gdrive/My Drive/Kaggle\""
      ],
      "execution_count": 52,
      "outputs": []
    },
    {
      "cell_type": "code",
      "metadata": {
        "id": "_4WLQITkAJse",
        "colab_type": "code",
        "colab": {}
      },
      "source": [
        "### 2. Redirect\n",
        "# %cd /content/gdrive/My Drive/Kaggle"
      ],
      "execution_count": 53,
      "outputs": []
    },
    {
      "cell_type": "code",
      "metadata": {
        "id": "G_RsAmn_JyVC",
        "colab_type": "code",
        "colab": {}
      },
      "source": [
        "### 3. Download dataset\n",
        "# !kaggle datasets download -d msambare/fer2013"
      ],
      "execution_count": 54,
      "outputs": []
    },
    {
      "cell_type": "code",
      "metadata": {
        "id": "EioidtfmNXmY",
        "colab_type": "code",
        "colab": {
          "base_uri": "https://localhost:8080/",
          "height": 70
        },
        "outputId": "8f48eb33-13c2-448a-85de-1792b3f1c7cd"
      },
      "source": [
        "### Unzip & delete zip file\n",
        "!unzip \\*.zip  && rm *.zip"
      ],
      "execution_count": 55,
      "outputs": [
        {
          "output_type": "stream",
          "text": [
            "unzip:  cannot find or open *.zip, *.zip.zip or *.zip.ZIP.\n",
            "\n",
            "No zipfiles found.\n"
          ],
          "name": "stdout"
        }
      ]
    },
    {
      "cell_type": "markdown",
      "metadata": {
        "id": "9xD0UENgNMeE",
        "colab_type": "text"
      },
      "source": [
        "## Dataset 가공하기\n",
        "\n",
        "- 교재의 spec을 그대로 따라하기 위해 28x28로 잘라서 사용할 예정.(너무 뭉게지면 그냥 48x48로 진행하겠음.\n",
        "\n",
        "\n",
        "- torchvision 패키지 사용.\n",
        " - torchvision.transforms\n",
        " - torchvision.datasets.ImageFolder\n",
        "- [torch.utils.data.DataLoader](https://pytorch.org/docs/1.1.0/_modules/torch/utils/data/dataloader.html)"
      ]
    },
    {
      "cell_type": "code",
      "metadata": {
        "id": "Dp2IouunP7b3",
        "colab_type": "code",
        "colab": {}
      },
      "source": [
        "import torchvision\n",
        "\n",
        "trans = torchvision.transforms.Compose([\n",
        "    torchvision.transforms.Grayscale(),\n",
        "    torchvision.transforms.Resize([28,28]),\n",
        "    torchvision.transforms.ToTensor()\n",
        "])\n",
        "\n",
        "train_data = torchvision.datasets.ImageFolder(root = '/content/gdrive/My Drive/Kaggle/fer2013/train', transform=trans)\n",
        "test_data = torchvision.datasets.ImageFolder(root='/content/gdrive/My Drive/Kaggle/fer2013/test', transform=trans)"
      ],
      "execution_count": 56,
      "outputs": []
    },
    {
      "cell_type": "code",
      "metadata": {
        "id": "Kk6r0K7lRjgE",
        "colab_type": "code",
        "colab": {
          "base_uri": "https://localhost:8080/",
          "height": 283
        },
        "outputId": "56e0676e-5137-4eae-dc8a-f4bab251c898"
      },
      "source": [
        "# peek image \n",
        "idx = 6150\n",
        "from matplotlib.pyplot import imshow\n",
        "imshow(train_data[idx][0].reshape([28,28]), cmap = 'gray')"
      ],
      "execution_count": 110,
      "outputs": [
        {
          "output_type": "execute_result",
          "data": {
            "text/plain": [
              "<matplotlib.image.AxesImage at 0x7f449b3124a8>"
            ]
          },
          "metadata": {
            "tags": []
          },
          "execution_count": 110
        },
        {
          "output_type": "display_data",
          "data": {
            "image/png": "[encoded data removed]",
            "text/plain": [
              "<Figure size 432x288 with 1 Axes>"
            ]
          },
          "metadata": {
            "tags": [],
            "needs_background": "light"
          }
        }
      ]
    },
    {
      "cell_type": "code",
      "metadata": {
        "id": "qE31eY2fXWbf",
        "colab_type": "code",
        "colab": {}
      },
      "source": [
        "# dataloader\n",
        "import torch.utils.data\n",
        "train_loader = torch.utils.data.DataLoader(train_data, batch_size = batch_size, shuffle=True)\n",
        "test_loader = torch.utils.data.DataLoader(test_data, batch_size = batch_size, shuffle=False)"
      ],
      "execution_count": 58,
      "outputs": []
    },
    {
      "cell_type": "markdown",
      "metadata": {
        "id": "dsKW07_SYoW5",
        "colab_type": "text"
      },
      "source": [
        "## GAN 설계하기\n",
        "\n",
        "교재에서 keras로 구현한 모델 정의를 읽으면서 동일한 구조를 짰음.\n",
        "\n",
        "\n",
        "- 교재 GAN specification\n",
        " - ```python \n",
        "          gan = GAN(input_dim = (28,28,1)\n",
        "        , discriminator_conv_filters = [64,64,128,128]\n",
        "        , discriminator_conv_kernel_size = [5,5,5,5]\n",
        "        , discriminator_conv_strides = [2,2,2,1]\n",
        "        , discriminator_batch_norm_momentum = None\n",
        "        , discriminator_activation = 'relu'\n",
        "        , discriminator_dropout_rate = 0.4\n",
        "        , discriminator_learning_rate = 0.0008\n",
        "        , generator_initial_dense_layer_size = (7, 7, 64)\n",
        "        , generator_upsample = [2,2, 1, 1]\n",
        "        , generator_conv_filters = [128,64, 64,1]\n",
        "        , generator_conv_kernel_size = [5,5,5,5]\n",
        "        , generator_conv_strides = [1,1, 1, 1]\n",
        "        , generator_batch_norm_momentum = 0.9\n",
        "        , generator_activation = 'relu'\n",
        "        , generator_dropout_rate = None\n",
        "        , generator_learning_rate = 0.0004\n",
        "        , optimiser = 'rmsprop'\n",
        "        , z_dim = 100\n",
        "        ) \n",
        "     ```\n",
        "- Keras 참고자료\n",
        " - [교재 GAN.py](https://github.com/rickiepark/GDL_code/blob/master/models/GAN.py)\n",
        " - [교재 gan_camel_train.ipynb](https://nbviewer.jupyter.org/github/rickiepark/GDL_code/blob/master/04_01_gan_camel_train.ipynb)\n",
        "\n",
        "- 신규 함수\n",
        " - [nn.UpsamplingBilinear2d](https://pytorch.org/docs/master/generated/torch.nn.UpsamplingBilinear2d.html)"
      ]
    },
    {
      "cell_type": "code",
      "metadata": {
        "id": "wP-ufMZ-o_rU",
        "colab_type": "code",
        "colab": {}
      },
      "source": [
        "import torch.nn as nn\n",
        "\n",
        "in_size = 784\n",
        "in_dim = 1\n",
        "latent_size = 100\n",
        "\n",
        "\n",
        "class GAN(nn.Module):\n",
        "  def __init__(self):\n",
        "    super(GAN, self).__init__()\n",
        "    self.discriminator = nn.Sequential(\n",
        "        # D1\n",
        "        nn.Conv2d(1, 64, kernel_size=5, stride=2, padding=2), # 1(28,28) -> 64(14,14)\n",
        "        nn.ReLU(),\n",
        "        nn.Dropout(p=0.4),\n",
        "        \n",
        "        # D2\n",
        "        nn.Conv2d(64, 64, kernel_size=5, stride=2, padding=2), # 64(14, 14) -> 64(7, 7)\n",
        "        nn.ReLU(),\n",
        "        nn.Dropout(p=0.4),\n",
        "\n",
        "        # D3\n",
        "        nn.Conv2d(64, 128, kernel_size=5, stride=2, padding=2), # 64(7, 7) ->128(4, 4)\n",
        "        nn.ReLU(),\n",
        "        nn.Dropout(p=0.4),\n",
        "\n",
        "        # D4\n",
        "        nn.Conv2d(128, 128, kernel_size=5, stride=1, padding=2), # 128(4,4) -> 128(4, 4)\n",
        "        nn.ReLU(),\n",
        "        nn.Dropout(p=0.4),\n",
        "\n",
        "        # D-end\n",
        "        nn.Flatten(), # 128*4*4 = 2048\n",
        "        nn.Linear(2048, 1), # 2048 -> 1\n",
        "        nn.Sigmoid() # 0에서 1 사이 값 하나.\n",
        "    )\n",
        "    self.generator_front = nn.Sequential(\n",
        "        # input size = (100)\n",
        "        nn.Linear(100, 3136),\n",
        "        nn.BatchNorm1d(3136),\n",
        "        nn.ReLU()\n",
        "    )\n",
        "    self.generator_rear = nn.Sequential(\n",
        "        # G1\n",
        "        nn.UpsamplingBilinear2d([14, 14]),\n",
        "        nn.Conv2d(64, 128, kernel_size=5, stride=1, padding=2),\n",
        "        nn.BatchNorm2d(128),\n",
        "        nn.ReLU(),\n",
        "\n",
        "        # G2\n",
        "        nn.UpsamplingBilinear2d(28),\n",
        "        nn.Conv2d(128, 64, kernel_size=5, stride=1, padding=2),\n",
        "        nn.BatchNorm2d(64),\n",
        "        nn.ReLU(),\n",
        "\n",
        "        #G3\n",
        "        nn.ConvTranspose2d(64, 64, kernel_size=5, stride=1, padding=2), #64(28, 28)\n",
        "        nn.BatchNorm2d(64),\n",
        "        nn.ReLU(),\n",
        "\n",
        "        #G-end\n",
        "        nn.ConvTranspose2d(64, 1, kernel_size=5, padding=2), # 1(28, 28)\n",
        "        nn.Tanh()\n",
        "    )\n",
        "  def discrim(self, x):\n",
        "    h = self.discriminator(x)\n",
        "    return h\n",
        "\n",
        "  def gener(self, z):\n",
        "    out = self.generator_front(z)\n",
        "    out = out.reshape(out.size(0), 64, 7, 7)\n",
        "    out = self.generator_rear(out)\n",
        "    return out"
      ],
      "execution_count": 95,
      "outputs": []
    },
    {
      "cell_type": "code",
      "metadata": {
        "id": "Fowamtzp44KC",
        "colab_type": "code",
        "colab": {}
      },
      "source": [
        "test_model = GAN().to(device)"
      ],
      "execution_count": 96,
      "outputs": []
    },
    {
      "cell_type": "code",
      "metadata": {
        "id": "Ex1DWgcbLEzQ",
        "colab_type": "code",
        "colab": {
          "base_uri": "https://localhost:8080/",
          "height": 620
        },
        "outputId": "bda92007-f49f-4887-b701-a34a21e54701"
      },
      "source": [
        "# 판별자 테스트\n",
        "test_input = (torch.rand(10, 1, 28, 28)).to(device)\n",
        "out = test_model.discrim(test_input)\n",
        "print('* 판별자 출력 확인 : ')\n",
        "print(out.shape)\n",
        "print(out)\n",
        "print()\n",
        "# 생성자 테스트\n",
        "test_z = (torch.rand(64, 100)).to(device)\n",
        "out2 = test_model.gener(test_z)\n",
        "print('* 생성자 출력 확인 : ')\n",
        "print(out2.shape)\n",
        "print(out2[0][0][0])\n",
        "imshow(out2[0][0].detach().numpy(), cmap='gray')"
      ],
      "execution_count": 111,
      "outputs": [
        {
          "output_type": "stream",
          "text": [
            "* 판별자 출력 확인 : \n",
            "torch.Size([10, 1])\n",
            "tensor([[0.5064],\n",
            "        [0.5034],\n",
            "        [0.5073],\n",
            "        [0.5125],\n",
            "        [0.5095],\n",
            "        [0.5050],\n",
            "        [0.5044],\n",
            "        [0.5058],\n",
            "        [0.4991],\n",
            "        [0.5013]], grad_fn=<SigmoidBackward>)\n",
            "\n",
            "* 생성자 출력 확인 : \n",
            "torch.Size([64, 1, 28, 28])\n",
            "tensor([ 0.0276,  0.1442, -0.4086, -0.8737, -0.9429, -0.5182,  0.6667,  0.7282,\n",
            "         0.0714,  0.1515, -0.5234, -0.9584, -0.9603, -0.9942, -0.9954, -0.8842,\n",
            "        -0.1367,  0.7116,  0.8316,  0.7685, -0.0549, -0.9674, -0.9711, -0.9350,\n",
            "        -0.8843,  0.8256,  0.9864, -0.1897], grad_fn=<SelectBackward>)\n"
          ],
          "name": "stdout"
        },
        {
          "output_type": "execute_result",
          "data": {
            "text/plain": [
              "<matplotlib.image.AxesImage at 0x7f449b26e710>"
            ]
          },
          "metadata": {
            "tags": []
          },
          "execution_count": 111
        },
        {
          "output_type": "display_data",
          "data": {
            "image/png": "[encoded data removed]",
            "text/plain": [
              "<Figure size 432x288 with 1 Axes>"
            ]
          },
          "metadata": {
            "tags": [],
            "needs_background": "light"
          }
        }
      ]
    },
    {
      "cell_type": "markdown",
      "metadata": {
        "id": "bKrEq4TyorYu",
        "colab_type": "text"
      },
      "source": [
        "## Training\n",
        "\n",
        "1. 모델 선언\n",
        "2. optimizer 설정\n",
        "3. training 과정\n",
        "\n",
        "\n",
        "- 교재 모델의 설정대로 하고 있음.\n",
        " - loss function: BCE loss\n",
        " - optimizer: RMS prop\n",
        "- 참고자료\n",
        " - [GAN pytorch tutorial](https://github.com/yunjey/pytorch-tutorial/blob/master/tutorials/03-advanced/generative_adversarial_network/main.py)\n"
      ]
    },
    {
      "cell_type": "code",
      "metadata": {
        "id": "XS_gHmYwX1Y9",
        "colab_type": "code",
        "colab": {}
      },
      "source": [
        "# model 선언\n",
        "model = GAN().to(device)"
      ],
      "execution_count": 105,
      "outputs": []
    },
    {
      "cell_type": "code",
      "metadata": {
        "id": "rapDMM4yovoT",
        "colab_type": "code",
        "colab": {}
      },
      "source": [
        "# optimizer\n",
        "dis_optimizer = torch.optim.RMSprop(model.parameters(), lr = discriminator_learning_rate)  # 0.0008\n",
        "gen_optimizer = torch.optim.RMSprop(model.parameters(), lr = generator_learning_rate)      # 0.0004"
      ],
      "execution_count": 107,
      "outputs": []
    },
    {
      "cell_type": "code",
      "metadata": {
        "id": "IScKgyqrYMlf",
        "colab_type": "code",
        "colab": {}
      },
      "source": [
        "# loss function\n",
        "criterion = nn.BCELoss()"
      ],
      "execution_count": 108,
      "outputs": []
    },
    {
      "cell_type": "code",
      "metadata": {
        "id": "INIIMNsiZFY6",
        "colab_type": "code",
        "colab": {}
      },
      "source": [
        "print('Training epochs: '+ epochs)\n",
        "\n",
        "for epoch in range(epochs):\n",
        "  for idx, (images, labels) in train_loader:\n",
        "    images = images.to(device)\n",
        "\n",
        "    # make labels\n",
        "    real_labels = torch.ones(batch_size, 1).to(device)\n",
        "    fake_labels = torch.zeros(batch_size, 1).to(device)\n",
        "\n",
        "    # train discriminator\n",
        "\n",
        "    # train generator"
      ],
      "execution_count": null,
      "outputs": []
    }
  ]
}