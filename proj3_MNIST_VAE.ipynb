{
  "nbformat": 4,
  "nbformat_minor": 0,
  "metadata": {
    "colab": {
      "name": "proj3_MNIST_VAE.ipynb",
      "provenance": [],
      "collapsed_sections": [],
      "toc_visible": true,
      "authorship_tag": "ABX9TyNuv/2VNLcPCwaHynsDvA6n",
      "include_colab_link": true
    },
    "kernelspec": {
      "name": "python3",
      "display_name": "Python 3"
    },
    "accelerator": "GPU",
    "widgets": {
      "application/vnd.jupyter.widget-state+json": {
        "b73830334cfe4a0496457a45d880550d": {
          "model_module": "@jupyter-widgets/controls",
          "model_name": "HBoxModel",
          "state": {
            "_view_name": "HBoxView",
            "_dom_classes": [],
            "_model_name": "HBoxModel",
            "_view_module": "@jupyter-widgets/controls",
            "_model_module_version": "1.5.0",
            "_view_count": null,
            "_view_module_version": "1.5.0",
            "box_style": "",
            "layout": "IPY_MODEL_a8e603ff25c646a4b0ccee59bfd74c35",
            "_model_module": "@jupyter-widgets/controls",
            "children": [
              "IPY_MODEL_ce2aa242d52e4059aafaff86fec7c313",
              "IPY_MODEL_ca010d4a92fa4cc2aee306a2e5603374"
            ]
          }
        },
        "a8e603ff25c646a4b0ccee59bfd74c35": {
          "model_module": "@jupyter-widgets/base",
          "model_name": "LayoutModel",
          "state": {
            "_view_name": "LayoutView",
            "grid_template_rows": null,
            "right": null,
            "justify_content": null,
            "_view_module": "@jupyter-widgets/base",
            "overflow": null,
            "_model_module_version": "1.2.0",
            "_view_count": null,
            "flex_flow": null,
            "width": null,
            "min_width": null,
            "border": null,
            "align_items": null,
            "bottom": null,
            "_model_module": "@jupyter-widgets/base",
            "top": null,
            "grid_column": null,
            "overflow_y": null,
            "overflow_x": null,
            "grid_auto_flow": null,
            "grid_area": null,
            "grid_template_columns": null,
            "flex": null,
            "_model_name": "LayoutModel",
            "justify_items": null,
            "grid_row": null,
            "max_height": null,
            "align_content": null,
            "visibility": null,
            "align_self": null,
            "height": null,
            "min_height": null,
            "padding": null,
            "grid_auto_rows": null,
            "grid_gap": null,
            "max_width": null,
            "order": null,
            "_view_module_version": "1.2.0",
            "grid_template_areas": null,
            "object_position": null,
            "object_fit": null,
            "grid_auto_columns": null,
            "margin": null,
            "display": null,
            "left": null
          }
        },
        "ce2aa242d52e4059aafaff86fec7c313": {
          "model_module": "@jupyter-widgets/controls",
          "model_name": "FloatProgressModel",
          "state": {
            "_view_name": "ProgressView",
            "style": "IPY_MODEL_4c6bf43ee6244357a919cd5f55cdebf9",
            "_dom_classes": [],
            "description": "",
            "_model_name": "FloatProgressModel",
            "bar_style": "success",
            "max": 1,
            "_view_module": "@jupyter-widgets/controls",
            "_model_module_version": "1.5.0",
            "value": 1,
            "_view_count": null,
            "_view_module_version": "1.5.0",
            "orientation": "horizontal",
            "min": 0,
            "description_tooltip": null,
            "_model_module": "@jupyter-widgets/controls",
            "layout": "IPY_MODEL_00a2fb1ce0974734932ccc781d707506"
          }
        },
        "ca010d4a92fa4cc2aee306a2e5603374": {
          "model_module": "@jupyter-widgets/controls",
          "model_name": "HTMLModel",
          "state": {
            "_view_name": "HTMLView",
            "style": "IPY_MODEL_77d4a06b6b9a434fb3cfc54d64812756",
            "_dom_classes": [],
            "description": "",
            "_model_name": "HTMLModel",
            "placeholder": "​",
            "_view_module": "@jupyter-widgets/controls",
            "_model_module_version": "1.5.0",
            "value": " 9920512/? [00:01&lt;00:00, 7027339.50it/s]",
            "_view_count": null,
            "_view_module_version": "1.5.0",
            "description_tooltip": null,
            "_model_module": "@jupyter-widgets/controls",
            "layout": "IPY_MODEL_0b7cde4321c044deb08e95e43ed313b6"
          }
        },
        "4c6bf43ee6244357a919cd5f55cdebf9": {
          "model_module": "@jupyter-widgets/controls",
          "model_name": "ProgressStyleModel",
          "state": {
            "_view_name": "StyleView",
            "_model_name": "ProgressStyleModel",
            "description_width": "initial",
            "_view_module": "@jupyter-widgets/base",
            "_model_module_version": "1.5.0",
            "_view_count": null,
            "_view_module_version": "1.2.0",
            "bar_color": null,
            "_model_module": "@jupyter-widgets/controls"
          }
        },
        "00a2fb1ce0974734932ccc781d707506": {
          "model_module": "@jupyter-widgets/base",
          "model_name": "LayoutModel",
          "state": {
            "_view_name": "LayoutView",
            "grid_template_rows": null,
            "right": null,
            "justify_content": null,
            "_view_module": "@jupyter-widgets/base",
            "overflow": null,
            "_model_module_version": "1.2.0",
            "_view_count": null,
            "flex_flow": null,
            "width": null,
            "min_width": null,
            "border": null,
            "align_items": null,
            "bottom": null,
            "_model_module": "@jupyter-widgets/base",
            "top": null,
            "grid_column": null,
            "overflow_y": null,
            "overflow_x": null,
            "grid_auto_flow": null,
            "grid_area": null,
            "grid_template_columns": null,
            "flex": null,
            "_model_name": "LayoutModel",
            "justify_items": null,
            "grid_row": null,
            "max_height": null,
            "align_content": null,
            "visibility": null,
            "align_self": null,
            "height": null,
            "min_height": null,
            "padding": null,
            "grid_auto_rows": null,
            "grid_gap": null,
            "max_width": null,
            "order": null,
            "_view_module_version": "1.2.0",
            "grid_template_areas": null,
            "object_position": null,
            "object_fit": null,
            "grid_auto_columns": null,
            "margin": null,
            "display": null,
            "left": null
          }
        },
        "77d4a06b6b9a434fb3cfc54d64812756": {
          "model_module": "@jupyter-widgets/controls",
          "model_name": "DescriptionStyleModel",
          "state": {
            "_view_name": "StyleView",
            "_model_name": "DescriptionStyleModel",
            "description_width": "",
            "_view_module": "@jupyter-widgets/base",
            "_model_module_version": "1.5.0",
            "_view_count": null,
            "_view_module_version": "1.2.0",
            "_model_module": "@jupyter-widgets/controls"
          }
        },
        "0b7cde4321c044deb08e95e43ed313b6": {
          "model_module": "@jupyter-widgets/base",
          "model_name": "LayoutModel",
          "state": {
            "_view_name": "LayoutView",
            "grid_template_rows": null,
            "right": null,
            "justify_content": null,
            "_view_module": "@jupyter-widgets/base",
            "overflow": null,
            "_model_module_version": "1.2.0",
            "_view_count": null,
            "flex_flow": null,
            "width": null,
            "min_width": null,
            "border": null,
            "align_items": null,
            "bottom": null,
            "_model_module": "@jupyter-widgets/base",
            "top": null,
            "grid_column": null,
            "overflow_y": null,
            "overflow_x": null,
            "grid_auto_flow": null,
            "grid_area": null,
            "grid_template_columns": null,
            "flex": null,
            "_model_name": "LayoutModel",
            "justify_items": null,
            "grid_row": null,
            "max_height": null,
            "align_content": null,
            "visibility": null,
            "align_self": null,
            "height": null,
            "min_height": null,
            "padding": null,
            "grid_auto_rows": null,
            "grid_gap": null,
            "max_width": null,
            "order": null,
            "_view_module_version": "1.2.0",
            "grid_template_areas": null,
            "object_position": null,
            "object_fit": null,
            "grid_auto_columns": null,
            "margin": null,
            "display": null,
            "left": null
          }
        },
        "594e6f04697a47de9bc2ea4bf36ae766": {
          "model_module": "@jupyter-widgets/controls",
          "model_name": "HBoxModel",
          "state": {
            "_view_name": "HBoxView",
            "_dom_classes": [],
            "_model_name": "HBoxModel",
            "_view_module": "@jupyter-widgets/controls",
            "_model_module_version": "1.5.0",
            "_view_count": null,
            "_view_module_version": "1.5.0",
            "box_style": "",
            "layout": "IPY_MODEL_87e5dc019f9d4298897e6208179d8556",
            "_model_module": "@jupyter-widgets/controls",
            "children": [
              "IPY_MODEL_a4a879e31c8b4808b723441f7306e1ab",
              "IPY_MODEL_56aaf9cf5a5448cf8f9ace0d79bbd38f"
            ]
          }
        },
        "87e5dc019f9d4298897e6208179d8556": {
          "model_module": "@jupyter-widgets/base",
          "model_name": "LayoutModel",
          "state": {
            "_view_name": "LayoutView",
            "grid_template_rows": null,
            "right": null,
            "justify_content": null,
            "_view_module": "@jupyter-widgets/base",
            "overflow": null,
            "_model_module_version": "1.2.0",
            "_view_count": null,
            "flex_flow": null,
            "width": null,
            "min_width": null,
            "border": null,
            "align_items": null,
            "bottom": null,
            "_model_module": "@jupyter-widgets/base",
            "top": null,
            "grid_column": null,
            "overflow_y": null,
            "overflow_x": null,
            "grid_auto_flow": null,
            "grid_area": null,
            "grid_template_columns": null,
            "flex": null,
            "_model_name": "LayoutModel",
            "justify_items": null,
            "grid_row": null,
            "max_height": null,
            "align_content": null,
            "visibility": null,
            "align_self": null,
            "height": null,
            "min_height": null,
            "padding": null,
            "grid_auto_rows": null,
            "grid_gap": null,
            "max_width": null,
            "order": null,
            "_view_module_version": "1.2.0",
            "grid_template_areas": null,
            "object_position": null,
            "object_fit": null,
            "grid_auto_columns": null,
            "margin": null,
            "display": null,
            "left": null
          }
        },
        "a4a879e31c8b4808b723441f7306e1ab": {
          "model_module": "@jupyter-widgets/controls",
          "model_name": "FloatProgressModel",
          "state": {
            "_view_name": "ProgressView",
            "style": "IPY_MODEL_6e3c7031609e47e9b2d6e0b749f46a9e",
            "_dom_classes": [],
            "description": "  0%",
            "_model_name": "FloatProgressModel",
            "bar_style": "info",
            "max": 1,
            "_view_module": "@jupyter-widgets/controls",
            "_model_module_version": "1.5.0",
            "value": 0,
            "_view_count": null,
            "_view_module_version": "1.5.0",
            "orientation": "horizontal",
            "min": 0,
            "description_tooltip": null,
            "_model_module": "@jupyter-widgets/controls",
            "layout": "IPY_MODEL_5530ea665f444362a2135e0edca692ac"
          }
        },
        "56aaf9cf5a5448cf8f9ace0d79bbd38f": {
          "model_module": "@jupyter-widgets/controls",
          "model_name": "HTMLModel",
          "state": {
            "_view_name": "HTMLView",
            "style": "IPY_MODEL_a1e07fe778424e49907e902b665b077a",
            "_dom_classes": [],
            "description": "",
            "_model_name": "HTMLModel",
            "placeholder": "​",
            "_view_module": "@jupyter-widgets/controls",
            "_model_module_version": "1.5.0",
            "value": " 0/28881 [00:00&lt;?, ?it/s]",
            "_view_count": null,
            "_view_module_version": "1.5.0",
            "description_tooltip": null,
            "_model_module": "@jupyter-widgets/controls",
            "layout": "IPY_MODEL_ce751d6e2438405ba365bbbcfb82b451"
          }
        },
        "6e3c7031609e47e9b2d6e0b749f46a9e": {
          "model_module": "@jupyter-widgets/controls",
          "model_name": "ProgressStyleModel",
          "state": {
            "_view_name": "StyleView",
            "_model_name": "ProgressStyleModel",
            "description_width": "initial",
            "_view_module": "@jupyter-widgets/base",
            "_model_module_version": "1.5.0",
            "_view_count": null,
            "_view_module_version": "1.2.0",
            "bar_color": null,
            "_model_module": "@jupyter-widgets/controls"
          }
        },
        "5530ea665f444362a2135e0edca692ac": {
          "model_module": "@jupyter-widgets/base",
          "model_name": "LayoutModel",
          "state": {
            "_view_name": "LayoutView",
            "grid_template_rows": null,
            "right": null,
            "justify_content": null,
            "_view_module": "@jupyter-widgets/base",
            "overflow": null,
            "_model_module_version": "1.2.0",
            "_view_count": null,
            "flex_flow": null,
            "width": null,
            "min_width": null,
            "border": null,
            "align_items": null,
            "bottom": null,
            "_model_module": "@jupyter-widgets/base",
            "top": null,
            "grid_column": null,
            "overflow_y": null,
            "overflow_x": null,
            "grid_auto_flow": null,
            "grid_area": null,
            "grid_template_columns": null,
            "flex": null,
            "_model_name": "LayoutModel",
            "justify_items": null,
            "grid_row": null,
            "max_height": null,
            "align_content": null,
            "visibility": null,
            "align_self": null,
            "height": null,
            "min_height": null,
            "padding": null,
            "grid_auto_rows": null,
            "grid_gap": null,
            "max_width": null,
            "order": null,
            "_view_module_version": "1.2.0",
            "grid_template_areas": null,
            "object_position": null,
            "object_fit": null,
            "grid_auto_columns": null,
            "margin": null,
            "display": null,
            "left": null
          }
        },
        "a1e07fe778424e49907e902b665b077a": {
          "model_module": "@jupyter-widgets/controls",
          "model_name": "DescriptionStyleModel",
          "state": {
            "_view_name": "StyleView",
            "_model_name": "DescriptionStyleModel",
            "description_width": "",
            "_view_module": "@jupyter-widgets/base",
            "_model_module_version": "1.5.0",
            "_view_count": null,
            "_view_module_version": "1.2.0",
            "_model_module": "@jupyter-widgets/controls"
          }
        },
        "ce751d6e2438405ba365bbbcfb82b451": {
          "model_module": "@jupyter-widgets/base",
          "model_name": "LayoutModel",
          "state": {
            "_view_name": "LayoutView",
            "grid_template_rows": null,
            "right": null,
            "justify_content": null,
            "_view_module": "@jupyter-widgets/base",
            "overflow": null,
            "_model_module_version": "1.2.0",
            "_view_count": null,
            "flex_flow": null,
            "width": null,
            "min_width": null,
            "border": null,
            "align_items": null,
            "bottom": null,
            "_model_module": "@jupyter-widgets/base",
            "top": null,
            "grid_column": null,
            "overflow_y": null,
            "overflow_x": null,
            "grid_auto_flow": null,
            "grid_area": null,
            "grid_template_columns": null,
            "flex": null,
            "_model_name": "LayoutModel",
            "justify_items": null,
            "grid_row": null,
            "max_height": null,
            "align_content": null,
            "visibility": null,
            "align_self": null,
            "height": null,
            "min_height": null,
            "padding": null,
            "grid_auto_rows": null,
            "grid_gap": null,
            "max_width": null,
            "order": null,
            "_view_module_version": "1.2.0",
            "grid_template_areas": null,
            "object_position": null,
            "object_fit": null,
            "grid_auto_columns": null,
            "margin": null,
            "display": null,
            "left": null
          }
        },
        "083b7e44c34b427d804eb149c6d30499": {
          "model_module": "@jupyter-widgets/controls",
          "model_name": "HBoxModel",
          "state": {
            "_view_name": "HBoxView",
            "_dom_classes": [],
            "_model_name": "HBoxModel",
            "_view_module": "@jupyter-widgets/controls",
            "_model_module_version": "1.5.0",
            "_view_count": null,
            "_view_module_version": "1.5.0",
            "box_style": "",
            "layout": "IPY_MODEL_6f9f650b73bf4d28850e4490e9f66934",
            "_model_module": "@jupyter-widgets/controls",
            "children": [
              "IPY_MODEL_bee835cfee014a04b478aeb18ad69add",
              "IPY_MODEL_c822cacc220e498291205e9b93e58da1"
            ]
          }
        },
        "6f9f650b73bf4d28850e4490e9f66934": {
          "model_module": "@jupyter-widgets/base",
          "model_name": "LayoutModel",
          "state": {
            "_view_name": "LayoutView",
            "grid_template_rows": null,
            "right": null,
            "justify_content": null,
            "_view_module": "@jupyter-widgets/base",
            "overflow": null,
            "_model_module_version": "1.2.0",
            "_view_count": null,
            "flex_flow": null,
            "width": null,
            "min_width": null,
            "border": null,
            "align_items": null,
            "bottom": null,
            "_model_module": "@jupyter-widgets/base",
            "top": null,
            "grid_column": null,
            "overflow_y": null,
            "overflow_x": null,
            "grid_auto_flow": null,
            "grid_area": null,
            "grid_template_columns": null,
            "flex": null,
            "_model_name": "LayoutModel",
            "justify_items": null,
            "grid_row": null,
            "max_height": null,
            "align_content": null,
            "visibility": null,
            "align_self": null,
            "height": null,
            "min_height": null,
            "padding": null,
            "grid_auto_rows": null,
            "grid_gap": null,
            "max_width": null,
            "order": null,
            "_view_module_version": "1.2.0",
            "grid_template_areas": null,
            "object_position": null,
            "object_fit": null,
            "grid_auto_columns": null,
            "margin": null,
            "display": null,
            "left": null
          }
        },
        "bee835cfee014a04b478aeb18ad69add": {
          "model_module": "@jupyter-widgets/controls",
          "model_name": "FloatProgressModel",
          "state": {
            "_view_name": "ProgressView",
            "style": "IPY_MODEL_947791c0d3ad49a8b540069a2203b891",
            "_dom_classes": [],
            "description": "",
            "_model_name": "FloatProgressModel",
            "bar_style": "success",
            "max": 1,
            "_view_module": "@jupyter-widgets/controls",
            "_model_module_version": "1.5.0",
            "value": 1,
            "_view_count": null,
            "_view_module_version": "1.5.0",
            "orientation": "horizontal",
            "min": 0,
            "description_tooltip": null,
            "_model_module": "@jupyter-widgets/controls",
            "layout": "IPY_MODEL_2806ced0e5b743c29fcb26a3c7232773"
          }
        },
        "c822cacc220e498291205e9b93e58da1": {
          "model_module": "@jupyter-widgets/controls",
          "model_name": "HTMLModel",
          "state": {
            "_view_name": "HTMLView",
            "style": "IPY_MODEL_1d52c8feb5f24e35bb5b82d102778ee6",
            "_dom_classes": [],
            "description": "",
            "_model_name": "HTMLModel",
            "placeholder": "​",
            "_view_module": "@jupyter-widgets/controls",
            "_model_module_version": "1.5.0",
            "value": " 1654784/? [00:01&lt;00:00, 1564188.47it/s]",
            "_view_count": null,
            "_view_module_version": "1.5.0",
            "description_tooltip": null,
            "_model_module": "@jupyter-widgets/controls",
            "layout": "IPY_MODEL_feb830a6c34e48549676c261a896fbf7"
          }
        },
        "947791c0d3ad49a8b540069a2203b891": {
          "model_module": "@jupyter-widgets/controls",
          "model_name": "ProgressStyleModel",
          "state": {
            "_view_name": "StyleView",
            "_model_name": "ProgressStyleModel",
            "description_width": "initial",
            "_view_module": "@jupyter-widgets/base",
            "_model_module_version": "1.5.0",
            "_view_count": null,
            "_view_module_version": "1.2.0",
            "bar_color": null,
            "_model_module": "@jupyter-widgets/controls"
          }
        },
        "2806ced0e5b743c29fcb26a3c7232773": {
          "model_module": "@jupyter-widgets/base",
          "model_name": "LayoutModel",
          "state": {
            "_view_name": "LayoutView",
            "grid_template_rows": null,
            "right": null,
            "justify_content": null,
            "_view_module": "@jupyter-widgets/base",
            "overflow": null,
            "_model_module_version": "1.2.0",
            "_view_count": null,
            "flex_flow": null,
            "width": null,
            "min_width": null,
            "border": null,
            "align_items": null,
            "bottom": null,
            "_model_module": "@jupyter-widgets/base",
            "top": null,
            "grid_column": null,
            "overflow_y": null,
            "overflow_x": null,
            "grid_auto_flow": null,
            "grid_area": null,
            "grid_template_columns": null,
            "flex": null,
            "_model_name": "LayoutModel",
            "justify_items": null,
            "grid_row": null,
            "max_height": null,
            "align_content": null,
            "visibility": null,
            "align_self": null,
            "height": null,
            "min_height": null,
            "padding": null,
            "grid_auto_rows": null,
            "grid_gap": null,
            "max_width": null,
            "order": null,
            "_view_module_version": "1.2.0",
            "grid_template_areas": null,
            "object_position": null,
            "object_fit": null,
            "grid_auto_columns": null,
            "margin": null,
            "display": null,
            "left": null
          }
        },
        "1d52c8feb5f24e35bb5b82d102778ee6": {
          "model_module": "@jupyter-widgets/controls",
          "model_name": "DescriptionStyleModel",
          "state": {
            "_view_name": "StyleView",
            "_model_name": "DescriptionStyleModel",
            "description_width": "",
            "_view_module": "@jupyter-widgets/base",
            "_model_module_version": "1.5.0",
            "_view_count": null,
            "_view_module_version": "1.2.0",
            "_model_module": "@jupyter-widgets/controls"
          }
        },
        "feb830a6c34e48549676c261a896fbf7": {
          "model_module": "@jupyter-widgets/base",
          "model_name": "LayoutModel",
          "state": {
            "_view_name": "LayoutView",
            "grid_template_rows": null,
            "right": null,
            "justify_content": null,
            "_view_module": "@jupyter-widgets/base",
            "overflow": null,
            "_model_module_version": "1.2.0",
            "_view_count": null,
            "flex_flow": null,
            "width": null,
            "min_width": null,
            "border": null,
            "align_items": null,
            "bottom": null,
            "_model_module": "@jupyter-widgets/base",
            "top": null,
            "grid_column": null,
            "overflow_y": null,
            "overflow_x": null,
            "grid_auto_flow": null,
            "grid_area": null,
            "grid_template_columns": null,
            "flex": null,
            "_model_name": "LayoutModel",
            "justify_items": null,
            "grid_row": null,
            "max_height": null,
            "align_content": null,
            "visibility": null,
            "align_self": null,
            "height": null,
            "min_height": null,
            "padding": null,
            "grid_auto_rows": null,
            "grid_gap": null,
            "max_width": null,
            "order": null,
            "_view_module_version": "1.2.0",
            "grid_template_areas": null,
            "object_position": null,
            "object_fit": null,
            "grid_auto_columns": null,
            "margin": null,
            "display": null,
            "left": null
          }
        },
        "79fbf8640f904b67a5a2f9f968795555": {
          "model_module": "@jupyter-widgets/controls",
          "model_name": "HBoxModel",
          "state": {
            "_view_name": "HBoxView",
            "_dom_classes": [],
            "_model_name": "HBoxModel",
            "_view_module": "@jupyter-widgets/controls",
            "_model_module_version": "1.5.0",
            "_view_count": null,
            "_view_module_version": "1.5.0",
            "box_style": "",
            "layout": "IPY_MODEL_17968080b5544ca6b2323dc1589cf5d1",
            "_model_module": "@jupyter-widgets/controls",
            "children": [
              "IPY_MODEL_9218f6271ed44a7198258a61f4c8c791",
              "IPY_MODEL_48a066b5e8964485bf99684e5a6245ed"
            ]
          }
        },
        "17968080b5544ca6b2323dc1589cf5d1": {
          "model_module": "@jupyter-widgets/base",
          "model_name": "LayoutModel",
          "state": {
            "_view_name": "LayoutView",
            "grid_template_rows": null,
            "right": null,
            "justify_content": null,
            "_view_module": "@jupyter-widgets/base",
            "overflow": null,
            "_model_module_version": "1.2.0",
            "_view_count": null,
            "flex_flow": null,
            "width": null,
            "min_width": null,
            "border": null,
            "align_items": null,
            "bottom": null,
            "_model_module": "@jupyter-widgets/base",
            "top": null,
            "grid_column": null,
            "overflow_y": null,
            "overflow_x": null,
            "grid_auto_flow": null,
            "grid_area": null,
            "grid_template_columns": null,
            "flex": null,
            "_model_name": "LayoutModel",
            "justify_items": null,
            "grid_row": null,
            "max_height": null,
            "align_content": null,
            "visibility": null,
            "align_self": null,
            "height": null,
            "min_height": null,
            "padding": null,
            "grid_auto_rows": null,
            "grid_gap": null,
            "max_width": null,
            "order": null,
            "_view_module_version": "1.2.0",
            "grid_template_areas": null,
            "object_position": null,
            "object_fit": null,
            "grid_auto_columns": null,
            "margin": null,
            "display": null,
            "left": null
          }
        },
        "9218f6271ed44a7198258a61f4c8c791": {
          "model_module": "@jupyter-widgets/controls",
          "model_name": "FloatProgressModel",
          "state": {
            "_view_name": "ProgressView",
            "style": "IPY_MODEL_0a3a7b3b9b9c49a6a236c83c1288368d",
            "_dom_classes": [],
            "description": "",
            "_model_name": "FloatProgressModel",
            "bar_style": "success",
            "max": 1,
            "_view_module": "@jupyter-widgets/controls",
            "_model_module_version": "1.5.0",
            "value": 1,
            "_view_count": null,
            "_view_module_version": "1.5.0",
            "orientation": "horizontal",
            "min": 0,
            "description_tooltip": null,
            "_model_module": "@jupyter-widgets/controls",
            "layout": "IPY_MODEL_458bd55216a4453881b71d36b0fcb241"
          }
        },
        "48a066b5e8964485bf99684e5a6245ed": {
          "model_module": "@jupyter-widgets/controls",
          "model_name": "HTMLModel",
          "state": {
            "_view_name": "HTMLView",
            "style": "IPY_MODEL_69bd11e928814baf8b2a3ba5cdec1cd1",
            "_dom_classes": [],
            "description": "",
            "_model_name": "HTMLModel",
            "placeholder": "​",
            "_view_module": "@jupyter-widgets/controls",
            "_model_module_version": "1.5.0",
            "value": " 8192/? [00:00&lt;00:00, 23115.75it/s]",
            "_view_count": null,
            "_view_module_version": "1.5.0",
            "description_tooltip": null,
            "_model_module": "@jupyter-widgets/controls",
            "layout": "IPY_MODEL_f04c43546f884807a7b561f0ad115767"
          }
        },
        "0a3a7b3b9b9c49a6a236c83c1288368d": {
          "model_module": "@jupyter-widgets/controls",
          "model_name": "ProgressStyleModel",
          "state": {
            "_view_name": "StyleView",
            "_model_name": "ProgressStyleModel",
            "description_width": "initial",
            "_view_module": "@jupyter-widgets/base",
            "_model_module_version": "1.5.0",
            "_view_count": null,
            "_view_module_version": "1.2.0",
            "bar_color": null,
            "_model_module": "@jupyter-widgets/controls"
          }
        },
        "458bd55216a4453881b71d36b0fcb241": {
          "model_module": "@jupyter-widgets/base",
          "model_name": "LayoutModel",
          "state": {
            "_view_name": "LayoutView",
            "grid_template_rows": null,
            "right": null,
            "justify_content": null,
            "_view_module": "@jupyter-widgets/base",
            "overflow": null,
            "_model_module_version": "1.2.0",
            "_view_count": null,
            "flex_flow": null,
            "width": null,
            "min_width": null,
            "border": null,
            "align_items": null,
            "bottom": null,
            "_model_module": "@jupyter-widgets/base",
            "top": null,
            "grid_column": null,
            "overflow_y": null,
            "overflow_x": null,
            "grid_auto_flow": null,
            "grid_area": null,
            "grid_template_columns": null,
            "flex": null,
            "_model_name": "LayoutModel",
            "justify_items": null,
            "grid_row": null,
            "max_height": null,
            "align_content": null,
            "visibility": null,
            "align_self": null,
            "height": null,
            "min_height": null,
            "padding": null,
            "grid_auto_rows": null,
            "grid_gap": null,
            "max_width": null,
            "order": null,
            "_view_module_version": "1.2.0",
            "grid_template_areas": null,
            "object_position": null,
            "object_fit": null,
            "grid_auto_columns": null,
            "margin": null,
            "display": null,
            "left": null
          }
        },
        "69bd11e928814baf8b2a3ba5cdec1cd1": {
          "model_module": "@jupyter-widgets/controls",
          "model_name": "DescriptionStyleModel",
          "state": {
            "_view_name": "StyleView",
            "_model_name": "DescriptionStyleModel",
            "description_width": "",
            "_view_module": "@jupyter-widgets/base",
            "_model_module_version": "1.5.0",
            "_view_count": null,
            "_view_module_version": "1.2.0",
            "_model_module": "@jupyter-widgets/controls"
          }
        },
        "f04c43546f884807a7b561f0ad115767": {
          "model_module": "@jupyter-widgets/base",
          "model_name": "LayoutModel",
          "state": {
            "_view_name": "LayoutView",
            "grid_template_rows": null,
            "right": null,
            "justify_content": null,
            "_view_module": "@jupyter-widgets/base",
            "overflow": null,
            "_model_module_version": "1.2.0",
            "_view_count": null,
            "flex_flow": null,
            "width": null,
            "min_width": null,
            "border": null,
            "align_items": null,
            "bottom": null,
            "_model_module": "@jupyter-widgets/base",
            "top": null,
            "grid_column": null,
            "overflow_y": null,
            "overflow_x": null,
            "grid_auto_flow": null,
            "grid_area": null,
            "grid_template_columns": null,
            "flex": null,
            "_model_name": "LayoutModel",
            "justify_items": null,
            "grid_row": null,
            "max_height": null,
            "align_content": null,
            "visibility": null,
            "align_self": null,
            "height": null,
            "min_height": null,
            "padding": null,
            "grid_auto_rows": null,
            "grid_gap": null,
            "max_width": null,
            "order": null,
            "_view_module_version": "1.2.0",
            "grid_template_areas": null,
            "object_position": null,
            "object_fit": null,
            "grid_auto_columns": null,
            "margin": null,
            "display": null,
            "left": null
          }
        }
      }
    }
  },
  "cells": [
    {
      "cell_type": "markdown",
      "metadata": {
        "id": "view-in-github",
        "colab_type": "text"
      },
      "source": [
        "<a href=\"https://colab.research.google.com/github/khodid/2020Evening/blob/master/proj3_MNIST_VAE.ipynb\" target=\"_parent\"><img src=\"https://colab.research.google.com/assets/colab-badge.svg\" alt=\"Open In Colab\"/></a>"
      ]
    },
    {
      "cell_type": "markdown",
      "metadata": {
        "id": "6Qj0bZ2IhTe0",
        "colab_type": "text"
      },
      "source": [
        "# 2020년 하계 프로젝트 \\#3\n",
        "- Evening 스터디 2020 하계 방학 개인 프로젝트 \\#3\n",
        "- 개발 기간: 2020.08.13, 2020.08.20(2일)\n",
        "- 주제: MNIST data로 VAE 훈련시키기.\n",
        "\n",
        "지난 프로젝트 1, 2에서 모델 구현까지는 완료했지만 뚜렷한 성과가 없어, 가장 기본 예제인 MNIST를 시도해보기로 하였다."
      ]
    },
    {
      "cell_type": "markdown",
      "metadata": {
        "id": "od4YNXWkfMax",
        "colab_type": "text"
      },
      "source": [
        "## 기본적인 설정들\n",
        "- device 설정\n",
        "- Dataset 불러오기([torchvision.datasets.MNIST](https://pytorch.org/docs/stable/torchvision/datasets.html#mnist))\n",
        " - torchvision.datasets.MNIST(root, train=True, transform=None, target_transform=None, download=False)\n",
        "- DataLoader 설정\n"
      ]
    },
    {
      "cell_type": "code",
      "metadata": {
        "id": "Gq2yssvZgcoD",
        "colab_type": "code",
        "colab": {
          "base_uri": "https://localhost:8080/",
          "height": 432,
          "referenced_widgets": [
            "b73830334cfe4a0496457a45d880550d",
            "a8e603ff25c646a4b0ccee59bfd74c35",
            "ce2aa242d52e4059aafaff86fec7c313",
            "ca010d4a92fa4cc2aee306a2e5603374",
            "4c6bf43ee6244357a919cd5f55cdebf9",
            "00a2fb1ce0974734932ccc781d707506",
            "77d4a06b6b9a434fb3cfc54d64812756",
            "0b7cde4321c044deb08e95e43ed313b6",
            "594e6f04697a47de9bc2ea4bf36ae766",
            "87e5dc019f9d4298897e6208179d8556",
            "a4a879e31c8b4808b723441f7306e1ab",
            "56aaf9cf5a5448cf8f9ace0d79bbd38f",
            "6e3c7031609e47e9b2d6e0b749f46a9e",
            "5530ea665f444362a2135e0edca692ac",
            "a1e07fe778424e49907e902b665b077a",
            "ce751d6e2438405ba365bbbcfb82b451",
            "083b7e44c34b427d804eb149c6d30499",
            "6f9f650b73bf4d28850e4490e9f66934",
            "bee835cfee014a04b478aeb18ad69add",
            "c822cacc220e498291205e9b93e58da1",
            "947791c0d3ad49a8b540069a2203b891",
            "2806ced0e5b743c29fcb26a3c7232773",
            "1d52c8feb5f24e35bb5b82d102778ee6",
            "feb830a6c34e48549676c261a896fbf7",
            "79fbf8640f904b67a5a2f9f968795555",
            "17968080b5544ca6b2323dc1589cf5d1",
            "9218f6271ed44a7198258a61f4c8c791",
            "48a066b5e8964485bf99684e5a6245ed",
            "0a3a7b3b9b9c49a6a236c83c1288368d",
            "458bd55216a4453881b71d36b0fcb241",
            "69bd11e928814baf8b2a3ba5cdec1cd1",
            "f04c43546f884807a7b561f0ad115767"
          ]
        },
        "outputId": "3f8506c4-a8bb-4ed3-d21e-3423947614ad"
      },
      "source": [
        "# dataset 다운받기\n",
        "import torchvision\n",
        "\n",
        "MNIST_train = torchvision.datasets.MNIST(root = './content', train = True, transform = torchvision.transforms.ToTensor(), download = True)"
      ],
      "execution_count": 1,
      "outputs": [
        {
          "output_type": "stream",
          "text": [
            "Downloading http://yann.lecun.com/exdb/mnist/train-images-idx3-ubyte.gz to ./content/MNIST/raw/train-images-idx3-ubyte.gz\n"
          ],
          "name": "stdout"
        },
        {
          "output_type": "display_data",
          "data": {
            "application/vnd.jupyter.widget-view+json": {
              "model_id": "b73830334cfe4a0496457a45d880550d",
              "version_minor": 0,
              "version_major": 2
            },
            "text/plain": [
              "HBox(children=(FloatProgress(value=1.0, bar_style='info', max=1.0), HTML(value='')))"
            ]
          },
          "metadata": {
            "tags": []
          }
        },
        {
          "output_type": "stream",
          "text": [
            "Extracting ./content/MNIST/raw/train-images-idx3-ubyte.gz to ./content/MNIST/raw\n",
            "Downloading http://yann.lecun.com/exdb/mnist/train-labels-idx1-ubyte.gz to ./content/MNIST/raw/train-labels-idx1-ubyte.gz\n",
            "\n"
          ],
          "name": "stdout"
        },
        {
          "output_type": "display_data",
          "data": {
            "application/vnd.jupyter.widget-view+json": {
              "model_id": "594e6f04697a47de9bc2ea4bf36ae766",
              "version_minor": 0,
              "version_major": 2
            },
            "text/plain": [
              "HBox(children=(FloatProgress(value=1.0, bar_style='info', max=1.0), HTML(value='')))"
            ]
          },
          "metadata": {
            "tags": []
          }
        },
        {
          "output_type": "stream",
          "text": [
            "Extracting ./content/MNIST/raw/train-labels-idx1-ubyte.gz to ./content/MNIST/raw\n",
            "Downloading http://yann.lecun.com/exdb/mnist/t10k-images-idx3-ubyte.gz to ./content/MNIST/raw/t10k-images-idx3-ubyte.gz\n"
          ],
          "name": "stdout"
        },
        {
          "output_type": "display_data",
          "data": {
            "application/vnd.jupyter.widget-view+json": {
              "model_id": "083b7e44c34b427d804eb149c6d30499",
              "version_minor": 0,
              "version_major": 2
            },
            "text/plain": [
              "HBox(children=(FloatProgress(value=1.0, bar_style='info', max=1.0), HTML(value='')))"
            ]
          },
          "metadata": {
            "tags": []
          }
        },
        {
          "output_type": "stream",
          "text": [
            "Extracting ./content/MNIST/raw/t10k-images-idx3-ubyte.gz to ./content/MNIST/raw\n",
            "Downloading http://yann.lecun.com/exdb/mnist/t10k-labels-idx1-ubyte.gz to ./content/MNIST/raw/t10k-labels-idx1-ubyte.gz\n"
          ],
          "name": "stdout"
        },
        {
          "output_type": "display_data",
          "data": {
            "application/vnd.jupyter.widget-view+json": {
              "model_id": "79fbf8640f904b67a5a2f9f968795555",
              "version_minor": 0,
              "version_major": 2
            },
            "text/plain": [
              "HBox(children=(FloatProgress(value=1.0, bar_style='info', max=1.0), HTML(value='')))"
            ]
          },
          "metadata": {
            "tags": []
          }
        },
        {
          "output_type": "stream",
          "text": [
            "Extracting ./content/MNIST/raw/t10k-labels-idx1-ubyte.gz to ./content/MNIST/raw\n",
            "Processing...\n",
            "Done!\n",
            "\n",
            "\n"
          ],
          "name": "stdout"
        },
        {
          "output_type": "stream",
          "text": [
            "/usr/local/lib/python3.6/dist-packages/torchvision/datasets/mnist.py:469: UserWarning: The given NumPy array is not writeable, and PyTorch does not support non-writeable tensors. This means you can write to the underlying (supposedly non-writeable) NumPy array using the tensor. You may want to copy the array to protect its data or make it writeable before converting it to a tensor. This type of warning will be suppressed for the rest of this program. (Triggered internally at  /pytorch/torch/csrc/utils/tensor_numpy.cpp:141.)\n",
            "  return torch.from_numpy(parsed.astype(m[2], copy=False)).view(*s)\n"
          ],
          "name": "stderr"
        }
      ]
    },
    {
      "cell_type": "code",
      "metadata": {
        "id": "2aoSa0mUiaJB",
        "colab_type": "code",
        "colab": {}
      },
      "source": [
        "import torch.utils"
      ],
      "execution_count": 2,
      "outputs": []
    },
    {
      "cell_type": "code",
      "metadata": {
        "id": "hFs4tu3Djefs",
        "colab_type": "code",
        "colab": {}
      },
      "source": [
        "# dataloader 설정\n",
        "batch_size = 20\n",
        "\n",
        "train_set = torch.utils.data.DataLoader(MNIST_train, batch_size= batch_size, shuffle = True, drop_last = True)"
      ],
      "execution_count": 3,
      "outputs": []
    },
    {
      "cell_type": "code",
      "metadata": {
        "id": "sG_tq_y1kkxd",
        "colab_type": "code",
        "colab": {}
      },
      "source": [
        "# 디바이스 설정\n",
        "import torch.cuda\n",
        "device = 'cuda' if torch.cuda.is_available() else 'cpu'\n",
        "\n",
        "torch.manual_seed(777)\n",
        "if device == 'cuda' : torch.cuda.manual_seed_all(777)"
      ],
      "execution_count": 4,
      "outputs": []
    },
    {
      "cell_type": "code",
      "metadata": {
        "id": "oRybeWt2GBlV",
        "colab_type": "code",
        "colab": {
          "base_uri": "https://localhost:8080/",
          "height": 52
        },
        "outputId": "3a6bf2ed-8549-4eb4-dc75-6b1e1c782293"
      },
      "source": [
        "# Checking training data shape\n",
        "print(type(train_set))\n",
        "for img, label in train_set:\n",
        "  break\n",
        "print(img.shape)"
      ],
      "execution_count": 5,
      "outputs": [
        {
          "output_type": "stream",
          "text": [
            "<class 'torch.utils.data.dataloader.DataLoader'>\n",
            "torch.Size([20, 1, 28, 28])\n"
          ],
          "name": "stdout"
        }
      ]
    },
    {
      "cell_type": "markdown",
      "metadata": {
        "id": "A08QHmF8lUPZ",
        "colab_type": "text"
      },
      "source": [
        "## 모델 설계하기\n",
        "- 모델 선언\n",
        "- 모델 점검"
      ]
    },
    {
      "cell_type": "code",
      "metadata": {
        "id": "8sIMvhMzlVh_",
        "colab_type": "code",
        "colab": {}
      },
      "source": [
        "import torch.nn as nn\n",
        "\n",
        "class VAE(nn.Module):\n",
        "  def __init__(self, latent_size):\n",
        "    super(VAE, self).__init__()\n",
        "    self.latent_size = latent_size\n",
        "    self.encoder = nn.Sequential(\n",
        "                                  # layer 1\n",
        "                                  nn.Conv2d(1, 16, kernel_size = 5, stride = 1, padding = 2), # 1(28, 28) -> 16(28, 28)\n",
        "                                  nn.BatchNorm2d(16),\n",
        "                                  nn.ReLU(),\n",
        "                                  \n",
        "                                  #layer 2\n",
        "                                  nn.Conv2d(16, 32, kernel_size = 5, stride = 2, padding=2), # 16(28, 28) -> 32(14, 14)\n",
        "                                  nn.BatchNorm2d(32),\n",
        "                                  nn.ReLU(),\n",
        "\n",
        "                                  # layer 3\n",
        "                                  nn. Conv2d(32, 64, kernel_size= 3, stride = 2, padding = 1), # 32(14, 14) -> 32(7, 7)\n",
        "                                  nn.BatchNorm2d(64),\n",
        "                                  nn.ReLU(),\n",
        "\n",
        "                                  # output layer\n",
        "                                  nn.Flatten()  # 64*7*7 = 3136\n",
        "    )\n",
        "    self.fc_mu = nn.Linear(3136, self.latent_size)\n",
        "    self.fc_logvar = nn.Linear(3136, self.latent_size)\n",
        "    self.fc_decode = nn.Linear(self.latent_size, 3136)\n",
        "    self.decoder = nn.Sequential(\n",
        "                                  # \n",
        "                                  # 3-T\n",
        "                                  nn.ConvTranspose2d(64, 32, kernel_size = 3, stride = 2, padding=1, output_padding=1),\n",
        "                                  nn.BatchNorm2d(32),\n",
        "                                  nn.LeakyReLU(),\n",
        "\n",
        "                                  # 2-T\n",
        "                                  nn.ConvTranspose2d(32, 16, kernel_size=5, stride=2, padding=2, output_padding=1),\n",
        "                                  nn.BatchNorm2d(16),\n",
        "                                  nn.LeakyReLU(),\n",
        "\n",
        "                                  # 1-T\n",
        "                                  nn.ConvTranspose2d(16, 1, kernel_size=5, stride=1, padding=2),\n",
        "                                  nn.Sigmoid()\n",
        "    )\n",
        "  def reparameterize(self, mu, var):\n",
        "    sigma = torch.exp(0.5*var)\n",
        "    epsilon = torch.randn_like(sigma)\n",
        "    return mu + sigma * epsilon\n",
        "\n",
        "  def encode(self, img):\n",
        "    h = self.encoder(img)\n",
        "    mu, log_var = self.fc_mu(h), self.fc_logvar(h)\n",
        "    z = self.reparameterize(mu, log_var)\n",
        "    return z, mu, log_var\n",
        "\n",
        "  def decode(self, z):\n",
        "    z = self.fc_decode(z)\n",
        "    new_img = self.decoder(z.view(z.size(0), 64, 7, 7))\n",
        "    return new_img\n"
      ],
      "execution_count": 6,
      "outputs": []
    },
    {
      "cell_type": "code",
      "metadata": {
        "id": "gmV36OCH9bXx",
        "colab_type": "code",
        "colab": {
          "base_uri": "https://localhost:8080/",
          "height": 336
        },
        "outputId": "39746dcd-c6fd-442d-ee5b-9bf1946d466a"
      },
      "source": [
        "# model test\n",
        "with torch.no_grad():\n",
        "  input = torch.randn(64, 1, 28, 28).to(device)\n",
        "  model = VAE(latent_size = 10).to(device)\n",
        "  test_z, _, _ = model.encode(input)\n",
        "  test_out = model.decode(test_z)\n",
        "\n",
        "  print('====== ENCODER ======')\n",
        "  print(test_z.shape)\n",
        "  print('====== DECODER ======')\n",
        "  print(test_out.shape)\n",
        "\n",
        "  import matplotlib.pyplot as plt\n",
        "  if device == 'cuda': test_out = test_out.cpu()\n",
        "  show = test_out[0].view(28,28).numpy()\n",
        "  plt.imshow(show, cmap='gray')"
      ],
      "execution_count": 7,
      "outputs": [
        {
          "output_type": "stream",
          "text": [
            "====== ENCODER ======\n",
            "torch.Size([64, 10])\n",
            "====== DECODER ======\n",
            "torch.Size([64, 1, 28, 28])\n"
          ],
          "name": "stdout"
        },
        {
          "output_type": "display_data",
          "data": {
            "image/png": "[encoded data removed]",
            "text/plain": [
              "<Figure size 432x288 with 1 Axes>"
            ]
          },
          "metadata": {
            "tags": [],
            "needs_background": "light"
          }
        }
      ]
    },
    {
      "cell_type": "markdown",
      "metadata": {
        "id": "-JyXVpa89PFo",
        "colab_type": "text"
      },
      "source": [
        "## 학습\n",
        "- optimizer: RMSprop\n",
        "- cost function: VAE의 cost function 이론로 했음. restruction cost + divergence cost\n",
        "\n",
        "검증 작업에서 gradient 계산을 제외해야 하기 때문에 model.train() 또는 model.eval()을 적극 확용해야 하는데,\n",
        "중간점검 이미지 출력부분에서 with torch.no_grad()를 써서 그런지 처음엔 학습이 잘 되다가 아예 막히는 현상 발생함.\n",
        "\n",
        "[gradient 계산 모드 관련 문서](https://medium.com/jun-devpblog/pytorch-6-model-train-vs-model-eval-no-grad-hyperparameter-tuning-3812c216a3bd)"
      ]
    },
    {
      "cell_type": "code",
      "metadata": {
        "id": "XP1s4M6qMt-v",
        "colab_type": "code",
        "colab": {
          "base_uri": "https://localhost:8080/",
          "height": 497
        },
        "outputId": "bfa995ab-0fae-4747-af35-3f94fcf73a3a"
      },
      "source": [
        "model = VAE(latent_size= 100).to(device)\n",
        "model.train()"
      ],
      "execution_count": 8,
      "outputs": [
        {
          "output_type": "execute_result",
          "data": {
            "text/plain": [
              "VAE(\n",
              "  (encoder): Sequential(\n",
              "    (0): Conv2d(1, 16, kernel_size=(5, 5), stride=(1, 1), padding=(2, 2))\n",
              "    (1): BatchNorm2d(16, eps=1e-05, momentum=0.1, affine=True, track_running_stats=True)\n",
              "    (2): ReLU()\n",
              "    (3): Conv2d(16, 32, kernel_size=(5, 5), stride=(2, 2), padding=(2, 2))\n",
              "    (4): BatchNorm2d(32, eps=1e-05, momentum=0.1, affine=True, track_running_stats=True)\n",
              "    (5): ReLU()\n",
              "    (6): Conv2d(32, 64, kernel_size=(3, 3), stride=(2, 2), padding=(1, 1))\n",
              "    (7): BatchNorm2d(64, eps=1e-05, momentum=0.1, affine=True, track_running_stats=True)\n",
              "    (8): ReLU()\n",
              "    (9): Flatten()\n",
              "  )\n",
              "  (fc_mu): Linear(in_features=3136, out_features=100, bias=True)\n",
              "  (fc_logvar): Linear(in_features=3136, out_features=100, bias=True)\n",
              "  (fc_decode): Linear(in_features=100, out_features=3136, bias=True)\n",
              "  (decoder): Sequential(\n",
              "    (0): ConvTranspose2d(64, 32, kernel_size=(3, 3), stride=(2, 2), padding=(1, 1), output_padding=(1, 1))\n",
              "    (1): BatchNorm2d(32, eps=1e-05, momentum=0.1, affine=True, track_running_stats=True)\n",
              "    (2): LeakyReLU(negative_slope=0.01)\n",
              "    (3): ConvTranspose2d(32, 16, kernel_size=(5, 5), stride=(2, 2), padding=(2, 2), output_padding=(1, 1))\n",
              "    (4): BatchNorm2d(16, eps=1e-05, momentum=0.1, affine=True, track_running_stats=True)\n",
              "    (5): LeakyReLU(negative_slope=0.01)\n",
              "    (6): ConvTranspose2d(16, 1, kernel_size=(5, 5), stride=(1, 1), padding=(2, 2))\n",
              "    (7): Sigmoid()\n",
              "  )\n",
              ")"
            ]
          },
          "metadata": {
            "tags": []
          },
          "execution_count": 8
        }
      ]
    },
    {
      "cell_type": "code",
      "metadata": {
        "id": "unnDTvEwM6Nt",
        "colab_type": "code",
        "colab": {}
      },
      "source": [
        "# 얘는 그냥 프로젝트 1에서 복붙함. loss function\n",
        "\n",
        "def loss_function(x, target, mu, log_var):\n",
        "  x, target = x.view(-1, 784), target.view(-1, 784) # 안 넣으면 오류남\n",
        "  # r_loss = torch.sqrt(torch.mean(torch.square(target - x)) + 1e-7) # p98 참고 # 0 되는 걸 방지하기 위해\n",
        "  r_loss = nn.functional.binary_cross_entropy(x, target, reduction='sum')\n",
        "  kl_div = -0.5 * torch.sum(1 + log_var - mu.pow(2) - log_var.exp())\n",
        "  return r_loss, kl_div, r_loss + kl_div"
      ],
      "execution_count": 9,
      "outputs": []
    },
    {
      "cell_type": "code",
      "metadata": {
        "id": "Yue5nnpcY1CA",
        "colab_type": "code",
        "colab": {}
      },
      "source": [
        "# 진행상황 모니터링용\n",
        "def compare_img(img, new_img, label, epoch):\n",
        "  with torch.no_grad():\n",
        "    if device == 'cuda': img, new_img = img.cpu(), new_img.cpu()\n",
        "    show_original = img.view(28,28).numpy()\n",
        "    show_gen = new_img.view(28,28).numpy()\n",
        "\n",
        "    plt.subplot(1, 2, 1)\n",
        "    plt.title('original')\n",
        "    plt.imshow(show_original, cmap='gray')\n",
        "    plt.subplot(1, 2, 2)\n",
        "    plt.title('generated')\n",
        "    plt.imshow(show_gen, cmap = 'gray')\n",
        "    \n",
        "    plt.suptitle('Epoch: {} [label-{}]'.format(epoch, label), fontsize=16)\n",
        "    plt.savefig('MNIST_VAE_train_{}.png'.format(epoch))\n",
        "\n",
        "    plt.clf() # 다음 그림 위해서 비워두기"
      ],
      "execution_count": 10,
      "outputs": []
    },
    {
      "cell_type": "code",
      "metadata": {
        "id": "cv44vLjENtxP",
        "colab_type": "code",
        "colab": {}
      },
      "source": [
        "optimizer = torch.optim.RMSprop(model.parameters(),lr = 0.002)"
      ],
      "execution_count": 11,
      "outputs": []
    },
    {
      "cell_type": "code",
      "metadata": {
        "id": "n8R8dhQyQ47d",
        "colab_type": "code",
        "colab": {}
      },
      "source": [
        "lenth = len(train_set)"
      ],
      "execution_count": 12,
      "outputs": []
    },
    {
      "cell_type": "code",
      "metadata": {
        "id": "fS_7VEIi9IwF",
        "colab_type": "code",
        "colab": {
          "base_uri": "https://localhost:8080/",
          "height": 1000
        },
        "outputId": "c2941316-0078-4cd4-cd23-2b287b73d507"
      },
      "source": [
        "epochs = 20\n",
        "tick = [0, 5, 8, 10, 15, 20, 50, 100, 120, 150, 180, 200]\n",
        "\n",
        "model.train(True)\n",
        "\n",
        "for epoch in range(epochs):\n",
        "  for idx, (img, label) in enumerate(train_set):\n",
        "    img = img.to(device)\n",
        "    \n",
        "    z, mu, var = model.encode(img)\n",
        "    new_img = model.decode(z)\n",
        "    r, k, loss = loss_function(new_img, img, mu, var)\n",
        "    \n",
        "    optimizer.zero_grad()\n",
        "    loss.backward()\n",
        "    optimizer.step()\n",
        "    if (idx+1) % 500 is 0 : print('Epoch [{}/{}] Step [{}/{}] loss: {} rmse: {}, kl_div: {}'.format(epoch+1, epochs, idx+1, lenth, loss.item(), r.item(), k.item()))\n",
        "  if epoch in tick : compare_img(img[0], new_img[0], label[0], epoch)\n",
        "compare_img(img[0], new_img[0], label[0], epoch)"
      ],
      "execution_count": 13,
      "outputs": [
        {
          "output_type": "stream",
          "text": [
            "Epoch [1/20] Step [500/3000] loss: 6208.3671875 rmse: 2964.213623046875, kl_div: 3244.1533203125\n",
            "Epoch [1/20] Step [1000/3000] loss: 5702.9619140625 rmse: 2947.546142578125, kl_div: 2755.41552734375\n",
            "Epoch [1/20] Step [1500/3000] loss: 4411.689453125 rmse: 2206.159912109375, kl_div: 2205.52978515625\n",
            "Epoch [1/20] Step [2000/3000] loss: 4187.44970703125 rmse: 2647.00830078125, kl_div: 1540.4415283203125\n",
            "Epoch [1/20] Step [2500/3000] loss: 4997.6689453125 rmse: 2517.844482421875, kl_div: 2479.82421875\n",
            "Epoch [1/20] Step [3000/3000] loss: 4241.69873046875 rmse: 2530.21044921875, kl_div: 1711.48828125\n",
            "Epoch [2/20] Step [500/3000] loss: 3447.992431640625 rmse: 2102.22412109375, kl_div: 1345.768310546875\n",
            "Epoch [2/20] Step [1000/3000] loss: 2504.1142578125 rmse: 1906.2796630859375, kl_div: 597.8345947265625\n",
            "Epoch [2/20] Step [1500/3000] loss: 2499.5771484375 rmse: 1876.47314453125, kl_div: 623.10400390625\n",
            "Epoch [2/20] Step [2000/3000] loss: 2197.3017578125 rmse: 1671.275634765625, kl_div: 526.0262451171875\n",
            "Epoch [2/20] Step [2500/3000] loss: 2370.828369140625 rmse: 1809.753662109375, kl_div: 561.07470703125\n",
            "Epoch [2/20] Step [3000/3000] loss: 2282.0517578125 rmse: 1711.56884765625, kl_div: 570.48291015625\n",
            "Epoch [3/20] Step [500/3000] loss: 2224.778076171875 rmse: 1701.82958984375, kl_div: 522.9484252929688\n",
            "Epoch [3/20] Step [1000/3000] loss: 2242.705078125 rmse: 1748.8514404296875, kl_div: 493.8536682128906\n",
            "Epoch [3/20] Step [1500/3000] loss: 2323.47119140625 rmse: 1748.499267578125, kl_div: 574.9718017578125\n",
            "Epoch [3/20] Step [2000/3000] loss: 2113.193603515625 rmse: 1558.836181640625, kl_div: 554.357421875\n",
            "Epoch [3/20] Step [2500/3000] loss: 2168.39013671875 rmse: 1683.70361328125, kl_div: 484.6864318847656\n",
            "Epoch [3/20] Step [3000/3000] loss: 2171.376953125 rmse: 1657.596923828125, kl_div: 513.7800903320312\n",
            "Epoch [4/20] Step [500/3000] loss: 2281.4921875 rmse: 1696.340576171875, kl_div: 585.1517333984375\n",
            "Epoch [4/20] Step [1000/3000] loss: 2094.3671875 rmse: 1525.2763671875, kl_div: 569.0906982421875\n",
            "Epoch [4/20] Step [1500/3000] loss: 2164.5390625 rmse: 1588.7860107421875, kl_div: 575.753173828125\n",
            "Epoch [4/20] Step [2000/3000] loss: 1974.839599609375 rmse: 1410.268310546875, kl_div: 564.5712890625\n",
            "Epoch [4/20] Step [2500/3000] loss: 2071.341796875 rmse: 1512.3641357421875, kl_div: 558.9775390625\n",
            "Epoch [4/20] Step [3000/3000] loss: 2061.4013671875 rmse: 1553.435546875, kl_div: 507.96588134765625\n",
            "Epoch [5/20] Step [500/3000] loss: 2114.58740234375 rmse: 1563.3763427734375, kl_div: 551.2110595703125\n",
            "Epoch [5/20] Step [1000/3000] loss: 2117.66357421875 rmse: 1620.798828125, kl_div: 496.8648681640625\n",
            "Epoch [5/20] Step [1500/3000] loss: 2006.65283203125 rmse: 1489.4296875, kl_div: 517.2230834960938\n",
            "Epoch [5/20] Step [2000/3000] loss: 1925.1451416015625 rmse: 1427.44873046875, kl_div: 497.6963806152344\n",
            "Epoch [5/20] Step [2500/3000] loss: 1978.4927978515625 rmse: 1471.1954345703125, kl_div: 507.2973327636719\n",
            "Epoch [5/20] Step [3000/3000] loss: 1937.4879150390625 rmse: 1457.62353515625, kl_div: 479.8644104003906\n",
            "Epoch [6/20] Step [500/3000] loss: 2084.845703125 rmse: 1516.32568359375, kl_div: 568.52001953125\n",
            "Epoch [6/20] Step [1000/3000] loss: 1991.8629150390625 rmse: 1462.7706298828125, kl_div: 529.09228515625\n",
            "Epoch [6/20] Step [1500/3000] loss: 2385.8369140625 rmse: 1793.236572265625, kl_div: 592.6002197265625\n",
            "Epoch [6/20] Step [2000/3000] loss: 2051.7275390625 rmse: 1525.8193359375, kl_div: 525.9080810546875\n",
            "Epoch [6/20] Step [2500/3000] loss: 2030.2235107421875 rmse: 1469.590576171875, kl_div: 560.6329345703125\n",
            "Epoch [6/20] Step [3000/3000] loss: 2073.97705078125 rmse: 1548.204345703125, kl_div: 525.7727661132812\n",
            "Epoch [7/20] Step [500/3000] loss: 2120.4541015625 rmse: 1554.789794921875, kl_div: 565.664306640625\n",
            "Epoch [7/20] Step [1000/3000] loss: 2049.516845703125 rmse: 1502.6387939453125, kl_div: 546.8780517578125\n",
            "Epoch [7/20] Step [1500/3000] loss: 2135.4521484375 rmse: 1590.341064453125, kl_div: 545.1109619140625\n",
            "Epoch [7/20] Step [2000/3000] loss: 2165.843505859375 rmse: 1608.4833984375, kl_div: 557.3600463867188\n",
            "Epoch [7/20] Step [2500/3000] loss: 2027.9600830078125 rmse: 1454.3514404296875, kl_div: 573.608642578125\n",
            "Epoch [7/20] Step [3000/3000] loss: 1929.43798828125 rmse: 1420.3125, kl_div: 509.12548828125\n",
            "Epoch [8/20] Step [500/3000] loss: 2179.3544921875 rmse: 1607.8642578125, kl_div: 571.490234375\n",
            "Epoch [8/20] Step [1000/3000] loss: 1988.2596435546875 rmse: 1461.26123046875, kl_div: 526.9984130859375\n",
            "Epoch [8/20] Step [1500/3000] loss: 1835.470947265625 rmse: 1330.766357421875, kl_div: 504.70452880859375\n",
            "Epoch [8/20] Step [2000/3000] loss: 1876.021484375 rmse: 1368.95849609375, kl_div: 507.0629577636719\n",
            "Epoch [8/20] Step [2500/3000] loss: 2057.57373046875 rmse: 1502.151611328125, kl_div: 555.4219970703125\n",
            "Epoch [8/20] Step [3000/3000] loss: 2162.93310546875 rmse: 1587.687744140625, kl_div: 575.245361328125\n",
            "Epoch [9/20] Step [500/3000] loss: 2108.66845703125 rmse: 1533.568359375, kl_div: 575.0999755859375\n",
            "Epoch [9/20] Step [1000/3000] loss: 2098.652099609375 rmse: 1532.4503173828125, kl_div: 566.2017211914062\n",
            "Epoch [9/20] Step [1500/3000] loss: 2138.658447265625 rmse: 1564.2041015625, kl_div: 574.4544067382812\n",
            "Epoch [9/20] Step [2000/3000] loss: 2028.50439453125 rmse: 1471.710693359375, kl_div: 556.793701171875\n",
            "Epoch [9/20] Step [2500/3000] loss: 2208.876953125 rmse: 1612.26416015625, kl_div: 596.6129150390625\n",
            "Epoch [9/20] Step [3000/3000] loss: 1964.17333984375 rmse: 1451.602294921875, kl_div: 512.5709838867188\n",
            "Epoch [10/20] Step [500/3000] loss: 1959.068115234375 rmse: 1407.1400146484375, kl_div: 551.9281616210938\n",
            "Epoch [10/20] Step [1000/3000] loss: 1953.735107421875 rmse: 1429.053955078125, kl_div: 524.6812133789062\n",
            "Epoch [10/20] Step [1500/3000] loss: 2020.7928466796875 rmse: 1479.48388671875, kl_div: 541.3089599609375\n",
            "Epoch [10/20] Step [2000/3000] loss: 2127.898193359375 rmse: 1569.3017578125, kl_div: 558.596435546875\n",
            "Epoch [10/20] Step [2500/3000] loss: 1940.262939453125 rmse: 1436.146728515625, kl_div: 504.1162414550781\n",
            "Epoch [10/20] Step [3000/3000] loss: 2022.54345703125 rmse: 1504.1312255859375, kl_div: 518.4122314453125\n",
            "Epoch [11/20] Step [500/3000] loss: 1893.9891357421875 rmse: 1358.3453369140625, kl_div: 535.643798828125\n",
            "Epoch [11/20] Step [1000/3000] loss: 2005.777099609375 rmse: 1493.15625, kl_div: 512.620849609375\n",
            "Epoch [11/20] Step [1500/3000] loss: 1986.8511962890625 rmse: 1459.8681640625, kl_div: 526.9830322265625\n",
            "Epoch [11/20] Step [2000/3000] loss: 2099.344482421875 rmse: 1534.651611328125, kl_div: 564.69287109375\n",
            "Epoch [11/20] Step [2500/3000] loss: 1979.7445068359375 rmse: 1410.40771484375, kl_div: 569.3367919921875\n",
            "Epoch [11/20] Step [3000/3000] loss: 1788.989013671875 rmse: 1314.302734375, kl_div: 474.68621826171875\n",
            "Epoch [12/20] Step [500/3000] loss: 1820.092041015625 rmse: 1324.63232421875, kl_div: 495.45965576171875\n",
            "Epoch [12/20] Step [1000/3000] loss: 2042.8582763671875 rmse: 1498.6712646484375, kl_div: 544.18701171875\n",
            "Epoch [12/20] Step [1500/3000] loss: 2200.90478515625 rmse: 1632.8623046875, kl_div: 568.04248046875\n",
            "Epoch [12/20] Step [2000/3000] loss: 2050.017333984375 rmse: 1500.748779296875, kl_div: 549.2685546875\n",
            "Epoch [12/20] Step [2500/3000] loss: 2001.50244140625 rmse: 1486.3424072265625, kl_div: 515.1599731445312\n",
            "Epoch [12/20] Step [3000/3000] loss: 2159.68505859375 rmse: 1561.99853515625, kl_div: 597.6864013671875\n",
            "Epoch [13/20] Step [500/3000] loss: 2098.655029296875 rmse: 1564.7481689453125, kl_div: 533.9068603515625\n",
            "Epoch [13/20] Step [1000/3000] loss: 1877.52099609375 rmse: 1378.364990234375, kl_div: 499.15594482421875\n",
            "Epoch [13/20] Step [1500/3000] loss: 2094.7900390625 rmse: 1550.630615234375, kl_div: 544.1593017578125\n",
            "Epoch [13/20] Step [2000/3000] loss: 2029.6651611328125 rmse: 1517.752197265625, kl_div: 511.9129333496094\n",
            "Epoch [13/20] Step [2500/3000] loss: 1976.7149658203125 rmse: 1451.179443359375, kl_div: 525.5355224609375\n",
            "Epoch [13/20] Step [3000/3000] loss: 2087.06591796875 rmse: 1560.170166015625, kl_div: 526.8958740234375\n",
            "Epoch [14/20] Step [500/3000] loss: 2035.835205078125 rmse: 1495.672607421875, kl_div: 540.1626586914062\n",
            "Epoch [14/20] Step [1000/3000] loss: 2096.49951171875 rmse: 1595.653076171875, kl_div: 500.84637451171875\n",
            "Epoch [14/20] Step [1500/3000] loss: 2009.9794921875 rmse: 1475.82177734375, kl_div: 534.15771484375\n",
            "Epoch [14/20] Step [2000/3000] loss: 1957.217529296875 rmse: 1452.643798828125, kl_div: 504.57366943359375\n",
            "Epoch [14/20] Step [2500/3000] loss: 2068.197265625 rmse: 1572.59130859375, kl_div: 495.6058349609375\n",
            "Epoch [14/20] Step [3000/3000] loss: 2085.4501953125 rmse: 1530.66162109375, kl_div: 554.7886962890625\n",
            "Epoch [15/20] Step [500/3000] loss: 2016.9029541015625 rmse: 1504.11083984375, kl_div: 512.7921142578125\n",
            "Epoch [15/20] Step [1000/3000] loss: 1762.9808349609375 rmse: 1285.187255859375, kl_div: 477.7935791015625\n",
            "Epoch [15/20] Step [1500/3000] loss: 1787.695068359375 rmse: 1282.476318359375, kl_div: 505.21868896484375\n",
            "Epoch [15/20] Step [2000/3000] loss: 1989.1080322265625 rmse: 1434.084228515625, kl_div: 555.0238037109375\n",
            "Epoch [15/20] Step [2500/3000] loss: 1982.5 rmse: 1437.542724609375, kl_div: 544.957275390625\n",
            "Epoch [15/20] Step [3000/3000] loss: 1830.077392578125 rmse: 1335.048583984375, kl_div: 495.02874755859375\n",
            "Epoch [16/20] Step [500/3000] loss: 2024.7481689453125 rmse: 1478.673583984375, kl_div: 546.0745849609375\n",
            "Epoch [16/20] Step [1000/3000] loss: 2008.4342041015625 rmse: 1456.908203125, kl_div: 551.5260009765625\n",
            "Epoch [16/20] Step [1500/3000] loss: 2092.4697265625 rmse: 1549.689697265625, kl_div: 542.7801513671875\n",
            "Epoch [16/20] Step [2000/3000] loss: 1964.5386962890625 rmse: 1420.7021484375, kl_div: 543.8365478515625\n",
            "Epoch [16/20] Step [2500/3000] loss: 1799.5777587890625 rmse: 1324.9224853515625, kl_div: 474.6552734375\n",
            "Epoch [16/20] Step [3000/3000] loss: 1910.562744140625 rmse: 1434.200439453125, kl_div: 476.36224365234375\n",
            "Epoch [17/20] Step [500/3000] loss: 1996.4072265625 rmse: 1438.997314453125, kl_div: 557.4098510742188\n",
            "Epoch [17/20] Step [1000/3000] loss: 2102.121337890625 rmse: 1554.045166015625, kl_div: 548.0761108398438\n",
            "Epoch [17/20] Step [1500/3000] loss: 1984.290283203125 rmse: 1422.85400390625, kl_div: 561.436279296875\n",
            "Epoch [17/20] Step [2000/3000] loss: 2000.4725341796875 rmse: 1494.156982421875, kl_div: 506.3155517578125\n",
            "Epoch [17/20] Step [2500/3000] loss: 1928.74755859375 rmse: 1412.8023681640625, kl_div: 515.9451904296875\n",
            "Epoch [17/20] Step [3000/3000] loss: 1895.417724609375 rmse: 1400.063232421875, kl_div: 495.3544616699219\n",
            "Epoch [18/20] Step [500/3000] loss: 1988.7974853515625 rmse: 1451.388427734375, kl_div: 537.4090576171875\n",
            "Epoch [18/20] Step [1000/3000] loss: 1986.92626953125 rmse: 1430.0419921875, kl_div: 556.88427734375\n",
            "Epoch [18/20] Step [1500/3000] loss: 2275.63232421875 rmse: 1689.983154296875, kl_div: 585.6492919921875\n",
            "Epoch [18/20] Step [2000/3000] loss: 2150.7060546875 rmse: 1625.80712890625, kl_div: 524.8988037109375\n",
            "Epoch [18/20] Step [2500/3000] loss: 2076.378662109375 rmse: 1529.482177734375, kl_div: 546.896484375\n",
            "Epoch [18/20] Step [3000/3000] loss: 1899.525390625 rmse: 1399.88525390625, kl_div: 499.64007568359375\n",
            "Epoch [19/20] Step [500/3000] loss: 2128.75390625 rmse: 1573.5645751953125, kl_div: 555.1893920898438\n",
            "Epoch [19/20] Step [1000/3000] loss: 1986.4189453125 rmse: 1450.6468505859375, kl_div: 535.7720947265625\n",
            "Epoch [19/20] Step [1500/3000] loss: 2149.802001953125 rmse: 1592.609619140625, kl_div: 557.1923828125\n",
            "Epoch [19/20] Step [2000/3000] loss: 2040.9853515625 rmse: 1511.3653564453125, kl_div: 529.6199340820312\n",
            "Epoch [19/20] Step [2500/3000] loss: 2132.18896484375 rmse: 1581.320068359375, kl_div: 550.868896484375\n",
            "Epoch [19/20] Step [3000/3000] loss: 1945.15234375 rmse: 1433.83642578125, kl_div: 511.3158874511719\n",
            "Epoch [20/20] Step [500/3000] loss: 1919.896484375 rmse: 1426.79052734375, kl_div: 493.1059265136719\n",
            "Epoch [20/20] Step [1000/3000] loss: 1977.25244140625 rmse: 1472.2193603515625, kl_div: 505.0330810546875\n",
            "Epoch [20/20] Step [1500/3000] loss: 2120.740966796875 rmse: 1571.663330078125, kl_div: 549.07763671875\n",
            "Epoch [20/20] Step [2000/3000] loss: 2041.217529296875 rmse: 1520.038330078125, kl_div: 521.17919921875\n",
            "Epoch [20/20] Step [2500/3000] loss: 1945.4608154296875 rmse: 1440.76416015625, kl_div: 504.6966552734375\n",
            "Epoch [20/20] Step [3000/3000] loss: 1909.9569091796875 rmse: 1376.9127197265625, kl_div: 533.044189453125\n"
          ],
          "name": "stdout"
        },
        {
          "output_type": "display_data",
          "data": {
            "text/plain": [
              "<Figure size 432x288 with 0 Axes>"
            ]
          },
          "metadata": {
            "tags": []
          }
        }
      ]
    },
    {
      "cell_type": "code",
      "metadata": {
        "id": "fRFMHKOIcOo2",
        "colab_type": "code",
        "colab": {
          "base_uri": "https://localhost:8080/",
          "height": 263
        },
        "outputId": "ace25a0b-2293-4159-d598-56177ec7bb98"
      },
      "source": [
        "with torch.no_grad():\n",
        "  # img[0], new_img[0], label[0]\n",
        "  if device == 'cuda': img, new_img = img.cpu(), new_img.cpu()\n",
        "  show_original_set = img.view(img.size(0),28, 28).numpy()\n",
        "  show_gen_set = new_img.view(new_img.size(0), 28, 28).numpy()\n",
        "\n",
        "  for i in range(8):\n",
        "    show_original = show_original_set[i]\n",
        "    show_gen = show_gen_set[i]\n",
        "\n",
        "    plt.subplot(2, 8, i+1)\n",
        "    plt.title('ori')\n",
        "    plt.imshow(show_original, cmap='gray')\n",
        "    plt.subplot(2, 8, i + 9)\n",
        "    plt.title('gen')\n",
        "    plt.imshow(show_gen, cmap = 'gray')\n",
        "    \n",
        "  plt.suptitle('Epoch: {}'.format(epoch+1), fontsize=16)"
      ],
      "execution_count": 18,
      "outputs": [
        {
          "output_type": "display_data",
          "data": {
            "image/png": "[encoded data removed]",
            "text/plain": [
              "<Figure size 432x288 with 16 Axes>"
            ]
          },
          "metadata": {
            "tags": [],
            "needs_background": "light"
          }
        }
      ]
    },
    {
      "cell_type": "code",
      "metadata": {
        "id": "0XMBHdsUQOYe",
        "colab_type": "code",
        "colab": {
          "base_uri": "https://localhost:8080/",
          "height": 241
        },
        "outputId": "912fa93f-9a81-4919-bd77-96e04b501714"
      },
      "source": [
        "# 랜덤 입력에는 어떻게 반응하는지 궁금해서 넣어보려 했는데 GPU 에러 뜸\n",
        "\n",
        "with torch.no_grad():\n",
        "  input = torch.randn(64, 1, 28, 28).to(device)\n",
        "  z, mu, var = model.encode(input)\n",
        "  new_img = model.decode(z)\n",
        "\n",
        "  if device == 'cuda': test_out = test_out.cpu()\n",
        "  show = test_out[0].view(28,28).numpy()\n",
        "  plt.imshow(show, cmap='gray')"
      ],
      "execution_count": 26,
      "outputs": [
        {
          "output_type": "error",
          "ename": "RuntimeError",
          "evalue": "ignored",
          "traceback": [
            "\u001b[0;31m---------------------------------------------------------------------------\u001b[0m",
            "\u001b[0;31mRuntimeError\u001b[0m                              Traceback (most recent call last)",
            "\u001b[0;32m<ipython-input-26-14d69ae036ef>\u001b[0m in \u001b[0;36m<module>\u001b[0;34m()\u001b[0m\n\u001b[1;32m      1\u001b[0m \u001b[0;32mwith\u001b[0m \u001b[0mtorch\u001b[0m\u001b[0;34m.\u001b[0m\u001b[0mno_grad\u001b[0m\u001b[0;34m(\u001b[0m\u001b[0;34m)\u001b[0m\u001b[0;34m:\u001b[0m\u001b[0;34m\u001b[0m\u001b[0;34m\u001b[0m\u001b[0m\n\u001b[0;32m----> 2\u001b[0;31m   \u001b[0minput\u001b[0m \u001b[0;34m=\u001b[0m \u001b[0mtorch\u001b[0m\u001b[0;34m.\u001b[0m\u001b[0mrandn\u001b[0m\u001b[0;34m(\u001b[0m\u001b[0;36m64\u001b[0m\u001b[0;34m,\u001b[0m \u001b[0;36m1\u001b[0m\u001b[0;34m,\u001b[0m \u001b[0;36m28\u001b[0m\u001b[0;34m,\u001b[0m \u001b[0;36m28\u001b[0m\u001b[0;34m)\u001b[0m\u001b[0;34m.\u001b[0m\u001b[0mto\u001b[0m\u001b[0;34m(\u001b[0m\u001b[0mdevice\u001b[0m\u001b[0;34m)\u001b[0m\u001b[0;34m\u001b[0m\u001b[0;34m\u001b[0m\u001b[0m\n\u001b[0m\u001b[1;32m      3\u001b[0m   \u001b[0mz\u001b[0m\u001b[0;34m,\u001b[0m \u001b[0mmu\u001b[0m\u001b[0;34m,\u001b[0m \u001b[0mvar\u001b[0m \u001b[0;34m=\u001b[0m \u001b[0mmodel\u001b[0m\u001b[0;34m.\u001b[0m\u001b[0mencode\u001b[0m\u001b[0;34m(\u001b[0m\u001b[0minput\u001b[0m\u001b[0;34m)\u001b[0m\u001b[0;34m\u001b[0m\u001b[0;34m\u001b[0m\u001b[0m\n\u001b[1;32m      4\u001b[0m   \u001b[0mnew_img\u001b[0m \u001b[0;34m=\u001b[0m \u001b[0mmodel\u001b[0m\u001b[0;34m.\u001b[0m\u001b[0mdecode\u001b[0m\u001b[0;34m(\u001b[0m\u001b[0mz\u001b[0m\u001b[0;34m)\u001b[0m\u001b[0;34m\u001b[0m\u001b[0;34m\u001b[0m\u001b[0m\n\u001b[1;32m      5\u001b[0m \u001b[0;34m\u001b[0m\u001b[0m\n",
            "\u001b[0;31mRuntimeError\u001b[0m: CUDA error: an illegal memory access was encountered"
          ]
        }
      ]
    }
  ]
}