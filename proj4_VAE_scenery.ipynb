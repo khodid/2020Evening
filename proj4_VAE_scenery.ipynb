{
  "nbformat": 4,
  "nbformat_minor": 0,
  "metadata": {
    "colab": {
      "name": "proj4_VAE_scenery.ipynb",
      "provenance": [],
      "collapsed_sections": [],
      "authorship_tag": "ABX9TyNN5V/RoRu9f8SoOqRVDUva",
      "include_colab_link": true
    },
    "kernelspec": {
      "name": "python3",
      "display_name": "Python 3"
    },
    "accelerator": "GPU"
  },
  "cells": [
    {
      "cell_type": "markdown",
      "metadata": {
        "id": "view-in-github",
        "colab_type": "text"
      },
      "source": [
        "<a href=\"https://colab.research.google.com/github/khodid/2020Evening/blob/master/proj4_VAE_scenery.ipynb\" target=\"_parent\"><img src=\"https://colab.research.google.com/assets/colab-badge.svg\" alt=\"Open In Colab\"/></a>"
      ]
    },
    {
      "cell_type": "markdown",
      "metadata": {
        "id": "yq-uw4xgYSrS",
        "colab_type": "text"
      },
      "source": [
        "# 처음에 시도했던 배경사진 VAE 재도전\n",
        "\n",
        "그냥 [proj3](https://github.com/khodid/2020Evening/blob/master/proj3_MNIST_VAE.ipynb)에서 성공시킨 모델 그대로 사용할 거임"
      ]
    },
    {
      "cell_type": "markdown",
      "metadata": {
        "id": "IeGpUs7lYY9a",
        "colab_type": "text"
      },
      "source": [
        "## 이미지 Import\n",
        "1. Colab과 Google Drive 연결\n",
        "2. dataloader 설정\n",
        "3. 컴퓨팅 디바이스 설정"
      ]
    },
    {
      "cell_type": "code",
      "metadata": {
        "id": "giDRE5GfYOI0",
        "colab_type": "code",
        "colab": {
          "base_uri": "https://localhost:8080/",
          "height": 126
        },
        "outputId": "c3eac362-1027-449e-fbe9-6fa13d1efdc8"
      },
      "source": [
        "from google.colab import drive\n",
        "drive.mount('/content/gdrive')"
      ],
      "execution_count": 1,
      "outputs": [
        {
          "output_type": "stream",
          "text": [
            "Go to this URL in a browser: https://accounts.google.com/o/oauth2/auth?client_id=947318989803-6bn6qk8qdgf4n4g3pfee6491hc0brc4i.apps.googleusercontent.com&redirect_uri=urn%3aietf%3awg%3aoauth%3a2.0%3aoob&scope=email%20https%3a%2f%2fwww.googleapis.com%2fauth%2fdocs.test%20https%3a%2f%2fwww.googleapis.com%2fauth%2fdrive%20https%3a%2f%2fwww.googleapis.com%2fauth%2fdrive.photos.readonly%20https%3a%2f%2fwww.googleapis.com%2fauth%2fpeopleapi.readonly&response_type=code\n",
            "\n",
            "Enter your authorization code:\n",
            "··········\n",
            "Mounted at /content/gdrive\n"
          ],
          "name": "stdout"
        }
      ]
    },
    {
      "cell_type": "code",
      "metadata": {
        "id": "GDZZ4RsubSHn",
        "colab_type": "code",
        "colab": {
          "base_uri": "https://localhost:8080/",
          "height": 266
        },
        "outputId": "170a565a-4e08-49d2-b68a-d8820d512228"
      },
      "source": [
        "import torchvision\n",
        "from torchvision import transforms\n",
        "\n",
        "root = '/content/gdrive/My Drive/Kaggle/scene-classification/train-scene classification/train'\n",
        "\n",
        "trans= transforms.Compose([\n",
        "                              transforms.Resize([48, 48]),\n",
        "                              transforms.ToTensor()\n",
        "])\n",
        "\n",
        "train_data = torchvision.datasets.ImageFolder(root = root, transform= trans)\n",
        "\n",
        "import matplotlib.pyplot as plt\n",
        "showimg = train_data[10][0].numpy().transpose(1,2,0)\n",
        "\n",
        "plt.imshow(showimg) # train_data[순서][0: 이미지 / 1: 라벨]\n",
        "plt.axis('off')"
      ],
      "execution_count": 2,
      "outputs": [
        {
          "output_type": "execute_result",
          "data": {
            "text/plain": [
              "(-0.5, 47.5, 47.5, -0.5)"
            ]
          },
          "metadata": {
            "tags": []
          },
          "execution_count": 2
        },
        {
          "output_type": "display_data",
          "data": {
            "image/png": "[encoded data removed]",
            "text/plain": [
              "<Figure size 432x288 with 1 Axes>"
            ]
          },
          "metadata": {
            "tags": [],
            "needs_background": "light"
          }
        }
      ]
    },
    {
      "cell_type": "code",
      "metadata": {
        "id": "Olx6TWoee7VC",
        "colab_type": "code",
        "colab": {}
      },
      "source": [
        "import torch.utils\n",
        "\n",
        "# dataloader 설정\n",
        "batch_size = 10\n",
        "train_set = torch.utils.data.DataLoader(train_data, batch_size= batch_size, shuffle = True, drop_last = True)"
      ],
      "execution_count": 3,
      "outputs": []
    },
    {
      "cell_type": "code",
      "metadata": {
        "id": "EDyCdPhlfRAp",
        "colab_type": "code",
        "colab": {}
      },
      "source": [
        "# 디바이스 설정\n",
        "import torch.cuda\n",
        "device = 'cuda' if torch.cuda.is_available() else 'cpu'\n",
        "\n",
        "torch.manual_seed(777)\n",
        "if device == 'cuda' : torch.cuda.manual_seed_all(777)"
      ],
      "execution_count": 4,
      "outputs": []
    },
    {
      "cell_type": "code",
      "metadata": {
        "id": "2EMbcmqdfSTd",
        "colab_type": "code",
        "colab": {
          "base_uri": "https://localhost:8080/",
          "height": 52
        },
        "outputId": "81df952e-0485-4a6a-d176-8a6491473f9c"
      },
      "source": [
        "# Checking training data shape\n",
        "print(type(train_set))\n",
        "for img, label in train_set:\n",
        "  break\n",
        "print(img.shape)"
      ],
      "execution_count": 5,
      "outputs": [
        {
          "output_type": "stream",
          "text": [
            "<class 'torch.utils.data.dataloader.DataLoader'>\n",
            "torch.Size([10, 3, 48, 48])\n"
          ],
          "name": "stdout"
        }
      ]
    },
    {
      "cell_type": "markdown",
      "metadata": {
        "id": "2MdMnIlTfuoz",
        "colab_type": "text"
      },
      "source": [
        "## 모델 설정\n",
        "1. 모델 정의(기존 proj3에서 그대로 따옴)\n",
        "2. 모델 테스트\n",
        "3. 모델 선언"
      ]
    },
    {
      "cell_type": "code",
      "metadata": {
        "id": "N6P-1RobfYCQ",
        "colab_type": "code",
        "colab": {}
      },
      "source": [
        "import torch.nn as nn\n",
        "\n",
        "class VAE(nn.Module):\n",
        "  def __init__(self, latent_size):\n",
        "    super(VAE, self).__init__()\n",
        "    self.latent_size = latent_size\n",
        "    self.encoder = nn.Sequential(\n",
        "                                  # layer 1\n",
        "                                  nn.Conv2d(3, 16, kernel_size = 5, stride = 1, padding = 2), # 3(48, 48) -> 16(48, 48)\n",
        "                                  nn.BatchNorm2d(16),\n",
        "                                  nn.ReLU(),\n",
        "                                  \n",
        "                                  #layer 2\n",
        "                                  nn.Conv2d(16, 32, kernel_size = 5, stride = 2, padding=2), # 16(48, 48) -> 32(24, 24)\n",
        "                                  nn.BatchNorm2d(32),\n",
        "                                  nn.ReLU(),\n",
        "\n",
        "                                  # layer 3\n",
        "                                  nn. Conv2d(32, 32, kernel_size= 3, stride = 2, padding = 1), # 32(24, 24) -> 32(12, 12)\n",
        "                                  nn.BatchNorm2d(32),\n",
        "                                  nn.ReLU(),\n",
        "\n",
        "                                  # output layer\n",
        "                                  nn.Flatten()  # 32*12*12 = 4608\n",
        "    )\n",
        "    self.fc_mu = nn.Linear(4608, self.latent_size)\n",
        "    self.fc_logvar = nn.Linear(4608, self.latent_size)\n",
        "    self.fc_decode = nn.Linear(self.latent_size, 4608)\n",
        "    self.decoder = nn.Sequential(\n",
        "                                  # \n",
        "                                  # 3-T\n",
        "                                  nn.ConvTranspose2d(32, 32, kernel_size = 3, stride = 2, padding=1, output_padding=1),\n",
        "                                  nn.BatchNorm2d(32),\n",
        "                                  nn.LeakyReLU(),\n",
        "\n",
        "                                  # 2-T\n",
        "                                  nn.ConvTranspose2d(32, 16, kernel_size=5, stride=2, padding=2, output_padding=1),\n",
        "                                  nn.BatchNorm2d(16),\n",
        "                                  nn.LeakyReLU(),\n",
        "\n",
        "                                  # 1-T\n",
        "                                  nn.ConvTranspose2d(16, 3, kernel_size=5, stride=1, padding=2),\n",
        "                                  nn.Sigmoid()\n",
        "    )\n",
        "  def reparameterize(self, mu, var):\n",
        "    sigma = torch.exp(0.5*var)\n",
        "    epsilon = torch.randn_like(sigma)\n",
        "    return mu + sigma * epsilon\n",
        "\n",
        "  def encode(self, img):\n",
        "    h = self.encoder(img)\n",
        "    mu, log_var = self.fc_mu(h), self.fc_logvar(h)\n",
        "    z = self.reparameterize(mu, log_var)\n",
        "    return z, mu, log_var\n",
        "\n",
        "  def decode(self, z):\n",
        "    z = self.fc_decode(z)\n",
        "    new_img = self.decoder(z.view(z.size(0), 32, 12, 12))\n",
        "    return new_img\n"
      ],
      "execution_count": 6,
      "outputs": []
    },
    {
      "cell_type": "code",
      "metadata": {
        "id": "S2iMZ5Zsfcp_",
        "colab_type": "code",
        "colab": {
          "base_uri": "https://localhost:8080/",
          "height": 338
        },
        "outputId": "b2983f49-cbc3-4711-8830-dfb5cf21aa8b"
      },
      "source": [
        "# model test\n",
        "with torch.no_grad():\n",
        "  input = torch.randn(20, 3, 48, 48).to(device)\n",
        "  model = VAE(latent_size = 2).to(device)\n",
        "  test_z, _, _ = model.encode(input)\n",
        "  test_out = model.decode(test_z)\n",
        "\n",
        "  print('====== ENCODER ======')\n",
        "  print(test_z.shape)\n",
        "  print('====== DECODER ======')\n",
        "  print(test_out.shape)\n",
        "\n",
        "  import matplotlib.pyplot as plt\n",
        "  if device == 'cuda': test_out = test_out.cpu()\n",
        "  show = test_out[0].view(3, 48, 48).numpy().transpose(1,2,0)\n",
        "  plt.imshow(show, cmap='gray')"
      ],
      "execution_count": 8,
      "outputs": [
        {
          "output_type": "stream",
          "text": [
            "====== ENCODER ======\n",
            "torch.Size([20, 2])\n",
            "====== DECODER ======\n",
            "torch.Size([20, 3, 48, 48])\n"
          ],
          "name": "stdout"
        },
        {
          "output_type": "display_data",
          "data": {
            "image/png": "[encoded data removed]",
            "text/plain": [
              "<Figure size 432x288 with 1 Axes>"
            ]
          },
          "metadata": {
            "tags": [],
            "needs_background": "light"
          }
        }
      ]
    },
    {
      "cell_type": "code",
      "metadata": {
        "id": "tFMeTiuofyKu",
        "colab_type": "code",
        "colab": {
          "base_uri": "https://localhost:8080/",
          "height": 497
        },
        "outputId": "23031464-b881-4198-a2e0-43f74e055bb8"
      },
      "source": [
        "model = VAE(latent_size= 35).to(device)\n",
        "model.train()"
      ],
      "execution_count": 9,
      "outputs": [
        {
          "output_type": "execute_result",
          "data": {
            "text/plain": [
              "VAE(\n",
              "  (encoder): Sequential(\n",
              "    (0): Conv2d(3, 16, kernel_size=(5, 5), stride=(1, 1), padding=(2, 2))\n",
              "    (1): BatchNorm2d(16, eps=1e-05, momentum=0.1, affine=True, track_running_stats=True)\n",
              "    (2): ReLU()\n",
              "    (3): Conv2d(16, 32, kernel_size=(5, 5), stride=(2, 2), padding=(2, 2))\n",
              "    (4): BatchNorm2d(32, eps=1e-05, momentum=0.1, affine=True, track_running_stats=True)\n",
              "    (5): ReLU()\n",
              "    (6): Conv2d(32, 32, kernel_size=(3, 3), stride=(2, 2), padding=(1, 1))\n",
              "    (7): BatchNorm2d(32, eps=1e-05, momentum=0.1, affine=True, track_running_stats=True)\n",
              "    (8): ReLU()\n",
              "    (9): Flatten()\n",
              "  )\n",
              "  (fc_mu): Linear(in_features=4608, out_features=35, bias=True)\n",
              "  (fc_logvar): Linear(in_features=4608, out_features=35, bias=True)\n",
              "  (fc_decode): Linear(in_features=35, out_features=4608, bias=True)\n",
              "  (decoder): Sequential(\n",
              "    (0): ConvTranspose2d(32, 32, kernel_size=(3, 3), stride=(2, 2), padding=(1, 1), output_padding=(1, 1))\n",
              "    (1): BatchNorm2d(32, eps=1e-05, momentum=0.1, affine=True, track_running_stats=True)\n",
              "    (2): LeakyReLU(negative_slope=0.01)\n",
              "    (3): ConvTranspose2d(32, 16, kernel_size=(5, 5), stride=(2, 2), padding=(2, 2), output_padding=(1, 1))\n",
              "    (4): BatchNorm2d(16, eps=1e-05, momentum=0.1, affine=True, track_running_stats=True)\n",
              "    (5): LeakyReLU(negative_slope=0.01)\n",
              "    (6): ConvTranspose2d(16, 3, kernel_size=(5, 5), stride=(1, 1), padding=(2, 2))\n",
              "    (7): Sigmoid()\n",
              "  )\n",
              ")"
            ]
          },
          "metadata": {
            "tags": []
          },
          "execution_count": 9
        }
      ]
    },
    {
      "cell_type": "markdown",
      "metadata": {
        "id": "OUVDf6eSfsbQ",
        "colab_type": "text"
      },
      "source": [
        "## 학습\n",
        "여기 역시 proj3에서 그대로 따옴"
      ]
    },
    {
      "cell_type": "code",
      "metadata": {
        "id": "SbDbFw3HgWBa",
        "colab_type": "code",
        "colab": {}
      },
      "source": [
        "def loss_function(x, target, mu, log_var):\n",
        "  x, target = x.view(-1,6912), target.view(-1, 6912) # 안 넣으면 오류남\n",
        "  # r_loss = torch.sqrt(torch.mean(torch.square(target - x)) + 1e-7) # p98 참고 # 0 되는 걸 방지하기 위해\n",
        "  r_loss = nn.functional.binary_cross_entropy(x, target, reduction='sum')\n",
        "  kl_div = -0.5 * torch.sum(1 + log_var - mu.pow(2) - log_var.exp())\n",
        "  return r_loss, kl_div, r_loss + kl_div"
      ],
      "execution_count": 10,
      "outputs": []
    },
    {
      "cell_type": "code",
      "metadata": {
        "id": "LCyUF3HZo0Kl",
        "colab_type": "code",
        "colab": {}
      },
      "source": [
        "# 진행상황 모니터링용\n",
        "tags = ['Buildings', 'Forests', 'Mountains', 'Glacier', 'Street', 'Sea']\n",
        "\n",
        "def compare_img(img, new_img, label, epoch):\n",
        "  with torch.no_grad():\n",
        "    if device == 'cuda': img, new_img = img.cpu(), new_img.cpu()\n",
        "    show_original = img.view(3, 48, 48).numpy().transpose(1,2,0)\n",
        "    show_gen = new_img.view(3, 48, 48).numpy().transpose(1,2,0)\n",
        "\n",
        "    plt.subplot(1, 2, 1)\n",
        "    plt.title('original')\n",
        "    plt.imshow(show_original, cmap='gray')\n",
        "    plt.subplot(1, 2, 2)\n",
        "    plt.title('generated')\n",
        "    plt.imshow(show_gen, cmap = 'gray')\n",
        "    \n",
        "    plt.suptitle('Epoch: {} [label-{}]'.format(epoch, tags(label)), fontsize=16)\n",
        "    plt.savefig('VAE_scenery_train_{}.png'.format(epoch))\n",
        "\n",
        "    plt.clf() # 다음 그림 위해서 비워두기"
      ],
      "execution_count": 11,
      "outputs": []
    },
    {
      "cell_type": "code",
      "metadata": {
        "id": "nj9HJgAXso0E",
        "colab_type": "code",
        "colab": {
          "base_uri": "https://localhost:8080/",
          "height": 35
        },
        "outputId": "a11c8398-bca7-4bdb-ba34-491cca393bfa"
      },
      "source": [
        "compare_img(test_out[0],test_out[1],0, 999)"
      ],
      "execution_count": 12,
      "outputs": [
        {
          "output_type": "display_data",
          "data": {
            "text/plain": [
              "<Figure size 432x288 with 0 Axes>"
            ]
          },
          "metadata": {
            "tags": []
          }
        }
      ]
    },
    {
      "cell_type": "code",
      "metadata": {
        "id": "dgzvg8xotHSM",
        "colab_type": "code",
        "colab": {}
      },
      "source": [
        "optimizer = torch.optim.RMSprop(model.parameters(),lr = 0.001)"
      ],
      "execution_count": 13,
      "outputs": []
    },
    {
      "cell_type": "code",
      "metadata": {
        "id": "X7D02op6ti4D",
        "colab_type": "code",
        "colab": {
          "base_uri": "https://localhost:8080/",
          "height": 35
        },
        "outputId": "cc40e8b0-0b41-430b-d510-4d29ffa11a6c"
      },
      "source": [
        "lenth = len(train_set)\n",
        "print(lenth)"
      ],
      "execution_count": 14,
      "outputs": [
        {
          "output_type": "stream",
          "text": [
            "1702\n"
          ],
          "name": "stdout"
        }
      ]
    },
    {
      "cell_type": "markdown",
      "metadata": {
        "id": "IUmx0A6zjJES",
        "colab_type": "text"
      },
      "source": [
        "## Training\n",
        "\n",
        "img = img.to(device) 부분에서 \n",
        "\n",
        "> CUDA error: device-side assert triggered\n",
        "\n",
        "라는 오류가 발생했는데, [https://brstar96.github.io/shoveling/device_error_summary/](https://brstar96.github.io/shoveling/device_error_summary/)를 참고 해보니 이 문제는 복합적인 원인에 의해 일어나는 듯 했다."
      ]
    },
    {
      "cell_type": "markdown",
      "metadata": {
        "id": "9sNum20fKuZ5",
        "colab_type": "text"
      },
      "source": [
        "나는 다음과 같은 해결 방법을 시도해봤다.\n",
        "\n",
        "1. 런타임 유형을 CPU로 변경한다.(실패)\n",
        " - GPU 프로세싱 자체에서 문제가 발생했을 수 있다고 생각하여 런타임 유형을 GPU에서 CPU로 변경해보았다. 그 결과 새로 생성한 이미지의 값이 모두 NaN으로 출력되는 현상이 발생했다. 원인을 잘 모르겠다.\n",
        "2. batch size를 줄여본다. (부분 실패)\n",
        " - 기존 batch size가 20이었던 것을 10으로 줄여 본다.\n",
        " - 1에서 에러가 발생한 원인을 찾음. batch size가 10일 때도 **loss가 16자리, 18자리에 육박하는 큰 수**였고, loss를 전부 합하는 방식을 채택했기 때문에 batch size가 20일 땐 훨씬 큰 수였기 때문에 오류가 발생했던 것 같음. batch size를 5로 축소했을 때도 같은 문제 발생. batch_size\\*3\\*64\\*64 개의 loss의 총합을 구하는 것 자체가 너무 큰 것 같아서 이미지 사이즈 자체를 좀더 줄여보기로 함.\n",
        "3. 이미지 크기를 줄여 본다.\n",
        "  - 기존 3X64X64로 줄였던 것을 3X48X48로 다시 한 번 축소. 이미지의 형상을 알아보는 데엔 무리가 없음.\n",
        "  - 3X64X64 =12288 --> 3X48X48=6912 로 계산해야 할 데이터량을 절반으로 줄임. loss 값도 4만 대로 연산 가능한 숫자로 확 줄어든 것을 관찰할 수 있었음."
      ]
    },
    {
      "cell_type": "code",
      "metadata": {
        "id": "0CAF0gnetkq8",
        "colab_type": "code",
        "colab": {
          "base_uri": "https://localhost:8080/",
          "height": 1000
        },
        "outputId": "dd199c73-7a92-40bf-9aaf-d8df9c4330cf"
      },
      "source": [
        "epochs = 50\n",
        "tick = [0, 5, 8, 10, 15, 20, 30, 50, 100, 120, 150, 180, 200]\n",
        "\n",
        "model.train(True)\n",
        "\n",
        "for epoch in range(epochs):\n",
        "  for idx, (img, label) in enumerate(train_set):\n",
        "    img = img.to(device)\n",
        "    \n",
        "    z, mu, var = model.encode(img)\n",
        "    new_img = model.decode(z)\n",
        "    r, k, loss = loss_function(new_img, img, mu, var)\n",
        "    \n",
        "    optimizer.zero_grad()\n",
        "    loss.backward()\n",
        "    optimizer.step()\n",
        "    if (idx+1) % 20 is 0 : print('Epoch [{}/{}] Step [{}/{}] loss: {} rmse: {}, kl_div: {}'.format(epoch+1, epochs, idx+1, lenth, loss.item(), r.item(), k.item()))\n",
        "  if epoch in tick : compare_img(img[0], new_img[0], label[0], epoch)\n",
        "compare_img(img[0], new_img[0], label[0], epoch+1)"
      ],
      "execution_count": 17,
      "outputs": [
        {
          "output_type": "stream",
          "text": [
            "Epoch [1/50] Step [20/1702] loss: 45152.0390625 rmse: 42260.5546875, kl_div: 2891.484375\n",
            "Epoch [1/50] Step [40/1702] loss: 45869.8203125 rmse: 42979.47265625, kl_div: 2890.346923828125\n",
            "Epoch [1/50] Step [60/1702] loss: 44805.80078125 rmse: 41962.8828125, kl_div: 2842.91845703125\n",
            "Epoch [1/50] Step [80/1702] loss: 47789.2890625 rmse: 44580.96484375, kl_div: 3208.32470703125\n",
            "Epoch [1/50] Step [100/1702] loss: 46082.953125 rmse: 43140.2421875, kl_div: 2942.708984375\n",
            "Epoch [1/50] Step [120/1702] loss: 44980.4765625 rmse: 42690.5234375, kl_div: 2289.953369140625\n",
            "Epoch [1/50] Step [140/1702] loss: 45173.51171875 rmse: 42681.96875, kl_div: 2491.54345703125\n",
            "Epoch [1/50] Step [160/1702] loss: 45724.8359375 rmse: 42868.01171875, kl_div: 2856.82568359375\n",
            "Epoch [1/50] Step [180/1702] loss: 46077.35546875 rmse: 42920.35546875, kl_div: 3156.998291015625\n",
            "Epoch [1/50] Step [200/1702] loss: 45383.47265625 rmse: 42638.58203125, kl_div: 2744.890625\n",
            "Epoch [1/50] Step [220/1702] loss: 50438.8515625 rmse: 47365.17578125, kl_div: 3073.677490234375\n",
            "Epoch [1/50] Step [240/1702] loss: 45239.765625 rmse: 42907.59375, kl_div: 2332.170654296875\n",
            "Epoch [1/50] Step [260/1702] loss: 44078.75 rmse: 41260.3671875, kl_div: 2818.3828125\n",
            "Epoch [1/50] Step [280/1702] loss: 44880.22265625 rmse: 42601.0390625, kl_div: 2279.182373046875\n",
            "Epoch [1/50] Step [300/1702] loss: 1151221.0 rmse: 49451.49609375, kl_div: 1101769.5\n",
            "Epoch [1/50] Step [320/1702] loss: 43053.91015625 rmse: 40482.703125, kl_div: 2571.207763671875\n",
            "Epoch [1/50] Step [340/1702] loss: 43892.0078125 rmse: 41107.35546875, kl_div: 2784.650390625\n",
            "Epoch [1/50] Step [360/1702] loss: 41569.70703125 rmse: 39145.02734375, kl_div: 2424.68115234375\n",
            "Epoch [1/50] Step [380/1702] loss: 44223.578125 rmse: 42137.6796875, kl_div: 2085.89990234375\n",
            "Epoch [1/50] Step [400/1702] loss: 40935.4140625 rmse: 38592.84375, kl_div: 2342.571044921875\n",
            "Epoch [1/50] Step [420/1702] loss: 43617.53515625 rmse: 41091.953125, kl_div: 2525.5830078125\n",
            "Epoch [1/50] Step [440/1702] loss: 42629.60546875 rmse: 40221.6796875, kl_div: 2407.926513671875\n",
            "Epoch [1/50] Step [460/1702] loss: 44934.55078125 rmse: 42808.421875, kl_div: 2126.12939453125\n",
            "Epoch [1/50] Step [480/1702] loss: 43371.06640625 rmse: 41311.265625, kl_div: 2059.7998046875\n",
            "Epoch [1/50] Step [500/1702] loss: 46211.67578125 rmse: 44140.609375, kl_div: 2071.064697265625\n",
            "Epoch [1/50] Step [520/1702] loss: 42784.1640625 rmse: 40132.87890625, kl_div: 2651.28662109375\n",
            "Epoch [1/50] Step [540/1702] loss: 44117.02734375 rmse: 41177.26953125, kl_div: 2939.7568359375\n",
            "Epoch [1/50] Step [560/1702] loss: 43110.2421875 rmse: 40412.515625, kl_div: 2697.728271484375\n",
            "Epoch [1/50] Step [580/1702] loss: 44020.94921875 rmse: 40915.8984375, kl_div: 3105.05078125\n",
            "Epoch [1/50] Step [600/1702] loss: 43264.00390625 rmse: 41121.8515625, kl_div: 2142.1533203125\n",
            "Epoch [1/50] Step [620/1702] loss: 42198.203125 rmse: 39912.7109375, kl_div: 2285.49169921875\n",
            "Epoch [1/50] Step [640/1702] loss: 43683.78515625 rmse: 40323.8671875, kl_div: 3359.91943359375\n",
            "Epoch [1/50] Step [660/1702] loss: 43431.40234375 rmse: 41042.51953125, kl_div: 2388.8837890625\n",
            "Epoch [1/50] Step [680/1702] loss: 43111.1328125 rmse: 40877.7734375, kl_div: 2233.3603515625\n",
            "Epoch [1/50] Step [700/1702] loss: 42933.41796875 rmse: 40913.125, kl_div: 2020.29296875\n",
            "Epoch [1/50] Step [720/1702] loss: 44112.7265625 rmse: 41570.625, kl_div: 2542.10302734375\n",
            "Epoch [1/50] Step [740/1702] loss: 45436.765625 rmse: 42674.7890625, kl_div: 2761.97509765625\n",
            "Epoch [1/50] Step [760/1702] loss: 45395.93359375 rmse: 42871.8984375, kl_div: 2524.03369140625\n",
            "Epoch [1/50] Step [780/1702] loss: 46444.73828125 rmse: 43542.5234375, kl_div: 2902.21337890625\n",
            "Epoch [1/50] Step [800/1702] loss: 44460.296875 rmse: 41794.68359375, kl_div: 2665.615234375\n",
            "Epoch [1/50] Step [820/1702] loss: 46982.20703125 rmse: 43231.2265625, kl_div: 3750.98046875\n",
            "Epoch [1/50] Step [840/1702] loss: 41984.671875 rmse: 39480.9921875, kl_div: 2503.67822265625\n",
            "Epoch [1/50] Step [860/1702] loss: 44731.9921875 rmse: 42316.8203125, kl_div: 2415.1728515625\n",
            "Epoch [1/50] Step [880/1702] loss: 43141.63671875 rmse: 40835.1171875, kl_div: 2306.52001953125\n",
            "Epoch [1/50] Step [900/1702] loss: 43024.65234375 rmse: 40994.421875, kl_div: 2030.230224609375\n",
            "Epoch [1/50] Step [920/1702] loss: 43721.515625 rmse: 41409.8203125, kl_div: 2311.6962890625\n",
            "Epoch [1/50] Step [940/1702] loss: 43543.3125 rmse: 41268.625, kl_div: 2274.68798828125\n",
            "Epoch [1/50] Step [960/1702] loss: 43096.484375 rmse: 41020.9765625, kl_div: 2075.508544921875\n",
            "Epoch [1/50] Step [980/1702] loss: 43225.14453125 rmse: 40735.12890625, kl_div: 2490.015380859375\n",
            "Epoch [1/50] Step [1000/1702] loss: 43760.9375 rmse: 41532.06640625, kl_div: 2228.86962890625\n",
            "Epoch [1/50] Step [1020/1702] loss: 41034.6171875 rmse: 38749.3984375, kl_div: 2285.22021484375\n",
            "Epoch [1/50] Step [1040/1702] loss: 44175.4140625 rmse: 41469.32421875, kl_div: 2706.091796875\n",
            "Epoch [1/50] Step [1060/1702] loss: 43736.125 rmse: 41316.06640625, kl_div: 2420.0576171875\n",
            "Epoch [1/50] Step [1080/1702] loss: 45054.94140625 rmse: 41670.40234375, kl_div: 3384.53759765625\n",
            "Epoch [1/50] Step [1100/1702] loss: 43818.3515625 rmse: 41931.84765625, kl_div: 1886.5050048828125\n",
            "Epoch [1/50] Step [1120/1702] loss: 44338.09375 rmse: 41748.69140625, kl_div: 2589.403076171875\n",
            "Epoch [1/50] Step [1140/1702] loss: 42197.58203125 rmse: 40064.0390625, kl_div: 2133.54248046875\n",
            "Epoch [1/50] Step [1160/1702] loss: 40806.86328125 rmse: 38530.421875, kl_div: 2276.44287109375\n",
            "Epoch [1/50] Step [1180/1702] loss: 45460.73828125 rmse: 43284.0546875, kl_div: 2176.683349609375\n",
            "Epoch [1/50] Step [1200/1702] loss: 41436.41796875 rmse: 39457.140625, kl_div: 1979.277099609375\n",
            "Epoch [1/50] Step [1220/1702] loss: 42112.046875 rmse: 40263.734375, kl_div: 1848.314208984375\n",
            "Epoch [1/50] Step [1240/1702] loss: 45612.71875 rmse: 42340.33203125, kl_div: 3272.3876953125\n",
            "Epoch [1/50] Step [1260/1702] loss: 45018.359375 rmse: 42954.99609375, kl_div: 2063.3642578125\n",
            "Epoch [1/50] Step [1280/1702] loss: 44684.5625 rmse: 42381.07421875, kl_div: 2303.490234375\n",
            "Epoch [1/50] Step [1300/1702] loss: 43101.8125 rmse: 40372.78515625, kl_div: 2729.02587890625\n",
            "Epoch [1/50] Step [1320/1702] loss: 43489.9296875 rmse: 41137.84375, kl_div: 2352.087158203125\n",
            "Epoch [1/50] Step [1340/1702] loss: 43114.80859375 rmse: 40971.0, kl_div: 2143.80859375\n",
            "Epoch [1/50] Step [1360/1702] loss: 42156.484375 rmse: 40313.08203125, kl_div: 1843.4013671875\n",
            "Epoch [1/50] Step [1380/1702] loss: 45174.828125 rmse: 42804.9140625, kl_div: 2369.91455078125\n",
            "Epoch [1/50] Step [1400/1702] loss: 43178.57421875 rmse: 40744.7578125, kl_div: 2433.81640625\n",
            "Epoch [1/50] Step [1420/1702] loss: 47227.47265625 rmse: 44072.26953125, kl_div: 3155.203125\n",
            "Epoch [1/50] Step [1440/1702] loss: 45456.47265625 rmse: 43259.75, kl_div: 2196.720947265625\n",
            "Epoch [1/50] Step [1460/1702] loss: 41249.27734375 rmse: 38851.01953125, kl_div: 2398.2587890625\n",
            "Epoch [1/50] Step [1480/1702] loss: 42977.97265625 rmse: 40143.6171875, kl_div: 2834.3564453125\n",
            "Epoch [1/50] Step [1500/1702] loss: 42165.7109375 rmse: 39977.0703125, kl_div: 2188.64111328125\n",
            "Epoch [1/50] Step [1520/1702] loss: 44195.51953125 rmse: 41969.40625, kl_div: 2226.11328125\n",
            "Epoch [1/50] Step [1540/1702] loss: 42182.55859375 rmse: 40287.3359375, kl_div: 1895.220947265625\n",
            "Epoch [1/50] Step [1560/1702] loss: 43074.1640625 rmse: 40822.8671875, kl_div: 2251.2958984375\n",
            "Epoch [1/50] Step [1580/1702] loss: 46516.24609375 rmse: 44186.1171875, kl_div: 2330.128173828125\n",
            "Epoch [1/50] Step [1600/1702] loss: 44391.875 rmse: 41944.640625, kl_div: 2447.236328125\n",
            "Epoch [1/50] Step [1620/1702] loss: 42149.53515625 rmse: 40051.71875, kl_div: 2097.817626953125\n",
            "Epoch [1/50] Step [1640/1702] loss: 44072.83203125 rmse: 41077.2578125, kl_div: 2995.572998046875\n",
            "Epoch [1/50] Step [1660/1702] loss: 39685.890625 rmse: 37245.4921875, kl_div: 2440.39990234375\n",
            "Epoch [1/50] Step [1680/1702] loss: 45872.25 rmse: 43205.765625, kl_div: 2666.48388671875\n",
            "Epoch [1/50] Step [1700/1702] loss: 43870.76171875 rmse: 41585.30078125, kl_div: 2285.46240234375\n",
            "Epoch [2/50] Step [20/1702] loss: 46780.84765625 rmse: 43685.7890625, kl_div: 3095.06005859375\n",
            "Epoch [2/50] Step [40/1702] loss: 41834.98046875 rmse: 39438.203125, kl_div: 2396.7763671875\n",
            "Epoch [2/50] Step [60/1702] loss: 44935.14453125 rmse: 42557.953125, kl_div: 2377.190185546875\n",
            "Epoch [2/50] Step [80/1702] loss: 43347.7421875 rmse: 40925.8671875, kl_div: 2421.87353515625\n",
            "Epoch [2/50] Step [100/1702] loss: 42819.421875 rmse: 40036.1015625, kl_div: 2783.322265625\n",
            "Epoch [2/50] Step [120/1702] loss: 42477.0703125 rmse: 39661.98046875, kl_div: 2815.08837890625\n",
            "Epoch [2/50] Step [140/1702] loss: 42503.953125 rmse: 39997.78125, kl_div: 2506.17333984375\n",
            "Epoch [2/50] Step [160/1702] loss: 45166.1953125 rmse: 42528.4453125, kl_div: 2637.75146484375\n",
            "Epoch [2/50] Step [180/1702] loss: 44111.37109375 rmse: 41929.6015625, kl_div: 2181.7705078125\n",
            "Epoch [2/50] Step [200/1702] loss: 41981.984375 rmse: 39661.2421875, kl_div: 2320.744140625\n",
            "Epoch [2/50] Step [220/1702] loss: 42359.09375 rmse: 40101.015625, kl_div: 2258.080078125\n",
            "Epoch [2/50] Step [240/1702] loss: 42361.3046875 rmse: 40037.953125, kl_div: 2323.35205078125\n",
            "Epoch [2/50] Step [260/1702] loss: 44031.24609375 rmse: 41446.6875, kl_div: 2584.5576171875\n",
            "Epoch [2/50] Step [280/1702] loss: 46000.3984375 rmse: 43270.8203125, kl_div: 2729.576171875\n",
            "Epoch [2/50] Step [300/1702] loss: 45716.8984375 rmse: 43344.73828125, kl_div: 2372.1611328125\n",
            "Epoch [2/50] Step [320/1702] loss: 45203.61328125 rmse: 41627.6796875, kl_div: 3575.933837890625\n",
            "Epoch [2/50] Step [340/1702] loss: 43568.62109375 rmse: 40843.3828125, kl_div: 2725.2373046875\n",
            "Epoch [2/50] Step [360/1702] loss: 44861.90625 rmse: 41855.1796875, kl_div: 3006.726806640625\n",
            "Epoch [2/50] Step [380/1702] loss: 47790.30078125 rmse: 45006.4921875, kl_div: 2783.80810546875\n",
            "Epoch [2/50] Step [400/1702] loss: 42513.99609375 rmse: 39903.3984375, kl_div: 2610.59912109375\n",
            "Epoch [2/50] Step [420/1702] loss: 42316.55859375 rmse: 39746.671875, kl_div: 2569.8857421875\n",
            "Epoch [2/50] Step [440/1702] loss: 44927.34375 rmse: 42027.55859375, kl_div: 2899.78515625\n",
            "Epoch [2/50] Step [460/1702] loss: 44296.46875 rmse: 41549.6796875, kl_div: 2746.7900390625\n",
            "Epoch [2/50] Step [480/1702] loss: 42776.7578125 rmse: 40376.5546875, kl_div: 2400.2041015625\n",
            "Epoch [2/50] Step [500/1702] loss: 42054.828125 rmse: 39491.7265625, kl_div: 2563.103515625\n",
            "Epoch [2/50] Step [520/1702] loss: 41380.328125 rmse: 39333.6015625, kl_div: 2046.7281494140625\n",
            "Epoch [2/50] Step [540/1702] loss: 47433.5703125 rmse: 43271.4140625, kl_div: 4162.1572265625\n",
            "Epoch [2/50] Step [560/1702] loss: 41814.61328125 rmse: 39471.1953125, kl_div: 2343.416259765625\n",
            "Epoch [2/50] Step [580/1702] loss: 43729.55078125 rmse: 40983.3203125, kl_div: 2746.22998046875\n",
            "Epoch [2/50] Step [600/1702] loss: 43471.5 rmse: 41005.08203125, kl_div: 2466.41748046875\n",
            "Epoch [2/50] Step [620/1702] loss: 43518.25390625 rmse: 41344.99609375, kl_div: 2173.257080078125\n",
            "Epoch [2/50] Step [640/1702] loss: 46784.828125 rmse: 43639.6328125, kl_div: 3145.195556640625\n",
            "Epoch [2/50] Step [660/1702] loss: 44552.7578125 rmse: 41456.55078125, kl_div: 3096.208251953125\n",
            "Epoch [2/50] Step [680/1702] loss: 46118.11328125 rmse: 42889.99609375, kl_div: 3228.116455078125\n",
            "Epoch [2/50] Step [700/1702] loss: 42303.3203125 rmse: 40005.8125, kl_div: 2297.50634765625\n",
            "Epoch [2/50] Step [720/1702] loss: 45159.09375 rmse: 42789.40625, kl_div: 2369.6884765625\n",
            "Epoch [2/50] Step [740/1702] loss: 43723.0625 rmse: 41415.1328125, kl_div: 2307.928466796875\n",
            "Epoch [2/50] Step [760/1702] loss: 44265.91015625 rmse: 42034.6796875, kl_div: 2231.230224609375\n",
            "Epoch [2/50] Step [780/1702] loss: 42178.7734375 rmse: 39310.5390625, kl_div: 2868.234130859375\n",
            "Epoch [2/50] Step [800/1702] loss: 43694.1015625 rmse: 40830.9921875, kl_div: 2863.107666015625\n",
            "Epoch [2/50] Step [820/1702] loss: 44701.82421875 rmse: 41901.48828125, kl_div: 2800.337646484375\n",
            "Epoch [2/50] Step [840/1702] loss: 43579.8046875 rmse: 40899.9609375, kl_div: 2679.844970703125\n",
            "Epoch [2/50] Step [860/1702] loss: 40912.796875 rmse: 38633.09375, kl_div: 2279.701904296875\n",
            "Epoch [2/50] Step [880/1702] loss: 43599.6328125 rmse: 41025.765625, kl_div: 2573.8671875\n",
            "Epoch [2/50] Step [900/1702] loss: 45124.07421875 rmse: 42005.26953125, kl_div: 3118.806396484375\n",
            "Epoch [2/50] Step [920/1702] loss: 43486.61328125 rmse: 40860.3046875, kl_div: 2626.30712890625\n",
            "Epoch [2/50] Step [940/1702] loss: 43673.79296875 rmse: 41041.1484375, kl_div: 2632.64306640625\n",
            "Epoch [2/50] Step [960/1702] loss: 43021.875 rmse: 39656.34375, kl_div: 3365.529296875\n",
            "Epoch [2/50] Step [980/1702] loss: 44732.0859375 rmse: 42226.83203125, kl_div: 2505.252197265625\n",
            "Epoch [2/50] Step [1000/1702] loss: 43455.30078125 rmse: 40949.94140625, kl_div: 2505.359375\n",
            "Epoch [2/50] Step [1020/1702] loss: 45242.53515625 rmse: 42307.8359375, kl_div: 2934.699951171875\n",
            "Epoch [2/50] Step [1040/1702] loss: 45060.88671875 rmse: 42042.78125, kl_div: 3018.10546875\n",
            "Epoch [2/50] Step [1060/1702] loss: 45890.46875 rmse: 42813.453125, kl_div: 3077.0166015625\n",
            "Epoch [2/50] Step [1080/1702] loss: 50227.79296875 rmse: 42776.19921875, kl_div: 7451.5927734375\n",
            "Epoch [2/50] Step [1100/1702] loss: 43988.9140625 rmse: 41127.109375, kl_div: 2861.80322265625\n",
            "Epoch [2/50] Step [1120/1702] loss: 44011.41015625 rmse: 41343.7421875, kl_div: 2667.66845703125\n",
            "Epoch [2/50] Step [1140/1702] loss: 45347.14453125 rmse: 41991.52734375, kl_div: 3355.617431640625\n",
            "Epoch [2/50] Step [1160/1702] loss: 45065.734375 rmse: 42437.1953125, kl_div: 2628.53857421875\n",
            "Epoch [2/50] Step [1180/1702] loss: 43651.0390625 rmse: 40468.25, kl_div: 3182.7900390625\n",
            "Epoch [2/50] Step [1200/1702] loss: 43231.91015625 rmse: 40759.65625, kl_div: 2472.254638671875\n",
            "Epoch [2/50] Step [1220/1702] loss: 44408.56640625 rmse: 41459.12109375, kl_div: 2949.4462890625\n",
            "Epoch [2/50] Step [1240/1702] loss: 42228.33984375 rmse: 38788.48828125, kl_div: 3439.85107421875\n",
            "Epoch [2/50] Step [1260/1702] loss: 42806.359375 rmse: 39590.79296875, kl_div: 3215.564453125\n",
            "Epoch [2/50] Step [1280/1702] loss: 42986.8203125 rmse: 39487.9375, kl_div: 3498.882568359375\n",
            "Epoch [2/50] Step [1300/1702] loss: 43654.5234375 rmse: 41034.328125, kl_div: 2620.19384765625\n",
            "Epoch [2/50] Step [1320/1702] loss: 45402.140625 rmse: 42300.00390625, kl_div: 3102.1357421875\n",
            "Epoch [2/50] Step [1340/1702] loss: 43870.625 rmse: 40732.796875, kl_div: 3137.82861328125\n",
            "Epoch [2/50] Step [1360/1702] loss: 44414.8046875 rmse: 41376.60546875, kl_div: 3038.19970703125\n",
            "Epoch [2/50] Step [1380/1702] loss: 42241.6328125 rmse: 39465.63671875, kl_div: 2775.994140625\n",
            "Epoch [2/50] Step [1400/1702] loss: 43112.19921875 rmse: 39716.984375, kl_div: 3395.214111328125\n",
            "Epoch [2/50] Step [1420/1702] loss: 42920.140625 rmse: 40055.609375, kl_div: 2864.530517578125\n",
            "Epoch [2/50] Step [1440/1702] loss: 41270.9765625 rmse: 39090.6484375, kl_div: 2180.330078125\n",
            "Epoch [2/50] Step [1460/1702] loss: 42636.703125 rmse: 40542.66015625, kl_div: 2094.04150390625\n",
            "Epoch [2/50] Step [1480/1702] loss: 41713.5 rmse: 39052.125, kl_div: 2661.374755859375\n",
            "Epoch [2/50] Step [1500/1702] loss: 44731.76953125 rmse: 42144.40625, kl_div: 2587.36474609375\n",
            "Epoch [2/50] Step [1520/1702] loss: 44861.15625 rmse: 42016.26953125, kl_div: 2844.8857421875\n",
            "Epoch [2/50] Step [1540/1702] loss: 41381.453125 rmse: 38849.890625, kl_div: 2531.5625\n",
            "Epoch [2/50] Step [1560/1702] loss: 44500.21875 rmse: 41765.5390625, kl_div: 2734.680908203125\n",
            "Epoch [2/50] Step [1580/1702] loss: 44594.0078125 rmse: 42006.80859375, kl_div: 2587.19873046875\n",
            "Epoch [2/50] Step [1600/1702] loss: 45598.68359375 rmse: 42382.9765625, kl_div: 3215.70703125\n",
            "Epoch [2/50] Step [1620/1702] loss: 42948.78515625 rmse: 39587.0703125, kl_div: 3361.714599609375\n",
            "Epoch [2/50] Step [1640/1702] loss: 43787.234375 rmse: 40589.80859375, kl_div: 3197.424072265625\n",
            "Epoch [2/50] Step [1660/1702] loss: 43664.2578125 rmse: 40926.2109375, kl_div: 2738.047607421875\n",
            "Epoch [2/50] Step [1680/1702] loss: 43663.67578125 rmse: 40780.265625, kl_div: 2883.41162109375\n",
            "Epoch [2/50] Step [1700/1702] loss: 44233.421875 rmse: 41288.375, kl_div: 2945.04638671875\n",
            "Epoch [3/50] Step [20/1702] loss: 42764.34375 rmse: 40577.69140625, kl_div: 2186.65185546875\n",
            "Epoch [3/50] Step [40/1702] loss: 43221.140625 rmse: 40573.7421875, kl_div: 2647.3984375\n",
            "Epoch [3/50] Step [60/1702] loss: 45072.33203125 rmse: 41595.9296875, kl_div: 3476.4013671875\n",
            "Epoch [3/50] Step [80/1702] loss: 43589.28125 rmse: 40155.1953125, kl_div: 3434.083984375\n",
            "Epoch [3/50] Step [100/1702] loss: 44025.78515625 rmse: 40693.921875, kl_div: 3331.863037109375\n",
            "Epoch [3/50] Step [120/1702] loss: 45295.77734375 rmse: 42379.8125, kl_div: 2915.96337890625\n",
            "Epoch [3/50] Step [140/1702] loss: 53171.0625 rmse: 44709.5234375, kl_div: 8461.5390625\n",
            "Epoch [3/50] Step [160/1702] loss: 47880.21484375 rmse: 42943.23828125, kl_div: 4936.97607421875\n",
            "Epoch [3/50] Step [180/1702] loss: 48872.8125 rmse: 43927.72265625, kl_div: 4945.08984375\n",
            "Epoch [3/50] Step [200/1702] loss: 48146.5703125 rmse: 43359.109375, kl_div: 4787.462890625\n",
            "Epoch [3/50] Step [220/1702] loss: 46457.33984375 rmse: 42464.7578125, kl_div: 3992.583740234375\n",
            "Epoch [3/50] Step [240/1702] loss: 48240.703125 rmse: 44743.38671875, kl_div: 3497.31494140625\n",
            "Epoch [3/50] Step [260/1702] loss: 43155.38671875 rmse: 39467.72265625, kl_div: 3687.66357421875\n",
            "Epoch [3/50] Step [280/1702] loss: 46279.3359375 rmse: 41981.359375, kl_div: 4297.9765625\n",
            "Epoch [3/50] Step [300/1702] loss: 48129.5234375 rmse: 44013.0625, kl_div: 4116.4619140625\n",
            "Epoch [3/50] Step [320/1702] loss: 44254.05078125 rmse: 40606.6953125, kl_div: 3647.35400390625\n",
            "Epoch [3/50] Step [340/1702] loss: 47074.0859375 rmse: 43157.45703125, kl_div: 3916.62744140625\n",
            "Epoch [3/50] Step [360/1702] loss: 45159.0390625 rmse: 41798.828125, kl_div: 3360.2109375\n",
            "Epoch [3/50] Step [380/1702] loss: 44774.37890625 rmse: 41636.84375, kl_div: 3137.5341796875\n",
            "Epoch [3/50] Step [400/1702] loss: 43672.35546875 rmse: 40411.8515625, kl_div: 3260.502197265625\n",
            "Epoch [3/50] Step [420/1702] loss: 44003.6953125 rmse: 40992.0859375, kl_div: 3011.607666015625\n",
            "Epoch [3/50] Step [440/1702] loss: 46351.328125 rmse: 43126.24609375, kl_div: 3225.08154296875\n",
            "Epoch [3/50] Step [460/1702] loss: 44329.38671875 rmse: 41524.3203125, kl_div: 2805.064697265625\n",
            "Epoch [3/50] Step [480/1702] loss: 45663.8984375 rmse: 42400.26171875, kl_div: 3263.63671875\n",
            "Epoch [3/50] Step [500/1702] loss: 45777.453125 rmse: 42980.546875, kl_div: 2796.90673828125\n",
            "Epoch [3/50] Step [520/1702] loss: 46440.03515625 rmse: 42366.359375, kl_div: 4073.674072265625\n",
            "Epoch [3/50] Step [540/1702] loss: 42965.734375 rmse: 39582.0859375, kl_div: 3383.650390625\n",
            "Epoch [3/50] Step [560/1702] loss: 43036.64453125 rmse: 40215.70703125, kl_div: 2820.9384765625\n",
            "Epoch [3/50] Step [580/1702] loss: 45043.0390625 rmse: 41701.5625, kl_div: 3341.4775390625\n",
            "Epoch [3/50] Step [600/1702] loss: 42328.09765625 rmse: 39865.5703125, kl_div: 2462.528564453125\n",
            "Epoch [3/50] Step [620/1702] loss: 42870.3046875 rmse: 40481.3046875, kl_div: 2389.00146484375\n",
            "Epoch [3/50] Step [640/1702] loss: 43641.68359375 rmse: 41176.42578125, kl_div: 2465.25732421875\n",
            "Epoch [3/50] Step [660/1702] loss: 44437.46875 rmse: 41560.4609375, kl_div: 2877.0087890625\n",
            "Epoch [3/50] Step [680/1702] loss: 42101.91796875 rmse: 39714.62890625, kl_div: 2387.28857421875\n",
            "Epoch [3/50] Step [700/1702] loss: 44922.3671875 rmse: 41756.4921875, kl_div: 3165.873779296875\n",
            "Epoch [3/50] Step [720/1702] loss: 43945.65625 rmse: 41375.953125, kl_div: 2569.7021484375\n",
            "Epoch [3/50] Step [740/1702] loss: 41703.8203125 rmse: 39183.21875, kl_div: 2520.60009765625\n",
            "Epoch [3/50] Step [760/1702] loss: 43454.26171875 rmse: 41294.140625, kl_div: 2160.1201171875\n",
            "Epoch [3/50] Step [780/1702] loss: 44935.96484375 rmse: 42438.3203125, kl_div: 2497.64404296875\n",
            "Epoch [3/50] Step [800/1702] loss: 42026.828125 rmse: 39647.171875, kl_div: 2379.654296875\n",
            "Epoch [3/50] Step [820/1702] loss: 44824.69140625 rmse: 42195.7109375, kl_div: 2628.98095703125\n",
            "Epoch [3/50] Step [840/1702] loss: 44672.3984375 rmse: 41933.93359375, kl_div: 2738.463623046875\n",
            "Epoch [3/50] Step [860/1702] loss: 44680.796875 rmse: 41725.51953125, kl_div: 2955.27880859375\n",
            "Epoch [3/50] Step [880/1702] loss: 43139.015625 rmse: 40697.74609375, kl_div: 2441.27099609375\n",
            "Epoch [3/50] Step [900/1702] loss: 42912.99609375 rmse: 40478.79296875, kl_div: 2434.20458984375\n",
            "Epoch [3/50] Step [920/1702] loss: 42604.24609375 rmse: 40328.78125, kl_div: 2275.46533203125\n",
            "Epoch [3/50] Step [940/1702] loss: 43133.39453125 rmse: 39980.03125, kl_div: 3153.361572265625\n",
            "Epoch [3/50] Step [960/1702] loss: 47149.69921875 rmse: 42895.5546875, kl_div: 4254.1435546875\n",
            "Epoch [3/50] Step [980/1702] loss: 43644.9609375 rmse: 41478.609375, kl_div: 2166.349609375\n",
            "Epoch [3/50] Step [1000/1702] loss: 42017.79296875 rmse: 39588.25390625, kl_div: 2429.537841796875\n",
            "Epoch [3/50] Step [1020/1702] loss: 46189.4296875 rmse: 43684.609375, kl_div: 2504.81982421875\n",
            "Epoch [3/50] Step [1040/1702] loss: 42874.63671875 rmse: 40614.8203125, kl_div: 2259.81787109375\n",
            "Epoch [3/50] Step [1060/1702] loss: 41250.015625 rmse: 38760.4140625, kl_div: 2489.60107421875\n",
            "Epoch [3/50] Step [1080/1702] loss: 46895.1328125 rmse: 41953.0390625, kl_div: 4942.0927734375\n",
            "Epoch [3/50] Step [1100/1702] loss: 44135.1328125 rmse: 39864.2265625, kl_div: 4270.90625\n",
            "Epoch [3/50] Step [1120/1702] loss: 46443.265625 rmse: 41389.87109375, kl_div: 5053.396484375\n",
            "Epoch [3/50] Step [1140/1702] loss: 42125.77734375 rmse: 38631.11328125, kl_div: 3494.6650390625\n",
            "Epoch [3/50] Step [1160/1702] loss: 45130.05859375 rmse: 41393.44921875, kl_div: 3736.6083984375\n",
            "Epoch [3/50] Step [1180/1702] loss: 42587.875 rmse: 39422.2109375, kl_div: 3165.66552734375\n",
            "Epoch [3/50] Step [1200/1702] loss: 47204.35546875 rmse: 43109.0390625, kl_div: 4095.3173828125\n",
            "Epoch [3/50] Step [1220/1702] loss: 45585.76171875 rmse: 41980.26171875, kl_div: 3605.499267578125\n",
            "Epoch [3/50] Step [1240/1702] loss: 44978.31640625 rmse: 41292.1796875, kl_div: 3686.1357421875\n",
            "Epoch [3/50] Step [1260/1702] loss: 43715.9765625 rmse: 40574.3828125, kl_div: 3141.59375\n",
            "Epoch [3/50] Step [1280/1702] loss: 44032.37109375 rmse: 40528.23046875, kl_div: 3504.1416015625\n",
            "Epoch [3/50] Step [1300/1702] loss: 43887.046875 rmse: 40449.94921875, kl_div: 3437.0986328125\n",
            "Epoch [3/50] Step [1320/1702] loss: 47112.8515625 rmse: 43808.515625, kl_div: 3304.3369140625\n",
            "Epoch [3/50] Step [1340/1702] loss: 45552.87109375 rmse: 42306.09765625, kl_div: 3246.7734375\n",
            "Epoch [3/50] Step [1360/1702] loss: 45078.03515625 rmse: 42133.4921875, kl_div: 2944.54150390625\n",
            "Epoch [3/50] Step [1380/1702] loss: 42660.91015625 rmse: 39724.26171875, kl_div: 2936.64794921875\n",
            "Epoch [3/50] Step [1400/1702] loss: 46035.234375 rmse: 42785.46484375, kl_div: 3249.77099609375\n",
            "Epoch [3/50] Step [1420/1702] loss: 42989.5546875 rmse: 40008.3125, kl_div: 2981.24169921875\n",
            "Epoch [3/50] Step [1440/1702] loss: 46429.03125 rmse: 41720.1796875, kl_div: 4708.85205078125\n",
            "Epoch [3/50] Step [1460/1702] loss: 46841.5234375 rmse: 43383.8984375, kl_div: 3457.62548828125\n",
            "Epoch [3/50] Step [1480/1702] loss: 42619.65625 rmse: 38582.421875, kl_div: 4037.23291015625\n",
            "Epoch [3/50] Step [1500/1702] loss: 73845.171875 rmse: 43213.59375, kl_div: 30631.58203125\n",
            "Epoch [3/50] Step [1520/1702] loss: 42045.80078125 rmse: 39035.0234375, kl_div: 3010.77783203125\n",
            "Epoch [3/50] Step [1540/1702] loss: 43148.6640625 rmse: 40162.66796875, kl_div: 2985.997314453125\n",
            "Epoch [3/50] Step [1560/1702] loss: 42153.43359375 rmse: 39299.67578125, kl_div: 2853.7568359375\n",
            "Epoch [3/50] Step [1580/1702] loss: 42008.5078125 rmse: 39233.9296875, kl_div: 2774.579345703125\n",
            "Epoch [3/50] Step [1600/1702] loss: 44930.6328125 rmse: 41437.4453125, kl_div: 3493.188232421875\n",
            "Epoch [3/50] Step [1620/1702] loss: 45724.828125 rmse: 42099.2578125, kl_div: 3625.572265625\n",
            "Epoch [3/50] Step [1640/1702] loss: 44642.98828125 rmse: 41629.5625, kl_div: 3013.42578125\n",
            "Epoch [3/50] Step [1660/1702] loss: 44084.92578125 rmse: 40617.43359375, kl_div: 3467.492431640625\n",
            "Epoch [3/50] Step [1680/1702] loss: 43446.70703125 rmse: 40462.3515625, kl_div: 2984.354248046875\n",
            "Epoch [3/50] Step [1700/1702] loss: 43412.6953125 rmse: 40462.6796875, kl_div: 2950.01513671875\n",
            "Epoch [4/50] Step [20/1702] loss: 44273.30078125 rmse: 41109.546875, kl_div: 3163.75341796875\n",
            "Epoch [4/50] Step [40/1702] loss: 50204.56640625 rmse: 44698.8359375, kl_div: 5505.7294921875\n",
            "Epoch [4/50] Step [60/1702] loss: 45922.59765625 rmse: 42942.7265625, kl_div: 2979.872314453125\n",
            "Epoch [4/50] Step [80/1702] loss: 45822.1875 rmse: 42676.76953125, kl_div: 3145.4189453125\n",
            "Epoch [4/50] Step [100/1702] loss: 45837.3671875 rmse: 42436.97265625, kl_div: 3400.396484375\n",
            "Epoch [4/50] Step [120/1702] loss: 46646.4453125 rmse: 42988.87109375, kl_div: 3657.57373046875\n",
            "Epoch [4/50] Step [140/1702] loss: 43814.46875 rmse: 40903.07421875, kl_div: 2911.39501953125\n",
            "Epoch [4/50] Step [160/1702] loss: 44042.5234375 rmse: 40856.6640625, kl_div: 3185.8603515625\n",
            "Epoch [4/50] Step [180/1702] loss: 47602.80859375 rmse: 42657.25, kl_div: 4945.5576171875\n",
            "Epoch [4/50] Step [200/1702] loss: 49778.1875 rmse: 44888.1640625, kl_div: 4890.0234375\n",
            "Epoch [4/50] Step [220/1702] loss: 46213.828125 rmse: 41922.296875, kl_div: 4291.529296875\n",
            "Epoch [4/50] Step [240/1702] loss: 46236.171875 rmse: 41784.3046875, kl_div: 4451.869140625\n",
            "Epoch [4/50] Step [260/1702] loss: 45861.11328125 rmse: 41882.48046875, kl_div: 3978.6318359375\n",
            "Epoch [4/50] Step [280/1702] loss: 43465.0078125 rmse: 39412.8359375, kl_div: 4052.170654296875\n",
            "Epoch [4/50] Step [300/1702] loss: 47013.58984375 rmse: 42453.3984375, kl_div: 4560.19287109375\n",
            "Epoch [4/50] Step [320/1702] loss: 46315.9765625 rmse: 42160.46875, kl_div: 4155.5087890625\n",
            "Epoch [4/50] Step [340/1702] loss: 43420.58984375 rmse: 39592.796875, kl_div: 3827.79296875\n",
            "Epoch [4/50] Step [360/1702] loss: 44673.3125 rmse: 40738.171875, kl_div: 3935.14111328125\n",
            "Epoch [4/50] Step [380/1702] loss: 45054.375 rmse: 41507.84765625, kl_div: 3546.52880859375\n",
            "Epoch [4/50] Step [400/1702] loss: 44615.58203125 rmse: 41103.359375, kl_div: 3512.223876953125\n",
            "Epoch [4/50] Step [420/1702] loss: 96611328.0 rmse: 50089.984375, kl_div: 96561240.0\n",
            "Epoch [4/50] Step [440/1702] loss: 46295.484375 rmse: 40978.1796875, kl_div: 5317.30419921875\n",
            "Epoch [4/50] Step [460/1702] loss: 45817.04296875 rmse: 40545.3828125, kl_div: 5271.65966796875\n",
            "Epoch [4/50] Step [480/1702] loss: 47255.66015625 rmse: 42526.26953125, kl_div: 4729.3896484375\n",
            "Epoch [4/50] Step [500/1702] loss: 46563.7109375 rmse: 41010.59375, kl_div: 5553.11865234375\n",
            "Epoch [4/50] Step [520/1702] loss: 47087.8359375 rmse: 42496.31640625, kl_div: 4591.52001953125\n",
            "Epoch [4/50] Step [540/1702] loss: 44157.33203125 rmse: 39517.40625, kl_div: 4639.92626953125\n",
            "Epoch [4/50] Step [560/1702] loss: 44561.8046875 rmse: 39681.8984375, kl_div: 4879.90478515625\n",
            "Epoch [4/50] Step [580/1702] loss: 44595.1796875 rmse: 40101.47265625, kl_div: 4493.70849609375\n",
            "Epoch [4/50] Step [600/1702] loss: 45405.5859375 rmse: 40926.765625, kl_div: 4478.82177734375\n",
            "Epoch [4/50] Step [620/1702] loss: 44043.85546875 rmse: 39747.87890625, kl_div: 4295.9755859375\n",
            "Epoch [4/50] Step [640/1702] loss: 58216.80859375 rmse: 46285.4375, kl_div: 11931.3701171875\n",
            "Epoch [4/50] Step [660/1702] loss: 48137.421875 rmse: 43580.0, kl_div: 4557.421875\n",
            "Epoch [4/50] Step [680/1702] loss: 46832.61328125 rmse: 42180.3984375, kl_div: 4652.21337890625\n",
            "Epoch [4/50] Step [700/1702] loss: 45290.34375 rmse: 40872.81640625, kl_div: 4417.52783203125\n",
            "Epoch [4/50] Step [720/1702] loss: 42136.37890625 rmse: 37430.0390625, kl_div: 4706.33935546875\n",
            "Epoch [4/50] Step [740/1702] loss: 47203.57421875 rmse: 42397.0625, kl_div: 4806.5126953125\n",
            "Epoch [4/50] Step [760/1702] loss: 46240.49609375 rmse: 41763.1328125, kl_div: 4477.3642578125\n",
            "Epoch [4/50] Step [780/1702] loss: 44608.4609375 rmse: 40320.953125, kl_div: 4287.50927734375\n",
            "Epoch [4/50] Step [800/1702] loss: 46764.3671875 rmse: 41225.57421875, kl_div: 5538.7939453125\n",
            "Epoch [4/50] Step [820/1702] loss: 45866.109375 rmse: 40835.734375, kl_div: 5030.37451171875\n",
            "Epoch [4/50] Step [840/1702] loss: 47031.02734375 rmse: 41565.3359375, kl_div: 5465.68994140625\n",
            "Epoch [4/50] Step [860/1702] loss: 47046.9453125 rmse: 41909.8828125, kl_div: 5137.06396484375\n",
            "Epoch [4/50] Step [880/1702] loss: 47226.90234375 rmse: 42041.5625, kl_div: 5185.34033203125\n",
            "Epoch [4/50] Step [900/1702] loss: 46506.3671875 rmse: 41236.7578125, kl_div: 5269.611328125\n",
            "Epoch [4/50] Step [920/1702] loss: 44274.1171875 rmse: 39655.1953125, kl_div: 4618.92236328125\n",
            "Epoch [4/50] Step [940/1702] loss: 45311.22265625 rmse: 40532.33984375, kl_div: 4778.8837890625\n",
            "Epoch [4/50] Step [960/1702] loss: 45255.49609375 rmse: 40417.86328125, kl_div: 4837.63330078125\n",
            "Epoch [4/50] Step [980/1702] loss: 46689.6171875 rmse: 42241.3515625, kl_div: 4448.26416015625\n",
            "Epoch [4/50] Step [1000/1702] loss: 46218.53515625 rmse: 41533.0703125, kl_div: 4685.46484375\n",
            "Epoch [4/50] Step [1020/1702] loss: 46009.24609375 rmse: 41407.0703125, kl_div: 4602.17626953125\n",
            "Epoch [4/50] Step [1040/1702] loss: 47146.55078125 rmse: 43205.58203125, kl_div: 3940.969482421875\n",
            "Epoch [4/50] Step [1060/1702] loss: 44536.09765625 rmse: 40389.21484375, kl_div: 4146.8837890625\n",
            "Epoch [4/50] Step [1080/1702] loss: 45914.48828125 rmse: 41502.68359375, kl_div: 4411.80419921875\n",
            "Epoch [4/50] Step [1100/1702] loss: 42782.28125 rmse: 38372.29296875, kl_div: 4409.98828125\n",
            "Epoch [4/50] Step [1120/1702] loss: 44616.265625 rmse: 40935.8515625, kl_div: 3680.4150390625\n",
            "Epoch [4/50] Step [1140/1702] loss: 46151.79296875 rmse: 42026.90234375, kl_div: 4124.89208984375\n",
            "Epoch [4/50] Step [1160/1702] loss: 44383.9375 rmse: 40406.21484375, kl_div: 3977.724365234375\n",
            "Epoch [4/50] Step [1180/1702] loss: 43683.765625 rmse: 39328.21875, kl_div: 4355.546875\n",
            "Epoch [4/50] Step [1200/1702] loss: 45091.49609375 rmse: 41007.69921875, kl_div: 4083.795166015625\n",
            "Epoch [4/50] Step [1220/1702] loss: 50016.80859375 rmse: 44285.48046875, kl_div: 5731.3271484375\n",
            "Epoch [4/50] Step [1240/1702] loss: 48329.49609375 rmse: 42654.8359375, kl_div: 5674.6591796875\n",
            "Epoch [4/50] Step [1260/1702] loss: 51790.5078125 rmse: 38765.125, kl_div: 13025.3818359375\n",
            "Epoch [4/50] Step [1280/1702] loss: 46257.19140625 rmse: 40947.27734375, kl_div: 5309.91259765625\n",
            "Epoch [4/50] Step [1300/1702] loss: 46849.65234375 rmse: 41502.234375, kl_div: 5347.4189453125\n",
            "Epoch [4/50] Step [1320/1702] loss: 47701.0546875 rmse: 41953.59375, kl_div: 5747.46044921875\n",
            "Epoch [4/50] Step [1340/1702] loss: 48364.359375 rmse: 42708.1640625, kl_div: 5656.197265625\n",
            "Epoch [4/50] Step [1360/1702] loss: 46318.26953125 rmse: 41020.30078125, kl_div: 5297.96728515625\n",
            "Epoch [4/50] Step [1380/1702] loss: 46104.9921875 rmse: 40898.78125, kl_div: 5206.2119140625\n",
            "Epoch [4/50] Step [1400/1702] loss: 45677.44921875 rmse: 40152.890625, kl_div: 5524.5595703125\n",
            "Epoch [4/50] Step [1420/1702] loss: 45812.7890625 rmse: 40513.46484375, kl_div: 5299.32275390625\n",
            "Epoch [4/50] Step [1440/1702] loss: 43939.05859375 rmse: 38831.43359375, kl_div: 5107.62548828125\n",
            "Epoch [4/50] Step [1460/1702] loss: 49959.4921875 rmse: 44161.37890625, kl_div: 5798.11279296875\n",
            "Epoch [4/50] Step [1480/1702] loss: 42842.6484375 rmse: 38217.875, kl_div: 4624.77392578125\n",
            "Epoch [4/50] Step [1500/1702] loss: 49082.9375 rmse: 43473.0625, kl_div: 5609.87646484375\n",
            "Epoch [4/50] Step [1520/1702] loss: 45683.1171875 rmse: 39915.73828125, kl_div: 5767.37744140625\n",
            "Epoch [4/50] Step [1540/1702] loss: 48281.70703125 rmse: 42530.3828125, kl_div: 5751.3251953125\n",
            "Epoch [4/50] Step [1560/1702] loss: 52748.71875 rmse: 45462.203125, kl_div: 7286.517578125\n",
            "Epoch [4/50] Step [1580/1702] loss: 53012.734375 rmse: 43138.0546875, kl_div: 9874.677734375\n",
            "Epoch [4/50] Step [1600/1702] loss: 50663.4921875 rmse: 41786.48828125, kl_div: 8877.00390625\n",
            "Epoch [4/50] Step [1620/1702] loss: 49983.59375 rmse: 41118.2265625, kl_div: 8865.365234375\n",
            "Epoch [4/50] Step [1640/1702] loss: 49311.3671875 rmse: 39766.046875, kl_div: 9545.318359375\n",
            "Epoch [4/50] Step [1660/1702] loss: 52712.265625 rmse: 43871.9140625, kl_div: 8840.353515625\n",
            "Epoch [4/50] Step [1680/1702] loss: 49863.62890625 rmse: 40745.328125, kl_div: 9118.30078125\n",
            "Epoch [4/50] Step [1700/1702] loss: 53013.5546875 rmse: 44157.60546875, kl_div: 8855.94921875\n",
            "Epoch [5/50] Step [20/1702] loss: 50664.48046875 rmse: 42491.46875, kl_div: 8173.0126953125\n",
            "Epoch [5/50] Step [40/1702] loss: 49615.4140625 rmse: 40922.140625, kl_div: 8693.2744140625\n",
            "Epoch [5/50] Step [60/1702] loss: 48305.796875 rmse: 39716.0078125, kl_div: 8589.7900390625\n",
            "Epoch [5/50] Step [80/1702] loss: 49444.8125 rmse: 41330.453125, kl_div: 8114.3603515625\n",
            "Epoch [5/50] Step [100/1702] loss: 49623.85546875 rmse: 41517.33984375, kl_div: 8106.51708984375\n",
            "Epoch [5/50] Step [120/1702] loss: 50284.703125 rmse: 42719.015625, kl_div: 7565.685546875\n",
            "Epoch [5/50] Step [140/1702] loss: 49558.484375 rmse: 41885.2890625, kl_div: 7673.19482421875\n",
            "Epoch [5/50] Step [160/1702] loss: 49509.54296875 rmse: 42010.96875, kl_div: 7498.57470703125\n",
            "Epoch [5/50] Step [180/1702] loss: 48964.9296875 rmse: 40736.6015625, kl_div: 8228.3291015625\n",
            "Epoch [5/50] Step [200/1702] loss: 46608.03125 rmse: 39065.5234375, kl_div: 7542.5068359375\n",
            "Epoch [5/50] Step [220/1702] loss: 48445.23046875 rmse: 40903.96875, kl_div: 7541.2607421875\n",
            "Epoch [5/50] Step [240/1702] loss: 48351.625 rmse: 40700.3046875, kl_div: 7651.3203125\n",
            "Epoch [5/50] Step [260/1702] loss: 47763.73828125 rmse: 40083.59765625, kl_div: 7680.140625\n",
            "Epoch [5/50] Step [280/1702] loss: 47859.9921875 rmse: 39122.5234375, kl_div: 8737.466796875\n",
            "Epoch [5/50] Step [300/1702] loss: 46914.3359375 rmse: 39166.0390625, kl_div: 7748.29541015625\n",
            "Epoch [5/50] Step [320/1702] loss: 50277.61328125 rmse: 42395.7421875, kl_div: 7881.87109375\n",
            "Epoch [5/50] Step [340/1702] loss: 48652.11328125 rmse: 41403.5703125, kl_div: 7248.54296875\n",
            "Epoch [5/50] Step [360/1702] loss: 51590.5859375 rmse: 43342.78125, kl_div: 8247.8037109375\n",
            "Epoch [5/50] Step [380/1702] loss: 51720.23046875 rmse: 43494.49609375, kl_div: 8225.734375\n",
            "Epoch [5/50] Step [400/1702] loss: 50103.078125 rmse: 42180.2890625, kl_div: 7922.791015625\n",
            "Epoch [5/50] Step [420/1702] loss: 48229.2109375 rmse: 40919.125, kl_div: 7310.08447265625\n",
            "Epoch [5/50] Step [440/1702] loss: 49927.80078125 rmse: 42443.90625, kl_div: 7483.89501953125\n",
            "Epoch [5/50] Step [460/1702] loss: 48552.2890625 rmse: 41177.21875, kl_div: 7375.07177734375\n",
            "Epoch [5/50] Step [480/1702] loss: 48994.66796875 rmse: 41775.2109375, kl_div: 7219.45751953125\n",
            "Epoch [5/50] Step [500/1702] loss: 48550.609375 rmse: 41530.95703125, kl_div: 7019.65234375\n",
            "Epoch [5/50] Step [520/1702] loss: 45764.29296875 rmse: 38888.7109375, kl_div: 6875.5810546875\n",
            "Epoch [5/50] Step [540/1702] loss: 50083.8359375 rmse: 42738.8515625, kl_div: 7344.9833984375\n",
            "Epoch [5/50] Step [560/1702] loss: 49908.125 rmse: 42921.828125, kl_div: 6986.2958984375\n",
            "Epoch [5/50] Step [580/1702] loss: 45365.1171875 rmse: 38843.640625, kl_div: 6521.47705078125\n",
            "Epoch [5/50] Step [600/1702] loss: 45792.5234375 rmse: 39021.796875, kl_div: 6770.724609375\n",
            "Epoch [5/50] Step [620/1702] loss: 47632.9609375 rmse: 40696.83984375, kl_div: 6936.12060546875\n",
            "Epoch [5/50] Step [640/1702] loss: 47030.12109375 rmse: 40241.578125, kl_div: 6788.54345703125\n",
            "Epoch [5/50] Step [660/1702] loss: 47282.74609375 rmse: 40480.390625, kl_div: 6802.35595703125\n",
            "Epoch [5/50] Step [680/1702] loss: 49379.44140625 rmse: 42239.0234375, kl_div: 7140.41650390625\n",
            "Epoch [5/50] Step [700/1702] loss: 48751.40234375 rmse: 41634.4609375, kl_div: 7116.94140625\n",
            "Epoch [5/50] Step [720/1702] loss: 48381.8984375 rmse: 42012.125, kl_div: 6369.775390625\n",
            "Epoch [5/50] Step [740/1702] loss: 47469.390625 rmse: 40796.109375, kl_div: 6673.279296875\n",
            "Epoch [5/50] Step [760/1702] loss: 48058.9375 rmse: 42021.05078125, kl_div: 6037.88525390625\n",
            "Epoch [5/50] Step [780/1702] loss: 46492.62109375 rmse: 40487.1796875, kl_div: 6005.4404296875\n",
            "Epoch [5/50] Step [800/1702] loss: 48373.65625 rmse: 42569.0, kl_div: 5804.6572265625\n",
            "Epoch [5/50] Step [820/1702] loss: 48759.8984375 rmse: 42835.703125, kl_div: 5924.1953125\n",
            "Epoch [5/50] Step [840/1702] loss: 43504.7890625 rmse: 37630.75390625, kl_div: 5874.033203125\n",
            "Epoch [5/50] Step [860/1702] loss: 47120.3984375 rmse: 41308.71484375, kl_div: 5811.6845703125\n",
            "Epoch [5/50] Step [880/1702] loss: 51135.75390625 rmse: 45146.84375, kl_div: 5988.91015625\n",
            "Epoch [5/50] Step [900/1702] loss: 44039.1328125 rmse: 38115.86328125, kl_div: 5923.267578125\n",
            "Epoch [5/50] Step [920/1702] loss: 47583.6953125 rmse: 41162.92578125, kl_div: 6420.76904296875\n",
            "Epoch [5/50] Step [940/1702] loss: 47681.8984375 rmse: 41504.8828125, kl_div: 6177.015625\n",
            "Epoch [5/50] Step [960/1702] loss: 45414.90625 rmse: 39783.1015625, kl_div: 5631.806640625\n",
            "Epoch [5/50] Step [980/1702] loss: 43267.57421875 rmse: 37420.296875, kl_div: 5847.27880859375\n",
            "Epoch [5/50] Step [1000/1702] loss: 47444.75 rmse: 41709.98046875, kl_div: 5734.7705078125\n",
            "Epoch [5/50] Step [1020/1702] loss: 46392.84375 rmse: 40379.203125, kl_div: 6013.64111328125\n",
            "Epoch [5/50] Step [1040/1702] loss: 45296.12109375 rmse: 39670.4921875, kl_div: 5625.63037109375\n",
            "Epoch [5/50] Step [1060/1702] loss: 45999.7421875 rmse: 40412.58984375, kl_div: 5587.15380859375\n",
            "Epoch [5/50] Step [1080/1702] loss: 47089.09375 rmse: 40655.0703125, kl_div: 6434.0244140625\n",
            "Epoch [5/50] Step [1100/1702] loss: 45748.6328125 rmse: 40058.59375, kl_div: 5690.041015625\n",
            "Epoch [5/50] Step [1120/1702] loss: 45198.7265625 rmse: 39305.0546875, kl_div: 5893.67236328125\n",
            "Epoch [5/50] Step [1140/1702] loss: 47230.3125 rmse: 40966.3828125, kl_div: 6263.9306640625\n",
            "Epoch [5/50] Step [1160/1702] loss: 304031424.0 rmse: 50496.4375, kl_div: 303980928.0\n",
            "Epoch [5/50] Step [1180/1702] loss: 46117.58984375 rmse: 39261.2109375, kl_div: 6856.37939453125\n",
            "Epoch [5/50] Step [1200/1702] loss: 13890944.0 rmse: 47435.05859375, kl_div: 13843509.0\n",
            "Epoch [5/50] Step [1220/1702] loss: 46417.3671875 rmse: 39385.0, kl_div: 7032.3662109375\n",
            "Epoch [5/50] Step [1240/1702] loss: 48625.90625 rmse: 41315.4375, kl_div: 7310.46875\n",
            "Epoch [5/50] Step [1260/1702] loss: 46384.203125 rmse: 39556.03515625, kl_div: 6828.16943359375\n",
            "Epoch [5/50] Step [1280/1702] loss: 46948.484375 rmse: 40043.140625, kl_div: 6905.3427734375\n",
            "Epoch [5/50] Step [1300/1702] loss: 49616.32421875 rmse: 42471.015625, kl_div: 7145.3095703125\n",
            "Epoch [5/50] Step [1320/1702] loss: 47316.09765625 rmse: 41355.2421875, kl_div: 5960.85498046875\n",
            "Epoch [5/50] Step [1340/1702] loss: 47542.27734375 rmse: 41241.6875, kl_div: 6300.5888671875\n",
            "Epoch [5/50] Step [1360/1702] loss: 46776.53125 rmse: 38802.6484375, kl_div: 7973.884765625\n",
            "Epoch [5/50] Step [1380/1702] loss: 46882.27734375 rmse: 39761.2578125, kl_div: 7121.02001953125\n",
            "Epoch [5/50] Step [1400/1702] loss: 50369.4921875 rmse: 43236.66015625, kl_div: 7132.83203125\n",
            "Epoch [5/50] Step [1420/1702] loss: 47468.33203125 rmse: 40746.6171875, kl_div: 6721.71630859375\n",
            "Epoch [5/50] Step [1440/1702] loss: 45541.7421875 rmse: 38932.43359375, kl_div: 6609.306640625\n",
            "Epoch [5/50] Step [1460/1702] loss: 49904.20703125 rmse: 43116.3046875, kl_div: 6787.9013671875\n",
            "Epoch [5/50] Step [1480/1702] loss: 115855.921875 rmse: 45227.8046875, kl_div: 70628.1171875\n",
            "Epoch [5/50] Step [1500/1702] loss: 44822.9296875 rmse: 38759.5078125, kl_div: 6063.421875\n",
            "Epoch [5/50] Step [1520/1702] loss: 49180.9921875 rmse: 42045.703125, kl_div: 7135.28759765625\n",
            "Epoch [5/50] Step [1540/1702] loss: 48167.6875 rmse: 41132.3984375, kl_div: 7035.287109375\n",
            "Epoch [5/50] Step [1560/1702] loss: 49515.93359375 rmse: 42330.328125, kl_div: 7185.6064453125\n",
            "Epoch [5/50] Step [1580/1702] loss: 49019.16796875 rmse: 41467.25, kl_div: 7551.9189453125\n",
            "Epoch [5/50] Step [1600/1702] loss: 47696.59375 rmse: 40309.859375, kl_div: 7386.732421875\n",
            "Epoch [5/50] Step [1620/1702] loss: 52951.3359375 rmse: 42532.5234375, kl_div: 10418.8134765625\n",
            "Epoch [5/50] Step [1640/1702] loss: 51436.66015625 rmse: 44171.4765625, kl_div: 7265.1845703125\n",
            "Epoch [5/50] Step [1660/1702] loss: 49575.546875 rmse: 41884.125, kl_div: 7691.42333984375\n",
            "Epoch [5/50] Step [1680/1702] loss: 48946.34765625 rmse: 41717.5390625, kl_div: 7228.80908203125\n",
            "Epoch [5/50] Step [1700/1702] loss: 45803.80078125 rmse: 39767.7734375, kl_div: 6036.0283203125\n",
            "Epoch [6/50] Step [20/1702] loss: 47444.4296875 rmse: 39757.75, kl_div: 7686.67822265625\n",
            "Epoch [6/50] Step [40/1702] loss: 49155.65625 rmse: 40861.22265625, kl_div: 8294.4345703125\n",
            "Epoch [6/50] Step [60/1702] loss: 51140.6171875 rmse: 43364.94921875, kl_div: 7775.66943359375\n",
            "Epoch [6/50] Step [80/1702] loss: 47151.125 rmse: 39075.671875, kl_div: 8075.451171875\n",
            "Epoch [6/50] Step [100/1702] loss: 47892.5 rmse: 39886.8828125, kl_div: 8005.61669921875\n",
            "Epoch [6/50] Step [120/1702] loss: 49154.08984375 rmse: 41277.98046875, kl_div: 7876.11083984375\n",
            "Epoch [6/50] Step [140/1702] loss: 50716.53125 rmse: 42763.328125, kl_div: 7953.2021484375\n",
            "Epoch [6/50] Step [160/1702] loss: 49137.78125 rmse: 41249.19921875, kl_div: 7888.58349609375\n",
            "Epoch [6/50] Step [180/1702] loss: 44213.01171875 rmse: 38179.8828125, kl_div: 6033.12939453125\n",
            "Epoch [6/50] Step [200/1702] loss: 44557.46484375 rmse: 37148.8125, kl_div: 7408.6533203125\n",
            "Epoch [6/50] Step [220/1702] loss: 47177.7890625 rmse: 39859.73828125, kl_div: 7318.0498046875\n",
            "Epoch [6/50] Step [240/1702] loss: 48657.37109375 rmse: 41699.65625, kl_div: 6957.7158203125\n",
            "Epoch [6/50] Step [260/1702] loss: 48568.24609375 rmse: 40705.96875, kl_div: 7862.27783203125\n",
            "Epoch [6/50] Step [280/1702] loss: 50447.84375 rmse: 41172.71484375, kl_div: 9275.12890625\n",
            "Epoch [6/50] Step [300/1702] loss: 49734.3125 rmse: 40457.2421875, kl_div: 9277.072265625\n",
            "Epoch [6/50] Step [320/1702] loss: 47084.640625 rmse: 39023.7578125, kl_div: 8060.8837890625\n",
            "Epoch [6/50] Step [340/1702] loss: 49730.9453125 rmse: 41485.12109375, kl_div: 8245.826171875\n",
            "Epoch [6/50] Step [360/1702] loss: 50552.4921875 rmse: 41756.6484375, kl_div: 8795.845703125\n",
            "Epoch [6/50] Step [380/1702] loss: 48609.921875 rmse: 40075.4375, kl_div: 8534.484375\n",
            "Epoch [6/50] Step [400/1702] loss: 51614.0390625 rmse: 42880.7265625, kl_div: 8733.310546875\n",
            "Epoch [6/50] Step [420/1702] loss: 48936.0390625 rmse: 40911.77734375, kl_div: 8024.26123046875\n",
            "Epoch [6/50] Step [440/1702] loss: 49971.375 rmse: 42038.65234375, kl_div: 7932.72265625\n",
            "Epoch [6/50] Step [460/1702] loss: 48385.1484375 rmse: 40747.8515625, kl_div: 7637.294921875\n",
            "Epoch [6/50] Step [480/1702] loss: 46846.73046875 rmse: 38461.828125, kl_div: 8384.90234375\n",
            "Epoch [6/50] Step [500/1702] loss: 48850.94921875 rmse: 40368.3125, kl_div: 8482.6376953125\n",
            "Epoch [6/50] Step [520/1702] loss: 49543.83984375 rmse: 41291.42578125, kl_div: 8252.4140625\n",
            "Epoch [6/50] Step [540/1702] loss: 48892.8125 rmse: 41403.578125, kl_div: 7489.234375\n",
            "Epoch [6/50] Step [560/1702] loss: 51113.72265625 rmse: 42524.37109375, kl_div: 8589.3515625\n",
            "Epoch [6/50] Step [580/1702] loss: 51800.703125 rmse: 42448.9453125, kl_div: 9351.7578125\n",
            "Epoch [6/50] Step [600/1702] loss: 50172.11328125 rmse: 41150.2109375, kl_div: 9021.90234375\n",
            "Epoch [6/50] Step [620/1702] loss: 45368.421875 rmse: 38070.41796875, kl_div: 7298.0029296875\n",
            "Epoch [6/50] Step [640/1702] loss: 50468.5625 rmse: 42756.76953125, kl_div: 7711.79150390625\n",
            "Epoch [6/50] Step [660/1702] loss: 49921.83203125 rmse: 41166.4140625, kl_div: 8755.4169921875\n",
            "Epoch [6/50] Step [680/1702] loss: 50712.48046875 rmse: 42119.7578125, kl_div: 8592.7236328125\n",
            "Epoch [6/50] Step [700/1702] loss: 49477.546875 rmse: 41529.90234375, kl_div: 7947.6455078125\n",
            "Epoch [6/50] Step [720/1702] loss: 46407.0390625 rmse: 38043.6640625, kl_div: 8363.376953125\n",
            "Epoch [6/50] Step [740/1702] loss: 49674.203125 rmse: 41524.671875, kl_div: 8149.533203125\n",
            "Epoch [6/50] Step [760/1702] loss: 50250.96484375 rmse: 41042.83984375, kl_div: 9208.125\n",
            "Epoch [6/50] Step [780/1702] loss: 47817.8671875 rmse: 38860.19140625, kl_div: 8957.6748046875\n",
            "Epoch [6/50] Step [800/1702] loss: 50417.6875 rmse: 42872.515625, kl_div: 7545.171875\n",
            "Epoch [6/50] Step [820/1702] loss: 51195.7421875 rmse: 42154.296875, kl_div: 9041.443359375\n",
            "Epoch [6/50] Step [840/1702] loss: 53571.8828125 rmse: 41360.15625, kl_div: 12211.728515625\n",
            "Epoch [6/50] Step [860/1702] loss: 54098.87109375 rmse: 42264.0234375, kl_div: 11834.84765625\n",
            "Epoch [6/50] Step [880/1702] loss: 50267.0546875 rmse: 39519.75, kl_div: 10747.3046875\n",
            "Epoch [6/50] Step [900/1702] loss: 48726.640625 rmse: 37997.6640625, kl_div: 10728.9755859375\n",
            "Epoch [6/50] Step [920/1702] loss: 52388.3515625 rmse: 40896.6328125, kl_div: 11491.7177734375\n",
            "Epoch [6/50] Step [940/1702] loss: 47937.984375 rmse: 37928.4765625, kl_div: 10009.5078125\n",
            "Epoch [6/50] Step [960/1702] loss: 52503.078125 rmse: 41133.75, kl_div: 11369.330078125\n",
            "Epoch [6/50] Step [980/1702] loss: 52810.1953125 rmse: 41942.87109375, kl_div: 10867.322265625\n",
            "Epoch [6/50] Step [1000/1702] loss: 53240.65625 rmse: 41600.09375, kl_div: 11640.560546875\n",
            "Epoch [6/50] Step [1020/1702] loss: 50929.5234375 rmse: 41024.0078125, kl_div: 9905.5166015625\n",
            "Epoch [6/50] Step [1040/1702] loss: 51584.76171875 rmse: 40895.32421875, kl_div: 10689.4375\n",
            "Epoch [6/50] Step [1060/1702] loss: 51849.23046875 rmse: 41309.8203125, kl_div: 10539.41015625\n",
            "Epoch [6/50] Step [1080/1702] loss: 49547.4921875 rmse: 39526.265625, kl_div: 10021.224609375\n",
            "Epoch [6/50] Step [1100/1702] loss: 51477.59375 rmse: 40714.0078125, kl_div: 10763.5849609375\n",
            "Epoch [6/50] Step [1120/1702] loss: 49320.6875 rmse: 39062.71875, kl_div: 10257.966796875\n",
            "Epoch [6/50] Step [1140/1702] loss: 50240.9140625 rmse: 39307.8125, kl_div: 10933.1015625\n",
            "Epoch [6/50] Step [1160/1702] loss: 51145.31640625 rmse: 40785.02734375, kl_div: 10360.2890625\n",
            "Epoch [6/50] Step [1180/1702] loss: 50184.765625 rmse: 39763.125, kl_div: 10421.640625\n",
            "Epoch [6/50] Step [1200/1702] loss: 49117.9609375 rmse: 38802.84375, kl_div: 10315.1171875\n",
            "Epoch [6/50] Step [1220/1702] loss: 48837.7265625 rmse: 38497.9921875, kl_div: 10339.734375\n",
            "Epoch [6/50] Step [1240/1702] loss: 50746.97265625 rmse: 41030.59375, kl_div: 9716.3779296875\n",
            "Epoch [6/50] Step [1260/1702] loss: 49822.66796875 rmse: 40074.6640625, kl_div: 9748.00390625\n",
            "Epoch [6/50] Step [1280/1702] loss: 50327.953125 rmse: 40090.8046875, kl_div: 10237.146484375\n",
            "Epoch [6/50] Step [1300/1702] loss: 48728.98046875 rmse: 38058.1171875, kl_div: 10670.8642578125\n",
            "Epoch [6/50] Step [1320/1702] loss: 54851.8046875 rmse: 43672.59375, kl_div: 11179.212890625\n",
            "Epoch [6/50] Step [1340/1702] loss: 51278.5234375 rmse: 41175.3359375, kl_div: 10103.1865234375\n",
            "Epoch [6/50] Step [1360/1702] loss: 143052.609375 rmse: 44803.3515625, kl_div: 98249.2578125\n",
            "Epoch [6/50] Step [1380/1702] loss: 50505.2890625 rmse: 40043.265625, kl_div: 10462.025390625\n",
            "Epoch [6/50] Step [1400/1702] loss: 49235.515625 rmse: 39633.87890625, kl_div: 9601.63671875\n",
            "Epoch [6/50] Step [1420/1702] loss: 51962.01171875 rmse: 41416.54296875, kl_div: 10545.4677734375\n",
            "Epoch [6/50] Step [1440/1702] loss: 51584.796875 rmse: 40210.078125, kl_div: 11374.716796875\n",
            "Epoch [6/50] Step [1460/1702] loss: 53747.890625 rmse: 42810.90234375, kl_div: 10936.986328125\n",
            "Epoch [6/50] Step [1480/1702] loss: 52531.4609375 rmse: 40838.8828125, kl_div: 11692.5791015625\n",
            "Epoch [6/50] Step [1500/1702] loss: 54650.14453125 rmse: 41556.7265625, kl_div: 13093.41796875\n",
            "Epoch [6/50] Step [1520/1702] loss: 49053.41796875 rmse: 38755.73828125, kl_div: 10297.6806640625\n",
            "Epoch [6/50] Step [1540/1702] loss: 51970.390625 rmse: 40782.4375, kl_div: 11187.953125\n",
            "Epoch [6/50] Step [1560/1702] loss: 47403.578125 rmse: 36989.296875, kl_div: 10414.279296875\n",
            "Epoch [6/50] Step [1580/1702] loss: 57070.671875 rmse: 45166.4921875, kl_div: 11904.1806640625\n",
            "Epoch [6/50] Step [1600/1702] loss: 51819.5390625 rmse: 40443.203125, kl_div: 11376.3359375\n",
            "Epoch [6/50] Step [1620/1702] loss: 54906.45703125 rmse: 42891.2890625, kl_div: 12015.16796875\n",
            "Epoch [6/50] Step [1640/1702] loss: 52722.4765625 rmse: 41973.96875, kl_div: 10748.509765625\n",
            "Epoch [6/50] Step [1660/1702] loss: 54939.3359375 rmse: 43695.64453125, kl_div: 11243.69140625\n",
            "Epoch [6/50] Step [1680/1702] loss: 53650.9375 rmse: 42237.5859375, kl_div: 11413.349609375\n",
            "Epoch [6/50] Step [1700/1702] loss: 51388.05078125 rmse: 40471.453125, kl_div: 10916.5966796875\n",
            "Epoch [7/50] Step [20/1702] loss: 49931.53125 rmse: 39947.1328125, kl_div: 9984.3984375\n",
            "Epoch [7/50] Step [40/1702] loss: 51109.34375 rmse: 40641.8046875, kl_div: 10467.541015625\n",
            "Epoch [7/50] Step [60/1702] loss: 52808.3671875 rmse: 40942.12109375, kl_div: 11866.244140625\n",
            "Epoch [7/50] Step [80/1702] loss: 50469.98046875 rmse: 40100.03515625, kl_div: 10369.9462890625\n",
            "Epoch [7/50] Step [100/1702] loss: 52633.9375 rmse: 40751.3046875, kl_div: 11882.6328125\n",
            "Epoch [7/50] Step [120/1702] loss: 53598.125 rmse: 41801.6953125, kl_div: 11796.427734375\n",
            "Epoch [7/50] Step [140/1702] loss: 51691.328125 rmse: 41253.53515625, kl_div: 10437.794921875\n",
            "Epoch [7/50] Step [160/1702] loss: 50722.7421875 rmse: 41057.609375, kl_div: 9665.134765625\n",
            "Epoch [7/50] Step [180/1702] loss: 51208.6171875 rmse: 40290.1015625, kl_div: 10918.517578125\n",
            "Epoch [7/50] Step [200/1702] loss: 3.699306963391667e+29 rmse: 46149.5546875, kl_div: 3.699306963391667e+29\n",
            "Epoch [7/50] Step [220/1702] loss: 7096813.0 rmse: 45041.21484375, kl_div: 7051772.0\n",
            "Epoch [7/50] Step [240/1702] loss: 62496.0546875 rmse: 45557.5546875, kl_div: 16938.498046875\n"
          ],
          "name": "stdout"
        },
        {
          "output_type": "error",
          "ename": "RuntimeError",
          "evalue": "ignored",
          "traceback": [
            "\u001b[0;31m---------------------------------------------------------------------------\u001b[0m",
            "\u001b[0;31mRuntimeError\u001b[0m                              Traceback (most recent call last)",
            "\u001b[0;32m<ipython-input-17-d352d656704c>\u001b[0m in \u001b[0;36m<module>\u001b[0;34m()\u001b[0m\n\u001b[1;32m      6\u001b[0m \u001b[0;32mfor\u001b[0m \u001b[0mepoch\u001b[0m \u001b[0;32min\u001b[0m \u001b[0mrange\u001b[0m\u001b[0;34m(\u001b[0m\u001b[0mepochs\u001b[0m\u001b[0;34m)\u001b[0m\u001b[0;34m:\u001b[0m\u001b[0;34m\u001b[0m\u001b[0;34m\u001b[0m\u001b[0m\n\u001b[1;32m      7\u001b[0m   \u001b[0;32mfor\u001b[0m \u001b[0midx\u001b[0m\u001b[0;34m,\u001b[0m \u001b[0;34m(\u001b[0m\u001b[0mimg\u001b[0m\u001b[0;34m,\u001b[0m \u001b[0mlabel\u001b[0m\u001b[0;34m)\u001b[0m \u001b[0;32min\u001b[0m \u001b[0menumerate\u001b[0m\u001b[0;34m(\u001b[0m\u001b[0mtrain_set\u001b[0m\u001b[0;34m)\u001b[0m\u001b[0;34m:\u001b[0m\u001b[0;34m\u001b[0m\u001b[0;34m\u001b[0m\u001b[0m\n\u001b[0;32m----> 8\u001b[0;31m     \u001b[0mimg\u001b[0m \u001b[0;34m=\u001b[0m \u001b[0mimg\u001b[0m\u001b[0;34m.\u001b[0m\u001b[0mto\u001b[0m\u001b[0;34m(\u001b[0m\u001b[0mdevice\u001b[0m\u001b[0;34m)\u001b[0m\u001b[0;34m\u001b[0m\u001b[0;34m\u001b[0m\u001b[0m\n\u001b[0m\u001b[1;32m      9\u001b[0m \u001b[0;34m\u001b[0m\u001b[0m\n\u001b[1;32m     10\u001b[0m     \u001b[0mz\u001b[0m\u001b[0;34m,\u001b[0m \u001b[0mmu\u001b[0m\u001b[0;34m,\u001b[0m \u001b[0mvar\u001b[0m \u001b[0;34m=\u001b[0m \u001b[0mmodel\u001b[0m\u001b[0;34m.\u001b[0m\u001b[0mencode\u001b[0m\u001b[0;34m(\u001b[0m\u001b[0mimg\u001b[0m\u001b[0;34m)\u001b[0m\u001b[0;34m\u001b[0m\u001b[0;34m\u001b[0m\u001b[0m\n",
            "\u001b[0;31mRuntimeError\u001b[0m: CUDA error: device-side assert triggered"
          ]
        },
        {
          "output_type": "display_data",
          "data": {
            "text/plain": [
              "<Figure size 432x288 with 0 Axes>"
            ]
          },
          "metadata": {
            "tags": []
          }
        }
      ]
    },
    {
      "cell_type": "code",
      "metadata": {
        "id": "lMCEOsQ6t4xV",
        "colab_type": "code",
        "colab": {
          "base_uri": "https://localhost:8080/",
          "height": 318
        },
        "outputId": "af99699d-9a7f-4433-8dbc-5a4b3a9fe161"
      },
      "source": [
        "print(loss)"
      ],
      "execution_count": 19,
      "outputs": [
        {
          "output_type": "error",
          "ename": "RuntimeError",
          "evalue": "ignored",
          "traceback": [
            "\u001b[0;31m---------------------------------------------------------------------------\u001b[0m",
            "\u001b[0;31mRuntimeError\u001b[0m                              Traceback (most recent call last)",
            "\u001b[0;32m<ipython-input-19-9c7d9083178b>\u001b[0m in \u001b[0;36m<module>\u001b[0;34m()\u001b[0m\n\u001b[0;32m----> 1\u001b[0;31m \u001b[0mprint\u001b[0m\u001b[0;34m(\u001b[0m\u001b[0mloss\u001b[0m\u001b[0;34m)\u001b[0m\u001b[0;34m\u001b[0m\u001b[0;34m\u001b[0m\u001b[0m\n\u001b[0m",
            "\u001b[0;32m/usr/local/lib/python3.6/dist-packages/torch/tensor.py\u001b[0m in \u001b[0;36m__repr__\u001b[0;34m(self)\u001b[0m\n\u001b[1;32m    151\u001b[0m     \u001b[0;32mdef\u001b[0m \u001b[0m__repr__\u001b[0m\u001b[0;34m(\u001b[0m\u001b[0mself\u001b[0m\u001b[0;34m)\u001b[0m\u001b[0;34m:\u001b[0m\u001b[0;34m\u001b[0m\u001b[0;34m\u001b[0m\u001b[0m\n\u001b[1;32m    152\u001b[0m         \u001b[0;31m# All strings are unicode in Python 3.\u001b[0m\u001b[0;34m\u001b[0m\u001b[0;34m\u001b[0m\u001b[0;34m\u001b[0m\u001b[0m\n\u001b[0;32m--> 153\u001b[0;31m         \u001b[0;32mreturn\u001b[0m \u001b[0mtorch\u001b[0m\u001b[0;34m.\u001b[0m\u001b[0m_tensor_str\u001b[0m\u001b[0;34m.\u001b[0m\u001b[0m_str\u001b[0m\u001b[0;34m(\u001b[0m\u001b[0mself\u001b[0m\u001b[0;34m)\u001b[0m\u001b[0;34m\u001b[0m\u001b[0;34m\u001b[0m\u001b[0m\n\u001b[0m\u001b[1;32m    154\u001b[0m \u001b[0;34m\u001b[0m\u001b[0m\n\u001b[1;32m    155\u001b[0m     \u001b[0;32mdef\u001b[0m \u001b[0mbackward\u001b[0m\u001b[0;34m(\u001b[0m\u001b[0mself\u001b[0m\u001b[0;34m,\u001b[0m \u001b[0mgradient\u001b[0m\u001b[0;34m=\u001b[0m\u001b[0;32mNone\u001b[0m\u001b[0;34m,\u001b[0m \u001b[0mretain_graph\u001b[0m\u001b[0;34m=\u001b[0m\u001b[0;32mNone\u001b[0m\u001b[0;34m,\u001b[0m \u001b[0mcreate_graph\u001b[0m\u001b[0;34m=\u001b[0m\u001b[0;32mFalse\u001b[0m\u001b[0;34m)\u001b[0m\u001b[0;34m:\u001b[0m\u001b[0;34m\u001b[0m\u001b[0;34m\u001b[0m\u001b[0m\n",
            "\u001b[0;32m/usr/local/lib/python3.6/dist-packages/torch/_tensor_str.py\u001b[0m in \u001b[0;36m_str\u001b[0;34m(self)\u001b[0m\n\u001b[1;32m    369\u001b[0m \u001b[0;32mdef\u001b[0m \u001b[0m_str\u001b[0m\u001b[0;34m(\u001b[0m\u001b[0mself\u001b[0m\u001b[0;34m)\u001b[0m\u001b[0;34m:\u001b[0m\u001b[0;34m\u001b[0m\u001b[0;34m\u001b[0m\u001b[0m\n\u001b[1;32m    370\u001b[0m     \u001b[0;32mwith\u001b[0m \u001b[0mtorch\u001b[0m\u001b[0;34m.\u001b[0m\u001b[0mno_grad\u001b[0m\u001b[0;34m(\u001b[0m\u001b[0;34m)\u001b[0m\u001b[0;34m:\u001b[0m\u001b[0;34m\u001b[0m\u001b[0;34m\u001b[0m\u001b[0m\n\u001b[0;32m--> 371\u001b[0;31m         \u001b[0;32mreturn\u001b[0m \u001b[0m_str_intern\u001b[0m\u001b[0;34m(\u001b[0m\u001b[0mself\u001b[0m\u001b[0;34m)\u001b[0m\u001b[0;34m\u001b[0m\u001b[0;34m\u001b[0m\u001b[0m\n\u001b[0m",
            "\u001b[0;32m/usr/local/lib/python3.6/dist-packages/torch/_tensor_str.py\u001b[0m in \u001b[0;36m_str_intern\u001b[0;34m(self)\u001b[0m\n\u001b[1;32m    349\u001b[0m                     \u001b[0mtensor_str\u001b[0m \u001b[0;34m=\u001b[0m \u001b[0m_tensor_str\u001b[0m\u001b[0;34m(\u001b[0m\u001b[0mself\u001b[0m\u001b[0;34m.\u001b[0m\u001b[0mto_dense\u001b[0m\u001b[0;34m(\u001b[0m\u001b[0;34m)\u001b[0m\u001b[0;34m,\u001b[0m \u001b[0mindent\u001b[0m\u001b[0;34m)\u001b[0m\u001b[0;34m\u001b[0m\u001b[0;34m\u001b[0m\u001b[0m\n\u001b[1;32m    350\u001b[0m                 \u001b[0;32melse\u001b[0m\u001b[0;34m:\u001b[0m\u001b[0;34m\u001b[0m\u001b[0;34m\u001b[0m\u001b[0m\n\u001b[0;32m--> 351\u001b[0;31m                     \u001b[0mtensor_str\u001b[0m \u001b[0;34m=\u001b[0m \u001b[0m_tensor_str\u001b[0m\u001b[0;34m(\u001b[0m\u001b[0mself\u001b[0m\u001b[0;34m,\u001b[0m \u001b[0mindent\u001b[0m\u001b[0;34m)\u001b[0m\u001b[0;34m\u001b[0m\u001b[0;34m\u001b[0m\u001b[0m\n\u001b[0m\u001b[1;32m    352\u001b[0m \u001b[0;34m\u001b[0m\u001b[0m\n\u001b[1;32m    353\u001b[0m     \u001b[0;32mif\u001b[0m \u001b[0mself\u001b[0m\u001b[0;34m.\u001b[0m\u001b[0mlayout\u001b[0m \u001b[0;34m!=\u001b[0m \u001b[0mtorch\u001b[0m\u001b[0;34m.\u001b[0m\u001b[0mstrided\u001b[0m\u001b[0;34m:\u001b[0m\u001b[0;34m\u001b[0m\u001b[0;34m\u001b[0m\u001b[0m\n",
            "\u001b[0;32m/usr/local/lib/python3.6/dist-packages/torch/_tensor_str.py\u001b[0m in \u001b[0;36m_tensor_str\u001b[0;34m(self, indent)\u001b[0m\n\u001b[1;32m    239\u001b[0m         \u001b[0;32mreturn\u001b[0m \u001b[0m_tensor_str_with_formatter\u001b[0m\u001b[0;34m(\u001b[0m\u001b[0mself\u001b[0m\u001b[0;34m,\u001b[0m \u001b[0mindent\u001b[0m\u001b[0;34m,\u001b[0m \u001b[0msummarize\u001b[0m\u001b[0;34m,\u001b[0m \u001b[0mreal_formatter\u001b[0m\u001b[0;34m,\u001b[0m \u001b[0mimag_formatter\u001b[0m\u001b[0;34m)\u001b[0m\u001b[0;34m\u001b[0m\u001b[0;34m\u001b[0m\u001b[0m\n\u001b[1;32m    240\u001b[0m     \u001b[0;32melse\u001b[0m\u001b[0;34m:\u001b[0m\u001b[0;34m\u001b[0m\u001b[0;34m\u001b[0m\u001b[0m\n\u001b[0;32m--> 241\u001b[0;31m         \u001b[0mformatter\u001b[0m \u001b[0;34m=\u001b[0m \u001b[0m_Formatter\u001b[0m\u001b[0;34m(\u001b[0m\u001b[0mget_summarized_data\u001b[0m\u001b[0;34m(\u001b[0m\u001b[0mself\u001b[0m\u001b[0;34m)\u001b[0m \u001b[0;32mif\u001b[0m \u001b[0msummarize\u001b[0m \u001b[0;32melse\u001b[0m \u001b[0mself\u001b[0m\u001b[0;34m)\u001b[0m\u001b[0;34m\u001b[0m\u001b[0;34m\u001b[0m\u001b[0m\n\u001b[0m\u001b[1;32m    242\u001b[0m         \u001b[0;32mreturn\u001b[0m \u001b[0m_tensor_str_with_formatter\u001b[0m\u001b[0;34m(\u001b[0m\u001b[0mself\u001b[0m\u001b[0;34m,\u001b[0m \u001b[0mindent\u001b[0m\u001b[0;34m,\u001b[0m \u001b[0msummarize\u001b[0m\u001b[0;34m,\u001b[0m \u001b[0mformatter\u001b[0m\u001b[0;34m)\u001b[0m\u001b[0;34m\u001b[0m\u001b[0;34m\u001b[0m\u001b[0m\n\u001b[1;32m    243\u001b[0m \u001b[0;34m\u001b[0m\u001b[0m\n",
            "\u001b[0;32m/usr/local/lib/python3.6/dist-packages/torch/_tensor_str.py\u001b[0m in \u001b[0;36m__init__\u001b[0;34m(self, tensor)\u001b[0m\n\u001b[1;32m     87\u001b[0m \u001b[0;34m\u001b[0m\u001b[0m\n\u001b[1;32m     88\u001b[0m         \u001b[0;32melse\u001b[0m\u001b[0;34m:\u001b[0m\u001b[0;34m\u001b[0m\u001b[0;34m\u001b[0m\u001b[0m\n\u001b[0;32m---> 89\u001b[0;31m             \u001b[0mnonzero_finite_vals\u001b[0m \u001b[0;34m=\u001b[0m \u001b[0mtorch\u001b[0m\u001b[0;34m.\u001b[0m\u001b[0mmasked_select\u001b[0m\u001b[0;34m(\u001b[0m\u001b[0mtensor_view\u001b[0m\u001b[0;34m,\u001b[0m \u001b[0mtorch\u001b[0m\u001b[0;34m.\u001b[0m\u001b[0misfinite\u001b[0m\u001b[0;34m(\u001b[0m\u001b[0mtensor_view\u001b[0m\u001b[0;34m)\u001b[0m \u001b[0;34m&\u001b[0m \u001b[0mtensor_view\u001b[0m\u001b[0;34m.\u001b[0m\u001b[0mne\u001b[0m\u001b[0;34m(\u001b[0m\u001b[0;36m0\u001b[0m\u001b[0;34m)\u001b[0m\u001b[0;34m)\u001b[0m\u001b[0;34m\u001b[0m\u001b[0;34m\u001b[0m\u001b[0m\n\u001b[0m\u001b[1;32m     90\u001b[0m \u001b[0;34m\u001b[0m\u001b[0m\n\u001b[1;32m     91\u001b[0m             \u001b[0;32mif\u001b[0m \u001b[0mnonzero_finite_vals\u001b[0m\u001b[0;34m.\u001b[0m\u001b[0mnumel\u001b[0m\u001b[0;34m(\u001b[0m\u001b[0;34m)\u001b[0m \u001b[0;34m==\u001b[0m \u001b[0;36m0\u001b[0m\u001b[0;34m:\u001b[0m\u001b[0;34m\u001b[0m\u001b[0;34m\u001b[0m\u001b[0m\n",
            "\u001b[0;31mRuntimeError\u001b[0m: CUDA error: device-side assert triggered"
          ]
        }
      ]
    },
    {
      "cell_type": "code",
      "metadata": {
        "id": "LVX8uEA-SFNe",
        "colab_type": "code",
        "colab": {
          "base_uri": "https://localhost:8080/",
          "height": 241
        },
        "outputId": "f1baa769-a242-46b5-c631-ceb809d6b5c8"
      },
      "source": [
        "tags = ['Buildings', 'Forests', 'Mountains', 'Glacier', 'Street', 'Sea']\n",
        "\n",
        "with torch.no_grad():\n",
        "  # img[0], new_img[0], label[0]\n",
        "  if device == 'cuda': img, new_img = img.cpu(), new_img.cpu()\n",
        "  show_original_set = img.view(img.size(0),28, 28).numpy()\n",
        "  show_gen_set = new_img.view(new_img.size(0), 28, 28).numpy()\n",
        "\n",
        "  for i in range(8):\n",
        "    show_original = show_original_set[i]\n",
        "    show_gen = show_gen_set[i]\n",
        "\n",
        "    plt.subplot(2, 8, i+1)\n",
        "    plt.title('ori')\n",
        "    plt.imshow(show_original, cmap='gray')\n",
        "    plt.subplot(2, 8, i + 9)\n",
        "    plt.title('gen')\n",
        "    plt.imshow(show_gen, cmap = 'gray')\n",
        "    plt.axis(False)\n",
        "    \n",
        "  plt.suptitle('Epoch: {}'.format(epoch+1), fontsize=16)"
      ],
      "execution_count": 18,
      "outputs": [
        {
          "output_type": "error",
          "ename": "RuntimeError",
          "evalue": "ignored",
          "traceback": [
            "\u001b[0;31m---------------------------------------------------------------------------\u001b[0m",
            "\u001b[0;31mRuntimeError\u001b[0m                              Traceback (most recent call last)",
            "\u001b[0;32m<ipython-input-18-5568ee441bd5>\u001b[0m in \u001b[0;36m<module>\u001b[0;34m()\u001b[0m\n\u001b[1;32m      3\u001b[0m \u001b[0;32mwith\u001b[0m \u001b[0mtorch\u001b[0m\u001b[0;34m.\u001b[0m\u001b[0mno_grad\u001b[0m\u001b[0;34m(\u001b[0m\u001b[0;34m)\u001b[0m\u001b[0;34m:\u001b[0m\u001b[0;34m\u001b[0m\u001b[0;34m\u001b[0m\u001b[0m\n\u001b[1;32m      4\u001b[0m   \u001b[0;31m# img[0], new_img[0], label[0]\u001b[0m\u001b[0;34m\u001b[0m\u001b[0;34m\u001b[0m\u001b[0;34m\u001b[0m\u001b[0m\n\u001b[0;32m----> 5\u001b[0;31m   \u001b[0;32mif\u001b[0m \u001b[0mdevice\u001b[0m \u001b[0;34m==\u001b[0m \u001b[0;34m'cuda'\u001b[0m\u001b[0;34m:\u001b[0m \u001b[0mimg\u001b[0m\u001b[0;34m,\u001b[0m \u001b[0mnew_img\u001b[0m \u001b[0;34m=\u001b[0m \u001b[0mimg\u001b[0m\u001b[0;34m.\u001b[0m\u001b[0mcpu\u001b[0m\u001b[0;34m(\u001b[0m\u001b[0;34m)\u001b[0m\u001b[0;34m,\u001b[0m \u001b[0mnew_img\u001b[0m\u001b[0;34m.\u001b[0m\u001b[0mcpu\u001b[0m\u001b[0;34m(\u001b[0m\u001b[0;34m)\u001b[0m\u001b[0;34m\u001b[0m\u001b[0;34m\u001b[0m\u001b[0m\n\u001b[0m\u001b[1;32m      6\u001b[0m   \u001b[0mshow_original_set\u001b[0m \u001b[0;34m=\u001b[0m \u001b[0mimg\u001b[0m\u001b[0;34m.\u001b[0m\u001b[0mview\u001b[0m\u001b[0;34m(\u001b[0m\u001b[0mimg\u001b[0m\u001b[0;34m.\u001b[0m\u001b[0msize\u001b[0m\u001b[0;34m(\u001b[0m\u001b[0;36m0\u001b[0m\u001b[0;34m)\u001b[0m\u001b[0;34m,\u001b[0m\u001b[0;36m28\u001b[0m\u001b[0;34m,\u001b[0m \u001b[0;36m28\u001b[0m\u001b[0;34m)\u001b[0m\u001b[0;34m.\u001b[0m\u001b[0mnumpy\u001b[0m\u001b[0;34m(\u001b[0m\u001b[0;34m)\u001b[0m\u001b[0;34m\u001b[0m\u001b[0;34m\u001b[0m\u001b[0m\n\u001b[1;32m      7\u001b[0m   \u001b[0mshow_gen_set\u001b[0m \u001b[0;34m=\u001b[0m \u001b[0mnew_img\u001b[0m\u001b[0;34m.\u001b[0m\u001b[0mview\u001b[0m\u001b[0;34m(\u001b[0m\u001b[0mnew_img\u001b[0m\u001b[0;34m.\u001b[0m\u001b[0msize\u001b[0m\u001b[0;34m(\u001b[0m\u001b[0;36m0\u001b[0m\u001b[0;34m)\u001b[0m\u001b[0;34m,\u001b[0m \u001b[0;36m28\u001b[0m\u001b[0;34m,\u001b[0m \u001b[0;36m28\u001b[0m\u001b[0;34m)\u001b[0m\u001b[0;34m.\u001b[0m\u001b[0mnumpy\u001b[0m\u001b[0;34m(\u001b[0m\u001b[0;34m)\u001b[0m\u001b[0;34m\u001b[0m\u001b[0;34m\u001b[0m\u001b[0m\n",
            "\u001b[0;31mRuntimeError\u001b[0m: CUDA error: device-side assert triggered"
          ]
        }
      ]
    }
  ]
}