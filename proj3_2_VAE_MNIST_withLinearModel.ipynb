{
  "nbformat": 4,
  "nbformat_minor": 0,
  "metadata": {
    "colab": {
      "name": "proj3-2_VAE_MNIST_withLinearModel.ipynb",
      "provenance": [],
      "collapsed_sections": [],
      "authorship_tag": "ABX9TyPqHhMDvfJYdqugjW3DZbWo",
      "include_colab_link": true
    },
    "kernelspec": {
      "name": "python3",
      "display_name": "Python 3"
    },
    "widgets": {
      "application/vnd.jupyter.widget-state+json": {
        "b43aaa2870d04666902dbba1fd7b44d7": {
          "model_module": "@jupyter-widgets/controls",
          "model_name": "HBoxModel",
          "state": {
            "_view_name": "HBoxView",
            "_dom_classes": [],
            "_model_name": "HBoxModel",
            "_view_module": "@jupyter-widgets/controls",
            "_model_module_version": "1.5.0",
            "_view_count": null,
            "_view_module_version": "1.5.0",
            "box_style": "",
            "layout": "IPY_MODEL_8b5d6a915feb4f5cb6f60b402452bc0c",
            "_model_module": "@jupyter-widgets/controls",
            "children": [
              "IPY_MODEL_77e3a6334f6d460da44e9a78271e334d",
              "IPY_MODEL_3df970646e994fb0aa1ab9f4e2768f90"
            ]
          }
        },
        "8b5d6a915feb4f5cb6f60b402452bc0c": {
          "model_module": "@jupyter-widgets/base",
          "model_name": "LayoutModel",
          "state": {
            "_view_name": "LayoutView",
            "grid_template_rows": null,
            "right": null,
            "justify_content": null,
            "_view_module": "@jupyter-widgets/base",
            "overflow": null,
            "_model_module_version": "1.2.0",
            "_view_count": null,
            "flex_flow": null,
            "width": null,
            "min_width": null,
            "border": null,
            "align_items": null,
            "bottom": null,
            "_model_module": "@jupyter-widgets/base",
            "top": null,
            "grid_column": null,
            "overflow_y": null,
            "overflow_x": null,
            "grid_auto_flow": null,
            "grid_area": null,
            "grid_template_columns": null,
            "flex": null,
            "_model_name": "LayoutModel",
            "justify_items": null,
            "grid_row": null,
            "max_height": null,
            "align_content": null,
            "visibility": null,
            "align_self": null,
            "height": null,
            "min_height": null,
            "padding": null,
            "grid_auto_rows": null,
            "grid_gap": null,
            "max_width": null,
            "order": null,
            "_view_module_version": "1.2.0",
            "grid_template_areas": null,
            "object_position": null,
            "object_fit": null,
            "grid_auto_columns": null,
            "margin": null,
            "display": null,
            "left": null
          }
        },
        "77e3a6334f6d460da44e9a78271e334d": {
          "model_module": "@jupyter-widgets/controls",
          "model_name": "FloatProgressModel",
          "state": {
            "_view_name": "ProgressView",
            "style": "IPY_MODEL_ee80e7bcaab942ce853c2f89b80d9f1d",
            "_dom_classes": [],
            "description": "",
            "_model_name": "FloatProgressModel",
            "bar_style": "success",
            "max": 1,
            "_view_module": "@jupyter-widgets/controls",
            "_model_module_version": "1.5.0",
            "value": 1,
            "_view_count": null,
            "_view_module_version": "1.5.0",
            "orientation": "horizontal",
            "min": 0,
            "description_tooltip": null,
            "_model_module": "@jupyter-widgets/controls",
            "layout": "IPY_MODEL_7e062a5e432741f8ad2e7c26d2772edf"
          }
        },
        "3df970646e994fb0aa1ab9f4e2768f90": {
          "model_module": "@jupyter-widgets/controls",
          "model_name": "HTMLModel",
          "state": {
            "_view_name": "HTMLView",
            "style": "IPY_MODEL_d1cbf6a8b37c4c9c9a4907718675f6b5",
            "_dom_classes": [],
            "description": "",
            "_model_name": "HTMLModel",
            "placeholder": "​",
            "_view_module": "@jupyter-widgets/controls",
            "_model_module_version": "1.5.0",
            "value": " 9920512/? [00:02&lt;00:00, 4238820.86it/s]",
            "_view_count": null,
            "_view_module_version": "1.5.0",
            "description_tooltip": null,
            "_model_module": "@jupyter-widgets/controls",
            "layout": "IPY_MODEL_1dfe898657e94ddc8e590b09f55dcb12"
          }
        },
        "ee80e7bcaab942ce853c2f89b80d9f1d": {
          "model_module": "@jupyter-widgets/controls",
          "model_name": "ProgressStyleModel",
          "state": {
            "_view_name": "StyleView",
            "_model_name": "ProgressStyleModel",
            "description_width": "initial",
            "_view_module": "@jupyter-widgets/base",
            "_model_module_version": "1.5.0",
            "_view_count": null,
            "_view_module_version": "1.2.0",
            "bar_color": null,
            "_model_module": "@jupyter-widgets/controls"
          }
        },
        "7e062a5e432741f8ad2e7c26d2772edf": {
          "model_module": "@jupyter-widgets/base",
          "model_name": "LayoutModel",
          "state": {
            "_view_name": "LayoutView",
            "grid_template_rows": null,
            "right": null,
            "justify_content": null,
            "_view_module": "@jupyter-widgets/base",
            "overflow": null,
            "_model_module_version": "1.2.0",
            "_view_count": null,
            "flex_flow": null,
            "width": null,
            "min_width": null,
            "border": null,
            "align_items": null,
            "bottom": null,
            "_model_module": "@jupyter-widgets/base",
            "top": null,
            "grid_column": null,
            "overflow_y": null,
            "overflow_x": null,
            "grid_auto_flow": null,
            "grid_area": null,
            "grid_template_columns": null,
            "flex": null,
            "_model_name": "LayoutModel",
            "justify_items": null,
            "grid_row": null,
            "max_height": null,
            "align_content": null,
            "visibility": null,
            "align_self": null,
            "height": null,
            "min_height": null,
            "padding": null,
            "grid_auto_rows": null,
            "grid_gap": null,
            "max_width": null,
            "order": null,
            "_view_module_version": "1.2.0",
            "grid_template_areas": null,
            "object_position": null,
            "object_fit": null,
            "grid_auto_columns": null,
            "margin": null,
            "display": null,
            "left": null
          }
        },
        "d1cbf6a8b37c4c9c9a4907718675f6b5": {
          "model_module": "@jupyter-widgets/controls",
          "model_name": "DescriptionStyleModel",
          "state": {
            "_view_name": "StyleView",
            "_model_name": "DescriptionStyleModel",
            "description_width": "",
            "_view_module": "@jupyter-widgets/base",
            "_model_module_version": "1.5.0",
            "_view_count": null,
            "_view_module_version": "1.2.0",
            "_model_module": "@jupyter-widgets/controls"
          }
        },
        "1dfe898657e94ddc8e590b09f55dcb12": {
          "model_module": "@jupyter-widgets/base",
          "model_name": "LayoutModel",
          "state": {
            "_view_name": "LayoutView",
            "grid_template_rows": null,
            "right": null,
            "justify_content": null,
            "_view_module": "@jupyter-widgets/base",
            "overflow": null,
            "_model_module_version": "1.2.0",
            "_view_count": null,
            "flex_flow": null,
            "width": null,
            "min_width": null,
            "border": null,
            "align_items": null,
            "bottom": null,
            "_model_module": "@jupyter-widgets/base",
            "top": null,
            "grid_column": null,
            "overflow_y": null,
            "overflow_x": null,
            "grid_auto_flow": null,
            "grid_area": null,
            "grid_template_columns": null,
            "flex": null,
            "_model_name": "LayoutModel",
            "justify_items": null,
            "grid_row": null,
            "max_height": null,
            "align_content": null,
            "visibility": null,
            "align_self": null,
            "height": null,
            "min_height": null,
            "padding": null,
            "grid_auto_rows": null,
            "grid_gap": null,
            "max_width": null,
            "order": null,
            "_view_module_version": "1.2.0",
            "grid_template_areas": null,
            "object_position": null,
            "object_fit": null,
            "grid_auto_columns": null,
            "margin": null,
            "display": null,
            "left": null
          }
        },
        "7880cac95a2b4fe38269ffbaf6d7a37c": {
          "model_module": "@jupyter-widgets/controls",
          "model_name": "HBoxModel",
          "state": {
            "_view_name": "HBoxView",
            "_dom_classes": [],
            "_model_name": "HBoxModel",
            "_view_module": "@jupyter-widgets/controls",
            "_model_module_version": "1.5.0",
            "_view_count": null,
            "_view_module_version": "1.5.0",
            "box_style": "",
            "layout": "IPY_MODEL_3fc901855e2a4de789a49fb0fd8c4412",
            "_model_module": "@jupyter-widgets/controls",
            "children": [
              "IPY_MODEL_a212d1e322c34324a0fb5b4236cc458c",
              "IPY_MODEL_6825d6d107224d2fb34d8c6f970a4373"
            ]
          }
        },
        "3fc901855e2a4de789a49fb0fd8c4412": {
          "model_module": "@jupyter-widgets/base",
          "model_name": "LayoutModel",
          "state": {
            "_view_name": "LayoutView",
            "grid_template_rows": null,
            "right": null,
            "justify_content": null,
            "_view_module": "@jupyter-widgets/base",
            "overflow": null,
            "_model_module_version": "1.2.0",
            "_view_count": null,
            "flex_flow": null,
            "width": null,
            "min_width": null,
            "border": null,
            "align_items": null,
            "bottom": null,
            "_model_module": "@jupyter-widgets/base",
            "top": null,
            "grid_column": null,
            "overflow_y": null,
            "overflow_x": null,
            "grid_auto_flow": null,
            "grid_area": null,
            "grid_template_columns": null,
            "flex": null,
            "_model_name": "LayoutModel",
            "justify_items": null,
            "grid_row": null,
            "max_height": null,
            "align_content": null,
            "visibility": null,
            "align_self": null,
            "height": null,
            "min_height": null,
            "padding": null,
            "grid_auto_rows": null,
            "grid_gap": null,
            "max_width": null,
            "order": null,
            "_view_module_version": "1.2.0",
            "grid_template_areas": null,
            "object_position": null,
            "object_fit": null,
            "grid_auto_columns": null,
            "margin": null,
            "display": null,
            "left": null
          }
        },
        "a212d1e322c34324a0fb5b4236cc458c": {
          "model_module": "@jupyter-widgets/controls",
          "model_name": "FloatProgressModel",
          "state": {
            "_view_name": "ProgressView",
            "style": "IPY_MODEL_b492842e681940f2b23c0bfd80565147",
            "_dom_classes": [],
            "description": "  0%",
            "_model_name": "FloatProgressModel",
            "bar_style": "info",
            "max": 1,
            "_view_module": "@jupyter-widgets/controls",
            "_model_module_version": "1.5.0",
            "value": 0,
            "_view_count": null,
            "_view_module_version": "1.5.0",
            "orientation": "horizontal",
            "min": 0,
            "description_tooltip": null,
            "_model_module": "@jupyter-widgets/controls",
            "layout": "IPY_MODEL_eeeeabbb5e7d4cf2994e4bb6021baf0e"
          }
        },
        "6825d6d107224d2fb34d8c6f970a4373": {
          "model_module": "@jupyter-widgets/controls",
          "model_name": "HTMLModel",
          "state": {
            "_view_name": "HTMLView",
            "style": "IPY_MODEL_240737bb6a9c403faf5bd71025e1cbd2",
            "_dom_classes": [],
            "description": "",
            "_model_name": "HTMLModel",
            "placeholder": "​",
            "_view_module": "@jupyter-widgets/controls",
            "_model_module_version": "1.5.0",
            "value": " 0/28881 [00:00&lt;?, ?it/s]",
            "_view_count": null,
            "_view_module_version": "1.5.0",
            "description_tooltip": null,
            "_model_module": "@jupyter-widgets/controls",
            "layout": "IPY_MODEL_77a69225b2154cefa83efb8fee96de50"
          }
        },
        "b492842e681940f2b23c0bfd80565147": {
          "model_module": "@jupyter-widgets/controls",
          "model_name": "ProgressStyleModel",
          "state": {
            "_view_name": "StyleView",
            "_model_name": "ProgressStyleModel",
            "description_width": "initial",
            "_view_module": "@jupyter-widgets/base",
            "_model_module_version": "1.5.0",
            "_view_count": null,
            "_view_module_version": "1.2.0",
            "bar_color": null,
            "_model_module": "@jupyter-widgets/controls"
          }
        },
        "eeeeabbb5e7d4cf2994e4bb6021baf0e": {
          "model_module": "@jupyter-widgets/base",
          "model_name": "LayoutModel",
          "state": {
            "_view_name": "LayoutView",
            "grid_template_rows": null,
            "right": null,
            "justify_content": null,
            "_view_module": "@jupyter-widgets/base",
            "overflow": null,
            "_model_module_version": "1.2.0",
            "_view_count": null,
            "flex_flow": null,
            "width": null,
            "min_width": null,
            "border": null,
            "align_items": null,
            "bottom": null,
            "_model_module": "@jupyter-widgets/base",
            "top": null,
            "grid_column": null,
            "overflow_y": null,
            "overflow_x": null,
            "grid_auto_flow": null,
            "grid_area": null,
            "grid_template_columns": null,
            "flex": null,
            "_model_name": "LayoutModel",
            "justify_items": null,
            "grid_row": null,
            "max_height": null,
            "align_content": null,
            "visibility": null,
            "align_self": null,
            "height": null,
            "min_height": null,
            "padding": null,
            "grid_auto_rows": null,
            "grid_gap": null,
            "max_width": null,
            "order": null,
            "_view_module_version": "1.2.0",
            "grid_template_areas": null,
            "object_position": null,
            "object_fit": null,
            "grid_auto_columns": null,
            "margin": null,
            "display": null,
            "left": null
          }
        },
        "240737bb6a9c403faf5bd71025e1cbd2": {
          "model_module": "@jupyter-widgets/controls",
          "model_name": "DescriptionStyleModel",
          "state": {
            "_view_name": "StyleView",
            "_model_name": "DescriptionStyleModel",
            "description_width": "",
            "_view_module": "@jupyter-widgets/base",
            "_model_module_version": "1.5.0",
            "_view_count": null,
            "_view_module_version": "1.2.0",
            "_model_module": "@jupyter-widgets/controls"
          }
        },
        "77a69225b2154cefa83efb8fee96de50": {
          "model_module": "@jupyter-widgets/base",
          "model_name": "LayoutModel",
          "state": {
            "_view_name": "LayoutView",
            "grid_template_rows": null,
            "right": null,
            "justify_content": null,
            "_view_module": "@jupyter-widgets/base",
            "overflow": null,
            "_model_module_version": "1.2.0",
            "_view_count": null,
            "flex_flow": null,
            "width": null,
            "min_width": null,
            "border": null,
            "align_items": null,
            "bottom": null,
            "_model_module": "@jupyter-widgets/base",
            "top": null,
            "grid_column": null,
            "overflow_y": null,
            "overflow_x": null,
            "grid_auto_flow": null,
            "grid_area": null,
            "grid_template_columns": null,
            "flex": null,
            "_model_name": "LayoutModel",
            "justify_items": null,
            "grid_row": null,
            "max_height": null,
            "align_content": null,
            "visibility": null,
            "align_self": null,
            "height": null,
            "min_height": null,
            "padding": null,
            "grid_auto_rows": null,
            "grid_gap": null,
            "max_width": null,
            "order": null,
            "_view_module_version": "1.2.0",
            "grid_template_areas": null,
            "object_position": null,
            "object_fit": null,
            "grid_auto_columns": null,
            "margin": null,
            "display": null,
            "left": null
          }
        },
        "b19b7953f223493f97330e4d586f9658": {
          "model_module": "@jupyter-widgets/controls",
          "model_name": "HBoxModel",
          "state": {
            "_view_name": "HBoxView",
            "_dom_classes": [],
            "_model_name": "HBoxModel",
            "_view_module": "@jupyter-widgets/controls",
            "_model_module_version": "1.5.0",
            "_view_count": null,
            "_view_module_version": "1.5.0",
            "box_style": "",
            "layout": "IPY_MODEL_3db7a0df38144f4389bb41bc888e02aa",
            "_model_module": "@jupyter-widgets/controls",
            "children": [
              "IPY_MODEL_c7e00445934d451a93fb9065c30e75d7",
              "IPY_MODEL_78b11aa000934a29a2fb346d75d16752"
            ]
          }
        },
        "3db7a0df38144f4389bb41bc888e02aa": {
          "model_module": "@jupyter-widgets/base",
          "model_name": "LayoutModel",
          "state": {
            "_view_name": "LayoutView",
            "grid_template_rows": null,
            "right": null,
            "justify_content": null,
            "_view_module": "@jupyter-widgets/base",
            "overflow": null,
            "_model_module_version": "1.2.0",
            "_view_count": null,
            "flex_flow": null,
            "width": null,
            "min_width": null,
            "border": null,
            "align_items": null,
            "bottom": null,
            "_model_module": "@jupyter-widgets/base",
            "top": null,
            "grid_column": null,
            "overflow_y": null,
            "overflow_x": null,
            "grid_auto_flow": null,
            "grid_area": null,
            "grid_template_columns": null,
            "flex": null,
            "_model_name": "LayoutModel",
            "justify_items": null,
            "grid_row": null,
            "max_height": null,
            "align_content": null,
            "visibility": null,
            "align_self": null,
            "height": null,
            "min_height": null,
            "padding": null,
            "grid_auto_rows": null,
            "grid_gap": null,
            "max_width": null,
            "order": null,
            "_view_module_version": "1.2.0",
            "grid_template_areas": null,
            "object_position": null,
            "object_fit": null,
            "grid_auto_columns": null,
            "margin": null,
            "display": null,
            "left": null
          }
        },
        "c7e00445934d451a93fb9065c30e75d7": {
          "model_module": "@jupyter-widgets/controls",
          "model_name": "FloatProgressModel",
          "state": {
            "_view_name": "ProgressView",
            "style": "IPY_MODEL_66663455db8543ef88d2831614b3614a",
            "_dom_classes": [],
            "description": "",
            "_model_name": "FloatProgressModel",
            "bar_style": "success",
            "max": 1,
            "_view_module": "@jupyter-widgets/controls",
            "_model_module_version": "1.5.0",
            "value": 1,
            "_view_count": null,
            "_view_module_version": "1.5.0",
            "orientation": "horizontal",
            "min": 0,
            "description_tooltip": null,
            "_model_module": "@jupyter-widgets/controls",
            "layout": "IPY_MODEL_04ca0777173b4a2bab96b51eb862ab4a"
          }
        },
        "78b11aa000934a29a2fb346d75d16752": {
          "model_module": "@jupyter-widgets/controls",
          "model_name": "HTMLModel",
          "state": {
            "_view_name": "HTMLView",
            "style": "IPY_MODEL_01d68b14048348cd8f5ed430a356d94c",
            "_dom_classes": [],
            "description": "",
            "_model_name": "HTMLModel",
            "placeholder": "​",
            "_view_module": "@jupyter-widgets/controls",
            "_model_module_version": "1.5.0",
            "value": " 1654784/? [00:01&lt;00:00, 1402557.90it/s]",
            "_view_count": null,
            "_view_module_version": "1.5.0",
            "description_tooltip": null,
            "_model_module": "@jupyter-widgets/controls",
            "layout": "IPY_MODEL_31fed98e28924c9b8a0b2ca3da9f03d4"
          }
        },
        "66663455db8543ef88d2831614b3614a": {
          "model_module": "@jupyter-widgets/controls",
          "model_name": "ProgressStyleModel",
          "state": {
            "_view_name": "StyleView",
            "_model_name": "ProgressStyleModel",
            "description_width": "initial",
            "_view_module": "@jupyter-widgets/base",
            "_model_module_version": "1.5.0",
            "_view_count": null,
            "_view_module_version": "1.2.0",
            "bar_color": null,
            "_model_module": "@jupyter-widgets/controls"
          }
        },
        "04ca0777173b4a2bab96b51eb862ab4a": {
          "model_module": "@jupyter-widgets/base",
          "model_name": "LayoutModel",
          "state": {
            "_view_name": "LayoutView",
            "grid_template_rows": null,
            "right": null,
            "justify_content": null,
            "_view_module": "@jupyter-widgets/base",
            "overflow": null,
            "_model_module_version": "1.2.0",
            "_view_count": null,
            "flex_flow": null,
            "width": null,
            "min_width": null,
            "border": null,
            "align_items": null,
            "bottom": null,
            "_model_module": "@jupyter-widgets/base",
            "top": null,
            "grid_column": null,
            "overflow_y": null,
            "overflow_x": null,
            "grid_auto_flow": null,
            "grid_area": null,
            "grid_template_columns": null,
            "flex": null,
            "_model_name": "LayoutModel",
            "justify_items": null,
            "grid_row": null,
            "max_height": null,
            "align_content": null,
            "visibility": null,
            "align_self": null,
            "height": null,
            "min_height": null,
            "padding": null,
            "grid_auto_rows": null,
            "grid_gap": null,
            "max_width": null,
            "order": null,
            "_view_module_version": "1.2.0",
            "grid_template_areas": null,
            "object_position": null,
            "object_fit": null,
            "grid_auto_columns": null,
            "margin": null,
            "display": null,
            "left": null
          }
        },
        "01d68b14048348cd8f5ed430a356d94c": {
          "model_module": "@jupyter-widgets/controls",
          "model_name": "DescriptionStyleModel",
          "state": {
            "_view_name": "StyleView",
            "_model_name": "DescriptionStyleModel",
            "description_width": "",
            "_view_module": "@jupyter-widgets/base",
            "_model_module_version": "1.5.0",
            "_view_count": null,
            "_view_module_version": "1.2.0",
            "_model_module": "@jupyter-widgets/controls"
          }
        },
        "31fed98e28924c9b8a0b2ca3da9f03d4": {
          "model_module": "@jupyter-widgets/base",
          "model_name": "LayoutModel",
          "state": {
            "_view_name": "LayoutView",
            "grid_template_rows": null,
            "right": null,
            "justify_content": null,
            "_view_module": "@jupyter-widgets/base",
            "overflow": null,
            "_model_module_version": "1.2.0",
            "_view_count": null,
            "flex_flow": null,
            "width": null,
            "min_width": null,
            "border": null,
            "align_items": null,
            "bottom": null,
            "_model_module": "@jupyter-widgets/base",
            "top": null,
            "grid_column": null,
            "overflow_y": null,
            "overflow_x": null,
            "grid_auto_flow": null,
            "grid_area": null,
            "grid_template_columns": null,
            "flex": null,
            "_model_name": "LayoutModel",
            "justify_items": null,
            "grid_row": null,
            "max_height": null,
            "align_content": null,
            "visibility": null,
            "align_self": null,
            "height": null,
            "min_height": null,
            "padding": null,
            "grid_auto_rows": null,
            "grid_gap": null,
            "max_width": null,
            "order": null,
            "_view_module_version": "1.2.0",
            "grid_template_areas": null,
            "object_position": null,
            "object_fit": null,
            "grid_auto_columns": null,
            "margin": null,
            "display": null,
            "left": null
          }
        },
        "ca00543ab31b492ca2f99363a3998e03": {
          "model_module": "@jupyter-widgets/controls",
          "model_name": "HBoxModel",
          "state": {
            "_view_name": "HBoxView",
            "_dom_classes": [],
            "_model_name": "HBoxModel",
            "_view_module": "@jupyter-widgets/controls",
            "_model_module_version": "1.5.0",
            "_view_count": null,
            "_view_module_version": "1.5.0",
            "box_style": "",
            "layout": "IPY_MODEL_e08f8ae0b9f94b95922482d669c27953",
            "_model_module": "@jupyter-widgets/controls",
            "children": [
              "IPY_MODEL_b56e80810eca4a0eb25e5e21d593d9eb",
              "IPY_MODEL_edd34c0271f14687adc49d0cb9769d9a"
            ]
          }
        },
        "e08f8ae0b9f94b95922482d669c27953": {
          "model_module": "@jupyter-widgets/base",
          "model_name": "LayoutModel",
          "state": {
            "_view_name": "LayoutView",
            "grid_template_rows": null,
            "right": null,
            "justify_content": null,
            "_view_module": "@jupyter-widgets/base",
            "overflow": null,
            "_model_module_version": "1.2.0",
            "_view_count": null,
            "flex_flow": null,
            "width": null,
            "min_width": null,
            "border": null,
            "align_items": null,
            "bottom": null,
            "_model_module": "@jupyter-widgets/base",
            "top": null,
            "grid_column": null,
            "overflow_y": null,
            "overflow_x": null,
            "grid_auto_flow": null,
            "grid_area": null,
            "grid_template_columns": null,
            "flex": null,
            "_model_name": "LayoutModel",
            "justify_items": null,
            "grid_row": null,
            "max_height": null,
            "align_content": null,
            "visibility": null,
            "align_self": null,
            "height": null,
            "min_height": null,
            "padding": null,
            "grid_auto_rows": null,
            "grid_gap": null,
            "max_width": null,
            "order": null,
            "_view_module_version": "1.2.0",
            "grid_template_areas": null,
            "object_position": null,
            "object_fit": null,
            "grid_auto_columns": null,
            "margin": null,
            "display": null,
            "left": null
          }
        },
        "b56e80810eca4a0eb25e5e21d593d9eb": {
          "model_module": "@jupyter-widgets/controls",
          "model_name": "FloatProgressModel",
          "state": {
            "_view_name": "ProgressView",
            "style": "IPY_MODEL_510690deb43a4515974e5b828c5212a4",
            "_dom_classes": [],
            "description": "",
            "_model_name": "FloatProgressModel",
            "bar_style": "success",
            "max": 1,
            "_view_module": "@jupyter-widgets/controls",
            "_model_module_version": "1.5.0",
            "value": 1,
            "_view_count": null,
            "_view_module_version": "1.5.0",
            "orientation": "horizontal",
            "min": 0,
            "description_tooltip": null,
            "_model_module": "@jupyter-widgets/controls",
            "layout": "IPY_MODEL_a852f0a830264be282718bf945757d11"
          }
        },
        "edd34c0271f14687adc49d0cb9769d9a": {
          "model_module": "@jupyter-widgets/controls",
          "model_name": "HTMLModel",
          "state": {
            "_view_name": "HTMLView",
            "style": "IPY_MODEL_2420cd11b26b4c2ba997a682108e4c20",
            "_dom_classes": [],
            "description": "",
            "_model_name": "HTMLModel",
            "placeholder": "​",
            "_view_module": "@jupyter-widgets/controls",
            "_model_module_version": "1.5.0",
            "value": " 8192/? [00:00&lt;00:00, 21396.41it/s]",
            "_view_count": null,
            "_view_module_version": "1.5.0",
            "description_tooltip": null,
            "_model_module": "@jupyter-widgets/controls",
            "layout": "IPY_MODEL_9516e77f07e34dd3926c0ff532ac7707"
          }
        },
        "510690deb43a4515974e5b828c5212a4": {
          "model_module": "@jupyter-widgets/controls",
          "model_name": "ProgressStyleModel",
          "state": {
            "_view_name": "StyleView",
            "_model_name": "ProgressStyleModel",
            "description_width": "initial",
            "_view_module": "@jupyter-widgets/base",
            "_model_module_version": "1.5.0",
            "_view_count": null,
            "_view_module_version": "1.2.0",
            "bar_color": null,
            "_model_module": "@jupyter-widgets/controls"
          }
        },
        "a852f0a830264be282718bf945757d11": {
          "model_module": "@jupyter-widgets/base",
          "model_name": "LayoutModel",
          "state": {
            "_view_name": "LayoutView",
            "grid_template_rows": null,
            "right": null,
            "justify_content": null,
            "_view_module": "@jupyter-widgets/base",
            "overflow": null,
            "_model_module_version": "1.2.0",
            "_view_count": null,
            "flex_flow": null,
            "width": null,
            "min_width": null,
            "border": null,
            "align_items": null,
            "bottom": null,
            "_model_module": "@jupyter-widgets/base",
            "top": null,
            "grid_column": null,
            "overflow_y": null,
            "overflow_x": null,
            "grid_auto_flow": null,
            "grid_area": null,
            "grid_template_columns": null,
            "flex": null,
            "_model_name": "LayoutModel",
            "justify_items": null,
            "grid_row": null,
            "max_height": null,
            "align_content": null,
            "visibility": null,
            "align_self": null,
            "height": null,
            "min_height": null,
            "padding": null,
            "grid_auto_rows": null,
            "grid_gap": null,
            "max_width": null,
            "order": null,
            "_view_module_version": "1.2.0",
            "grid_template_areas": null,
            "object_position": null,
            "object_fit": null,
            "grid_auto_columns": null,
            "margin": null,
            "display": null,
            "left": null
          }
        },
        "2420cd11b26b4c2ba997a682108e4c20": {
          "model_module": "@jupyter-widgets/controls",
          "model_name": "DescriptionStyleModel",
          "state": {
            "_view_name": "StyleView",
            "_model_name": "DescriptionStyleModel",
            "description_width": "",
            "_view_module": "@jupyter-widgets/base",
            "_model_module_version": "1.5.0",
            "_view_count": null,
            "_view_module_version": "1.2.0",
            "_model_module": "@jupyter-widgets/controls"
          }
        },
        "9516e77f07e34dd3926c0ff532ac7707": {
          "model_module": "@jupyter-widgets/base",
          "model_name": "LayoutModel",
          "state": {
            "_view_name": "LayoutView",
            "grid_template_rows": null,
            "right": null,
            "justify_content": null,
            "_view_module": "@jupyter-widgets/base",
            "overflow": null,
            "_model_module_version": "1.2.0",
            "_view_count": null,
            "flex_flow": null,
            "width": null,
            "min_width": null,
            "border": null,
            "align_items": null,
            "bottom": null,
            "_model_module": "@jupyter-widgets/base",
            "top": null,
            "grid_column": null,
            "overflow_y": null,
            "overflow_x": null,
            "grid_auto_flow": null,
            "grid_area": null,
            "grid_template_columns": null,
            "flex": null,
            "_model_name": "LayoutModel",
            "justify_items": null,
            "grid_row": null,
            "max_height": null,
            "align_content": null,
            "visibility": null,
            "align_self": null,
            "height": null,
            "min_height": null,
            "padding": null,
            "grid_auto_rows": null,
            "grid_gap": null,
            "max_width": null,
            "order": null,
            "_view_module_version": "1.2.0",
            "grid_template_areas": null,
            "object_position": null,
            "object_fit": null,
            "grid_auto_columns": null,
            "margin": null,
            "display": null,
            "left": null
          }
        }
      }
    }
  },
  "cells": [
    {
      "cell_type": "markdown",
      "metadata": {
        "id": "view-in-github",
        "colab_type": "text"
      },
      "source": [
        "<a href=\"https://colab.research.google.com/github/khodid/2020Evening/blob/master/proj3_2_VAE_MNIST_withLinearModel.ipynb\" target=\"_parent\"><img src=\"https://colab.research.google.com/assets/colab-badge.svg\" alt=\"Open In Colab\"/></a>"
      ]
    },
    {
      "cell_type": "code",
      "metadata": {
        "id": "PIAh7vsL7aCM",
        "colab_type": "code",
        "colab": {
          "base_uri": "https://localhost:8080/",
          "height": 432,
          "referenced_widgets": [
            "b43aaa2870d04666902dbba1fd7b44d7",
            "8b5d6a915feb4f5cb6f60b402452bc0c",
            "77e3a6334f6d460da44e9a78271e334d",
            "3df970646e994fb0aa1ab9f4e2768f90",
            "ee80e7bcaab942ce853c2f89b80d9f1d",
            "7e062a5e432741f8ad2e7c26d2772edf",
            "d1cbf6a8b37c4c9c9a4907718675f6b5",
            "1dfe898657e94ddc8e590b09f55dcb12",
            "7880cac95a2b4fe38269ffbaf6d7a37c",
            "3fc901855e2a4de789a49fb0fd8c4412",
            "a212d1e322c34324a0fb5b4236cc458c",
            "6825d6d107224d2fb34d8c6f970a4373",
            "b492842e681940f2b23c0bfd80565147",
            "eeeeabbb5e7d4cf2994e4bb6021baf0e",
            "240737bb6a9c403faf5bd71025e1cbd2",
            "77a69225b2154cefa83efb8fee96de50",
            "b19b7953f223493f97330e4d586f9658",
            "3db7a0df38144f4389bb41bc888e02aa",
            "c7e00445934d451a93fb9065c30e75d7",
            "78b11aa000934a29a2fb346d75d16752",
            "66663455db8543ef88d2831614b3614a",
            "04ca0777173b4a2bab96b51eb862ab4a",
            "01d68b14048348cd8f5ed430a356d94c",
            "31fed98e28924c9b8a0b2ca3da9f03d4",
            "ca00543ab31b492ca2f99363a3998e03",
            "e08f8ae0b9f94b95922482d669c27953",
            "b56e80810eca4a0eb25e5e21d593d9eb",
            "edd34c0271f14687adc49d0cb9769d9a",
            "510690deb43a4515974e5b828c5212a4",
            "a852f0a830264be282718bf945757d11",
            "2420cd11b26b4c2ba997a682108e4c20",
            "9516e77f07e34dd3926c0ff532ac7707"
          ]
        },
        "outputId": "0906e3f3-578b-49ba-b854-82e856e135cd"
      },
      "source": [
        "import torchvision\n",
        "\n",
        "MNIST_train = torchvision.datasets.MNIST(root = './content', train = True, transform = torchvision.transforms.ToTensor(), download = True)"
      ],
      "execution_count": 1,
      "outputs": [
        {
          "output_type": "stream",
          "text": [
            "Downloading http://yann.lecun.com/exdb/mnist/train-images-idx3-ubyte.gz to ./content/MNIST/raw/train-images-idx3-ubyte.gz\n"
          ],
          "name": "stdout"
        },
        {
          "output_type": "display_data",
          "data": {
            "application/vnd.jupyter.widget-view+json": {
              "model_id": "b43aaa2870d04666902dbba1fd7b44d7",
              "version_minor": 0,
              "version_major": 2
            },
            "text/plain": [
              "HBox(children=(FloatProgress(value=1.0, bar_style='info', max=1.0), HTML(value='')))"
            ]
          },
          "metadata": {
            "tags": []
          }
        },
        {
          "output_type": "stream",
          "text": [
            "Extracting ./content/MNIST/raw/train-images-idx3-ubyte.gz to ./content/MNIST/raw\n",
            "Downloading http://yann.lecun.com/exdb/mnist/train-labels-idx1-ubyte.gz to ./content/MNIST/raw/train-labels-idx1-ubyte.gz\n",
            "\n"
          ],
          "name": "stdout"
        },
        {
          "output_type": "display_data",
          "data": {
            "application/vnd.jupyter.widget-view+json": {
              "model_id": "7880cac95a2b4fe38269ffbaf6d7a37c",
              "version_minor": 0,
              "version_major": 2
            },
            "text/plain": [
              "HBox(children=(FloatProgress(value=1.0, bar_style='info', max=1.0), HTML(value='')))"
            ]
          },
          "metadata": {
            "tags": []
          }
        },
        {
          "output_type": "stream",
          "text": [
            "Extracting ./content/MNIST/raw/train-labels-idx1-ubyte.gz to ./content/MNIST/raw\n",
            "Downloading http://yann.lecun.com/exdb/mnist/t10k-images-idx3-ubyte.gz to ./content/MNIST/raw/t10k-images-idx3-ubyte.gz\n"
          ],
          "name": "stdout"
        },
        {
          "output_type": "display_data",
          "data": {
            "application/vnd.jupyter.widget-view+json": {
              "model_id": "b19b7953f223493f97330e4d586f9658",
              "version_minor": 0,
              "version_major": 2
            },
            "text/plain": [
              "HBox(children=(FloatProgress(value=1.0, bar_style='info', max=1.0), HTML(value='')))"
            ]
          },
          "metadata": {
            "tags": []
          }
        },
        {
          "output_type": "stream",
          "text": [
            "Extracting ./content/MNIST/raw/t10k-images-idx3-ubyte.gz to ./content/MNIST/raw\n",
            "Downloading http://yann.lecun.com/exdb/mnist/t10k-labels-idx1-ubyte.gz to ./content/MNIST/raw/t10k-labels-idx1-ubyte.gz\n"
          ],
          "name": "stdout"
        },
        {
          "output_type": "display_data",
          "data": {
            "application/vnd.jupyter.widget-view+json": {
              "model_id": "ca00543ab31b492ca2f99363a3998e03",
              "version_minor": 0,
              "version_major": 2
            },
            "text/plain": [
              "HBox(children=(FloatProgress(value=1.0, bar_style='info', max=1.0), HTML(value='')))"
            ]
          },
          "metadata": {
            "tags": []
          }
        },
        {
          "output_type": "stream",
          "text": [
            "Extracting ./content/MNIST/raw/t10k-labels-idx1-ubyte.gz to ./content/MNIST/raw\n",
            "Processing...\n",
            "Done!\n",
            "\n",
            "\n"
          ],
          "name": "stdout"
        },
        {
          "output_type": "stream",
          "text": [
            "/usr/local/lib/python3.6/dist-packages/torchvision/datasets/mnist.py:469: UserWarning: The given NumPy array is not writeable, and PyTorch does not support non-writeable tensors. This means you can write to the underlying (supposedly non-writeable) NumPy array using the tensor. You may want to copy the array to protect its data or make it writeable before converting it to a tensor. This type of warning will be suppressed for the rest of this program. (Triggered internally at  /pytorch/torch/csrc/utils/tensor_numpy.cpp:141.)\n",
            "  return torch.from_numpy(parsed.astype(m[2], copy=False)).view(*s)\n"
          ],
          "name": "stderr"
        }
      ]
    },
    {
      "cell_type": "code",
      "metadata": {
        "id": "2aoSa0mUiaJB",
        "colab_type": "code",
        "colab": {}
      },
      "source": [
        "import torch.utils"
      ],
      "execution_count": 2,
      "outputs": []
    },
    {
      "cell_type": "code",
      "metadata": {
        "id": "hFs4tu3Djefs",
        "colab_type": "code",
        "colab": {}
      },
      "source": [
        "# dataloader 설정\n",
        "batch_size = 20\n",
        "\n",
        "train_set = torch.utils.data.DataLoader(MNIST_train, batch_size= batch_size, shuffle = True, drop_last = True)"
      ],
      "execution_count": 3,
      "outputs": []
    },
    {
      "cell_type": "code",
      "metadata": {
        "id": "sG_tq_y1kkxd",
        "colab_type": "code",
        "colab": {}
      },
      "source": [
        "# 디바이스 설정\n",
        "import torch.cuda\n",
        "device = 'cuda' if torch.cuda.is_available() else 'cpu'\n",
        "\n",
        "torch.manual_seed(777)\n",
        "if device == 'cuda' : torch.cuda.manual_seed_all(777)"
      ],
      "execution_count": 4,
      "outputs": []
    },
    {
      "cell_type": "code",
      "metadata": {
        "id": "oRybeWt2GBlV",
        "colab_type": "code",
        "colab": {
          "base_uri": "https://localhost:8080/",
          "height": 52
        },
        "outputId": "54d2d5e8-6df4-4f73-ea91-f31f7c2ab4c3"
      },
      "source": [
        "# Checking training data shape\n",
        "print(type(train_set))\n",
        "for img, label in train_set:\n",
        "  break\n",
        "print(img.shape)"
      ],
      "execution_count": 5,
      "outputs": [
        {
          "output_type": "stream",
          "text": [
            "<class 'torch.utils.data.dataloader.DataLoader'>\n",
            "torch.Size([20, 1, 28, 28])\n"
          ],
          "name": "stdout"
        }
      ]
    },
    {
      "cell_type": "code",
      "metadata": {
        "id": "RTS5EPtE7mUV",
        "colab_type": "code",
        "colab": {}
      },
      "source": [
        "import torch.nn as nn\n",
        "\n",
        "class VAE(nn.Module):\n",
        "  def __init__(self, latent_size):\n",
        "    super(VAE, self).__init__()\n",
        "    self.latent_size = latent_size\n",
        "    self.encoder = nn.Sequential(\n",
        "        nn.Flatten(),\n",
        "        nn.Linear(784, 512),\n",
        "        nn.Linear(512, 256)\n",
        "        )\n",
        "    self.mu = nn.Linear(256, self.latent_size)\n",
        "    self.var = nn.Linear(256, self.latent_size)\n",
        "    self.decoder = nn.Sequential(\n",
        "        nn.Linear(self.latent_size, 256),\n",
        "        nn.Linear(256, 512),\n",
        "        nn.Linear(512, 784),\n",
        "        nn.Sigmoid()\n",
        "        )\n",
        "      \n",
        "  def sampler(self, mu, var):\n",
        "    sigma = torch.exp(0.5*var)\n",
        "    epsilon = torch.randn_like(sigma)\n",
        "    return mu + epsilon*sigma\n",
        "\n",
        "  def Encode(self, x):\n",
        "    z = self.encoder(x)\n",
        "    mu = self.mu(z)\n",
        "    var = self.var(z)\n",
        "    z = self.sampler(mu, var)\n",
        "    return z, mu, var\n",
        "\n",
        "  def Decode(self, z):\n",
        "    img = self.decoder(z)\n",
        "    img = img.view(z.size(0), 1, 28, 28)\n",
        "    return img\n",
        "  \n",
        "  def forward(self, x):\n",
        "    z, mu, var = self.Encode(x)\n",
        "    img = self.Decode(z)\n",
        "    return img, mu, var"
      ],
      "execution_count": 6,
      "outputs": []
    },
    {
      "cell_type": "code",
      "metadata": {
        "id": "gmV36OCH9bXx",
        "colab_type": "code",
        "colab": {
          "base_uri": "https://localhost:8080/",
          "height": 336
        },
        "outputId": "fc3ec843-c54d-46c7-e296-bdb9c880780d"
      },
      "source": [
        "# model test\n",
        "with torch.no_grad():\n",
        "  input = torch.randn(64, 1, 28, 28).to(device)\n",
        "  model = VAE(latent_size = 10).to(device)\n",
        "  test_z, _, _ = model.Encode(input)\n",
        "  test_out = model.Decode(test_z)\n",
        "\n",
        "  print('====== ENCODER ======')\n",
        "  print(test_z.shape)\n",
        "  print('====== DECODER ======')\n",
        "  print(test_out.shape)\n",
        "\n",
        "  import matplotlib.pyplot as plt\n",
        "  if device == 'cuda': test_out = test_out.cpu()\n",
        "  show = test_out[0].view(28,28).numpy()\n",
        "  plt.imshow(show, cmap='gray')"
      ],
      "execution_count": 7,
      "outputs": [
        {
          "output_type": "stream",
          "text": [
            "====== ENCODER ======\n",
            "torch.Size([64, 10])\n",
            "====== DECODER ======\n",
            "torch.Size([64, 1, 28, 28])\n"
          ],
          "name": "stdout"
        },
        {
          "output_type": "display_data",
          "data": {
            "image/png": "[encoded data removed]",
            "text/plain": [
              "<Figure size 432x288 with 1 Axes>"
            ]
          },
          "metadata": {
            "tags": [],
            "needs_background": "light"
          }
        }
      ]
    },
    {
      "cell_type": "code",
      "metadata": {
        "id": "XP1s4M6qMt-v",
        "colab_type": "code",
        "colab": {
          "base_uri": "https://localhost:8080/",
          "height": 284
        },
        "outputId": "baab79e6-1a09-4f74-93f1-d5b350ee020e"
      },
      "source": [
        "model = VAE(latent_size= 10).to(device)\n",
        "model.train()"
      ],
      "execution_count": 8,
      "outputs": [
        {
          "output_type": "execute_result",
          "data": {
            "text/plain": [
              "VAE(\n",
              "  (encoder): Sequential(\n",
              "    (0): Flatten()\n",
              "    (1): Linear(in_features=784, out_features=512, bias=True)\n",
              "    (2): Linear(in_features=512, out_features=256, bias=True)\n",
              "  )\n",
              "  (mu): Linear(in_features=256, out_features=10, bias=True)\n",
              "  (var): Linear(in_features=256, out_features=10, bias=True)\n",
              "  (decoder): Sequential(\n",
              "    (0): Linear(in_features=10, out_features=256, bias=True)\n",
              "    (1): Linear(in_features=256, out_features=512, bias=True)\n",
              "    (2): Linear(in_features=512, out_features=784, bias=True)\n",
              "    (3): Sigmoid()\n",
              "  )\n",
              ")"
            ]
          },
          "metadata": {
            "tags": []
          },
          "execution_count": 8
        }
      ]
    },
    {
      "cell_type": "code",
      "metadata": {
        "id": "unnDTvEwM6Nt",
        "colab_type": "code",
        "colab": {}
      },
      "source": [
        "# 얘는 그냥 프로젝트 1에서 복붙함. loss function\n",
        "import torch.nn.functional as F\n",
        "\n",
        "def loss_function(x, target, mu, log_var):\n",
        "  x, target = x.view(-1, 784), target.view(-1, 784) # (batch_size, 784)\n",
        "  # rmse_loss = torch.sum(torch.sqrt(torch.mean(torch.square(target - x), dim=-1) + 1e-7)) # p98 참고 # 0 되는 걸 방지하기 위해\n",
        "  BCE = F.binary_cross_entropy(target=target, input = x, reduction='sum') # bce loss\n",
        "  kl_div = -0.5 * torch.sum(1 + log_var - mu.pow(2) - log_var.exp())\n",
        "  return BCE, kl_div, BCE + kl_div"
      ],
      "execution_count": 49,
      "outputs": []
    },
    {
      "cell_type": "markdown",
      "metadata": {
        "id": "mjiLBFTPoNr6",
        "colab_type": "text"
      },
      "source": [
        "이 loss function에서 시행착오가 많았다.\n"
      ]
    },
    {
      "cell_type": "markdown",
      "metadata": {
        "id": "JATfBdUloRsj",
        "colab_type": "text"
      },
      "source": [
        "![MNIST_VAE_train_8.png](https://i.ibb.co/G925D5b/MNIST-VAE-train-8.png)\n",
        "(이미지는  ImgBB라는 호스팅 사이트를 이용해서 업로드함)"
      ]
    },
    {
      "cell_type": "markdown",
      "metadata": {
        "id": "HTZdu8YUoTwj",
        "colab_type": "text"
      },
      "source": [
        "몇 번을 학습시켜도 위와 같은 이미지가 나오던 것인데, \n",
        "```python\n",
        "rmse_loss = torch.sqrt(torch.mean(torch.square(target - x)) + 1e-7)\n",
        "```\n",
        "loss function을 위와 같이 짰을 때 계속해서 이런 현상이 나타났다.\n",
        "\n",
        "다른 사람의 코드를 참고해서 BCE loss로 학습 시켜보니 정상적으로 학습이 되었는데, 처음에는 minibatch 내의 모든 loss를 label 상관 없이 학습 시킨 것이 문제가 되는 것으로 생각했다.\n",
        "\n",
        "그래서 \n",
        "```python\n",
        "rmse_loss = torch.sqrt(torch.mean(torch.square(target - x), dim=-1) + 1e-7)\n",
        "```\n",
        "의 결과를 실험해보기도 했다.\n",
        "\n",
        "그러나 이 경우 loss가 하나의 값으로 나오지 않아서 loss.backward() 부분에서 오류가 발생했다. 그렇다고 해서 bce에서 해준 것처럼 sum을 해준다면 앞선 것과 동일한 오류가 발생한다."
      ]
    },
    {
      "cell_type": "code",
      "metadata": {
        "id": "7KddLIbOiQOP",
        "colab_type": "code",
        "colab": {
          "base_uri": "https://localhost:8080/",
          "height": 195
        },
        "outputId": "4c95c06e-0ca7-48ba-f773-9a21e25e1ae0"
      },
      "source": [
        "target = torch.rand(3,5)\n",
        "x = torch.rand(3,5)\n",
        "print(target)\n",
        "print(x)\n",
        "print('==========')\n",
        "p = F.binary_cross_entropy(target=target, input = x, reduction='sum')\n",
        "rmse_loss = torch.sqrt(torch.mean(torch.square(target - x)))\n",
        "d = torch.sqrt(torch.nn.functional.mse_loss(x, target, reduction='mean'))\n",
        "\n",
        "print(p)\n",
        "print(rmse_loss)\n",
        "print(d)\n"
      ],
      "execution_count": 48,
      "outputs": [
        {
          "output_type": "stream",
          "text": [
            "tensor([[0.1643, 0.2434, 0.3639, 0.8486, 0.9004],\n",
            "        [0.4232, 0.3507, 0.4002, 0.5484, 0.6555],\n",
            "        [0.2729, 0.6385, 0.1805, 0.4319, 0.3435]])\n",
            "tensor([[0.9989, 0.2350, 0.2375, 0.2295, 0.2997],\n",
            "        [0.5185, 0.9834, 0.5311, 0.4173, 0.9265],\n",
            "        [0.7131, 0.6360, 0.9956, 0.4500, 0.3779]])\n",
            "==========\n",
            "tensor(22.5487)\n",
            "tensor(0.4346)\n",
            "tensor(0.4346)\n"
          ],
          "name": "stdout"
        }
      ]
    },
    {
      "cell_type": "markdown",
      "metadata": {
        "id": "xk3vQOI9rosp",
        "colab_type": "text"
      },
      "source": [
        "[torch.nn.functional 내에 있는 mse_loss](https://pytorch.org/docs/stable/generated/torch.nn.MSELoss.html#torch.nn.MSELoss)와 이론적으로 동일한 거라서 구현 문제는 아닌 것 같고, **왜 binary cross entropy만 먹힌 건지는 잘 모르겠다. 교재에 있는 건 root mean square error인데...**"
      ]
    },
    {
      "cell_type": "code",
      "metadata": {
        "id": "Yue5nnpcY1CA",
        "colab_type": "code",
        "colab": {}
      },
      "source": [
        "\n",
        "# 진행상황 모니터링용\n",
        "def compare_img(img, new_img, label, epoch):\n",
        "  with torch.no_grad():\n",
        "    if device == 'cuda': img, new_img = img.cpu(), new_img.cpu()\n",
        "    show_original = img.view(28,28).numpy()\n",
        "    show_gen = new_img.view(28,28).numpy()\n",
        "\n",
        "    plt.subplot(1, 2, 1)\n",
        "    plt.title('original')\n",
        "    plt.imshow(show_original, cmap='gray')\n",
        "    plt.subplot(1, 2, 2)\n",
        "    plt.title('generated')\n",
        "    plt.imshow(show_gen, cmap = 'gray')\n",
        "    \n",
        "    plt.suptitle('Epoch: {} [label-{}]'.format(epoch, label), fontsize=16)\n",
        "    plt.savefig('MNIST_VAE_train_{}.png'.format(epoch))\n",
        "\n",
        "    plt.clf() # 다음 그림 위해서 비워두기"
      ],
      "execution_count": 10,
      "outputs": []
    },
    {
      "cell_type": "code",
      "metadata": {
        "id": "cv44vLjENtxP",
        "colab_type": "code",
        "colab": {}
      },
      "source": [
        "optimizer = torch.optim.RMSprop(model.parameters(),lr = 0.001)"
      ],
      "execution_count": 11,
      "outputs": []
    },
    {
      "cell_type": "code",
      "metadata": {
        "id": "n8R8dhQyQ47d",
        "colab_type": "code",
        "colab": {}
      },
      "source": [
        "lenth = len(train_set)"
      ],
      "execution_count": 12,
      "outputs": []
    },
    {
      "cell_type": "code",
      "metadata": {
        "id": "fS_7VEIi9IwF",
        "colab_type": "code",
        "colab": {
          "base_uri": "https://localhost:8080/",
          "height": 1000
        },
        "outputId": "fab0315f-c8fa-46a4-a4a4-3d3a15aae7d1"
      },
      "source": [
        "epochs = 20\n",
        "tick = [0, 5, 8, 10, 20, 50, 80, 100, 120, 150, 180, 200]\n",
        "\n",
        "model.train(True)\n",
        "\n",
        "for epoch in range(epochs):\n",
        "  for idx, (img, label) in enumerate(train_set):\n",
        "    img = img.to(device)\n",
        "    \n",
        "    new_img, mu, var = model(img)\n",
        "    r, k, loss = loss_function(x= new_img, target = img, mu=mu, log_var=var)\n",
        "    \n",
        "    optimizer.zero_grad()\n",
        "    loss.backward()\n",
        "    optimizer.step()\n",
        "    if (idx+1) % 500 is 0 : print('Epoch [{}/{}] Step [{}/{}] loss: {} rmse: {}, kl_div: {}'.format(epoch+1, epochs, idx+1, lenth, loss.item(), r.item(), k.item()))\n",
        "  if epoch in tick : compare_img(img[0], new_img[0], label[0], epoch)\n",
        "compare_img(img[0], new_img[0], label[0], epoch)"
      ],
      "execution_count": 50,
      "outputs": [
        {
          "output_type": "stream",
          "text": [
            "Epoch [1/20] Step [500/3000] loss: 3131.986083984375 rmse: 2937.93798828125, kl_div: 194.04798889160156\n",
            "Epoch [1/20] Step [1000/3000] loss: 2990.840087890625 rmse: 2787.029296875, kl_div: 203.81080627441406\n",
            "Epoch [1/20] Step [1500/3000] loss: 2858.624755859375 rmse: 2625.4677734375, kl_div: 233.15708923339844\n",
            "Epoch [1/20] Step [2000/3000] loss: 2999.4892578125 rmse: 2731.283203125, kl_div: 268.2059326171875\n",
            "Epoch [1/20] Step [2500/3000] loss: 2780.24560546875 rmse: 2515.784912109375, kl_div: 264.4606628417969\n",
            "Epoch [1/20] Step [3000/3000] loss: 3225.636474609375 rmse: 2940.327392578125, kl_div: 285.30908203125\n",
            "Epoch [2/20] Step [500/3000] loss: 3008.054931640625 rmse: 2745.6533203125, kl_div: 262.40167236328125\n",
            "Epoch [2/20] Step [1000/3000] loss: 3532.03125 rmse: 3235.17919921875, kl_div: 296.8520812988281\n",
            "Epoch [2/20] Step [1500/3000] loss: 3052.525634765625 rmse: 2790.1748046875, kl_div: 262.350830078125\n",
            "Epoch [2/20] Step [2000/3000] loss: 2487.62646484375 rmse: 2243.2275390625, kl_div: 244.39891052246094\n",
            "Epoch [2/20] Step [2500/3000] loss: 2711.26220703125 rmse: 2440.634033203125, kl_div: 270.628173828125\n",
            "Epoch [2/20] Step [3000/3000] loss: 2621.49169921875 rmse: 2363.335693359375, kl_div: 258.15594482421875\n",
            "Epoch [3/20] Step [500/3000] loss: 2703.068115234375 rmse: 2438.500244140625, kl_div: 264.5679626464844\n",
            "Epoch [3/20] Step [1000/3000] loss: 2744.684326171875 rmse: 2478.6923828125, kl_div: 265.9919738769531\n",
            "Epoch [3/20] Step [1500/3000] loss: 2807.31298828125 rmse: 2550.197509765625, kl_div: 257.115478515625\n",
            "Epoch [3/20] Step [2000/3000] loss: 3166.5537109375 rmse: 2903.078369140625, kl_div: 263.4754333496094\n",
            "Epoch [3/20] Step [2500/3000] loss: 2875.560546875 rmse: 2618.680419921875, kl_div: 256.880126953125\n",
            "Epoch [3/20] Step [3000/3000] loss: 3076.64111328125 rmse: 2827.603515625, kl_div: 249.0377197265625\n",
            "Epoch [4/20] Step [500/3000] loss: 3021.354248046875 rmse: 2752.5859375, kl_div: 268.7684020996094\n",
            "Epoch [4/20] Step [1000/3000] loss: 2766.040283203125 rmse: 2524.297119140625, kl_div: 241.74305725097656\n",
            "Epoch [4/20] Step [1500/3000] loss: 2877.9912109375 rmse: 2611.23779296875, kl_div: 266.75341796875\n",
            "Epoch [4/20] Step [2000/3000] loss: 2662.6494140625 rmse: 2406.42724609375, kl_div: 256.2221374511719\n",
            "Epoch [4/20] Step [2500/3000] loss: 3008.283203125 rmse: 2739.02197265625, kl_div: 269.26123046875\n",
            "Epoch [4/20] Step [3000/3000] loss: 2864.71484375 rmse: 2560.244384765625, kl_div: 304.4705810546875\n",
            "Epoch [5/20] Step [500/3000] loss: 3015.80859375 rmse: 2741.06103515625, kl_div: 274.7474365234375\n",
            "Epoch [5/20] Step [1000/3000] loss: 2784.83251953125 rmse: 2500.19384765625, kl_div: 284.6387939453125\n",
            "Epoch [5/20] Step [1500/3000] loss: 3149.979736328125 rmse: 2841.7529296875, kl_div: 308.2268371582031\n",
            "Epoch [5/20] Step [2000/3000] loss: 2597.575439453125 rmse: 2343.950927734375, kl_div: 253.62461853027344\n",
            "Epoch [5/20] Step [2500/3000] loss: 2893.99609375 rmse: 2593.100341796875, kl_div: 300.8958740234375\n",
            "Epoch [5/20] Step [3000/3000] loss: 2916.137939453125 rmse: 2616.78369140625, kl_div: 299.3542785644531\n",
            "Epoch [6/20] Step [500/3000] loss: 2572.787109375 rmse: 2273.213134765625, kl_div: 299.5740966796875\n",
            "Epoch [6/20] Step [1000/3000] loss: 2603.346435546875 rmse: 2320.87890625, kl_div: 282.46746826171875\n",
            "Epoch [6/20] Step [1500/3000] loss: 3011.489990234375 rmse: 2687.428955078125, kl_div: 324.06109619140625\n",
            "Epoch [6/20] Step [2000/3000] loss: 2860.471435546875 rmse: 2557.330078125, kl_div: 303.1413879394531\n",
            "Epoch [6/20] Step [2500/3000] loss: 2921.507080078125 rmse: 2609.889892578125, kl_div: 311.61712646484375\n",
            "Epoch [6/20] Step [3000/3000] loss: 3061.380615234375 rmse: 2770.21533203125, kl_div: 291.1653137207031\n",
            "Epoch [7/20] Step [500/3000] loss: 2821.42626953125 rmse: 2515.314453125, kl_div: 306.1117858886719\n",
            "Epoch [7/20] Step [1000/3000] loss: 2816.81103515625 rmse: 2540.87939453125, kl_div: 275.93170166015625\n",
            "Epoch [7/20] Step [1500/3000] loss: 2760.0576171875 rmse: 2442.11572265625, kl_div: 317.9418029785156\n",
            "Epoch [7/20] Step [2000/3000] loss: 2600.960693359375 rmse: 2340.8779296875, kl_div: 260.0826721191406\n",
            "Epoch [7/20] Step [2500/3000] loss: 2967.970703125 rmse: 2654.78955078125, kl_div: 313.1811828613281\n",
            "Epoch [7/20] Step [3000/3000] loss: 2853.589111328125 rmse: 2547.788330078125, kl_div: 305.80078125\n",
            "Epoch [8/20] Step [500/3000] loss: 2767.112548828125 rmse: 2463.434326171875, kl_div: 303.6781921386719\n",
            "Epoch [8/20] Step [1000/3000] loss: 2681.20556640625 rmse: 2396.22119140625, kl_div: 284.9844055175781\n",
            "Epoch [8/20] Step [1500/3000] loss: 2941.77001953125 rmse: 2648.4287109375, kl_div: 293.3412170410156\n",
            "Epoch [8/20] Step [2000/3000] loss: 2763.038330078125 rmse: 2464.11083984375, kl_div: 298.92742919921875\n",
            "Epoch [8/20] Step [2500/3000] loss: 2828.088134765625 rmse: 2538.931884765625, kl_div: 289.15631103515625\n",
            "Epoch [8/20] Step [3000/3000] loss: 3117.47998046875 rmse: 2817.970458984375, kl_div: 299.5096435546875\n",
            "Epoch [9/20] Step [500/3000] loss: 2727.4482421875 rmse: 2433.250244140625, kl_div: 294.1981201171875\n",
            "Epoch [9/20] Step [1000/3000] loss: 2690.93896484375 rmse: 2407.39990234375, kl_div: 283.5389709472656\n",
            "Epoch [9/20] Step [1500/3000] loss: 3185.79638671875 rmse: 2882.1728515625, kl_div: 303.6234130859375\n",
            "Epoch [9/20] Step [2000/3000] loss: 2734.061279296875 rmse: 2446.037109375, kl_div: 288.02423095703125\n",
            "Epoch [9/20] Step [2500/3000] loss: 3033.745849609375 rmse: 2748.070556640625, kl_div: 285.6753845214844\n",
            "Epoch [9/20] Step [3000/3000] loss: 2906.96533203125 rmse: 2590.264892578125, kl_div: 316.7004699707031\n",
            "Epoch [10/20] Step [500/3000] loss: 3008.2294921875 rmse: 2732.020751953125, kl_div: 276.208740234375\n",
            "Epoch [10/20] Step [1000/3000] loss: 2958.550537109375 rmse: 2648.79541015625, kl_div: 309.75506591796875\n",
            "Epoch [10/20] Step [1500/3000] loss: 2842.5830078125 rmse: 2552.1201171875, kl_div: 290.46295166015625\n",
            "Epoch [10/20] Step [2000/3000] loss: 2709.90087890625 rmse: 2405.807861328125, kl_div: 304.0931091308594\n",
            "Epoch [10/20] Step [2500/3000] loss: 3117.546630859375 rmse: 2816.390869140625, kl_div: 301.1558532714844\n",
            "Epoch [10/20] Step [3000/3000] loss: 3200.3486328125 rmse: 2884.820556640625, kl_div: 315.5280456542969\n",
            "Epoch [11/20] Step [500/3000] loss: 2917.03564453125 rmse: 2607.194091796875, kl_div: 309.84161376953125\n",
            "Epoch [11/20] Step [1000/3000] loss: 2724.225341796875 rmse: 2432.042236328125, kl_div: 292.1831970214844\n",
            "Epoch [11/20] Step [1500/3000] loss: 2722.803955078125 rmse: 2421.502685546875, kl_div: 301.3013000488281\n",
            "Epoch [11/20] Step [2000/3000] loss: 2645.154052734375 rmse: 2369.80810546875, kl_div: 275.3458557128906\n",
            "Epoch [11/20] Step [2500/3000] loss: 2546.005126953125 rmse: 2281.644287109375, kl_div: 264.3607482910156\n",
            "Epoch [11/20] Step [3000/3000] loss: 2663.71728515625 rmse: 2357.689697265625, kl_div: 306.027587890625\n",
            "Epoch [12/20] Step [500/3000] loss: 2721.826171875 rmse: 2440.89453125, kl_div: 280.93170166015625\n",
            "Epoch [12/20] Step [1000/3000] loss: 2830.0390625 rmse: 2547.9208984375, kl_div: 282.11810302734375\n",
            "Epoch [12/20] Step [1500/3000] loss: 2695.55322265625 rmse: 2409.75537109375, kl_div: 285.7978210449219\n",
            "Epoch [12/20] Step [2000/3000] loss: 2712.0419921875 rmse: 2419.00537109375, kl_div: 293.0365295410156\n",
            "Epoch [12/20] Step [2500/3000] loss: 2677.9482421875 rmse: 2398.1611328125, kl_div: 279.7871398925781\n",
            "Epoch [12/20] Step [3000/3000] loss: 2561.31005859375 rmse: 2278.339599609375, kl_div: 282.9704895019531\n",
            "Epoch [13/20] Step [500/3000] loss: 2867.141845703125 rmse: 2575.764892578125, kl_div: 291.3768615722656\n",
            "Epoch [13/20] Step [1000/3000] loss: 2844.306884765625 rmse: 2555.5654296875, kl_div: 288.7415466308594\n",
            "Epoch [13/20] Step [1500/3000] loss: 2922.75537109375 rmse: 2630.697509765625, kl_div: 292.05792236328125\n",
            "Epoch [13/20] Step [2000/3000] loss: 2842.5126953125 rmse: 2553.11474609375, kl_div: 289.39801025390625\n",
            "Epoch [13/20] Step [2500/3000] loss: 3158.90771484375 rmse: 2875.68701171875, kl_div: 283.2206726074219\n",
            "Epoch [13/20] Step [3000/3000] loss: 2440.705322265625 rmse: 2167.143798828125, kl_div: 273.5614929199219\n",
            "Epoch [14/20] Step [500/3000] loss: 2875.7568359375 rmse: 2597.8212890625, kl_div: 277.9355773925781\n",
            "Epoch [14/20] Step [1000/3000] loss: 2877.461181640625 rmse: 2558.67578125, kl_div: 318.7853698730469\n",
            "Epoch [14/20] Step [1500/3000] loss: 2860.966796875 rmse: 2569.365234375, kl_div: 291.6016845703125\n",
            "Epoch [14/20] Step [2000/3000] loss: 2900.936279296875 rmse: 2605.19384765625, kl_div: 295.74249267578125\n",
            "Epoch [14/20] Step [2500/3000] loss: 2657.1005859375 rmse: 2374.86962890625, kl_div: 282.23089599609375\n",
            "Epoch [14/20] Step [3000/3000] loss: 2835.7265625 rmse: 2557.19384765625, kl_div: 278.5328063964844\n",
            "Epoch [15/20] Step [500/3000] loss: 2823.182373046875 rmse: 2520.6748046875, kl_div: 302.50762939453125\n",
            "Epoch [15/20] Step [1000/3000] loss: 3058.8076171875 rmse: 2777.930908203125, kl_div: 280.87677001953125\n",
            "Epoch [15/20] Step [1500/3000] loss: 2966.732421875 rmse: 2673.9375, kl_div: 292.7950439453125\n",
            "Epoch [15/20] Step [2000/3000] loss: 2800.47119140625 rmse: 2515.378173828125, kl_div: 285.0931396484375\n",
            "Epoch [15/20] Step [2500/3000] loss: 2872.621826171875 rmse: 2583.58740234375, kl_div: 289.034423828125\n",
            "Epoch [15/20] Step [3000/3000] loss: 3024.852294921875 rmse: 2667.558837890625, kl_div: 357.2933654785156\n",
            "Epoch [16/20] Step [500/3000] loss: 3209.15380859375 rmse: 2885.583984375, kl_div: 323.5698547363281\n",
            "Epoch [16/20] Step [1000/3000] loss: 2737.896484375 rmse: 2382.4267578125, kl_div: 355.4698486328125\n",
            "Epoch [16/20] Step [1500/3000] loss: 3069.183837890625 rmse: 2730.086181640625, kl_div: 339.09765625\n",
            "Epoch [16/20] Step [2000/3000] loss: 3010.921875 rmse: 2679.340087890625, kl_div: 331.5819091796875\n",
            "Epoch [16/20] Step [2500/3000] loss: 3025.65673828125 rmse: 2698.11962890625, kl_div: 327.5370178222656\n",
            "Epoch [16/20] Step [3000/3000] loss: 2710.69775390625 rmse: 2398.4384765625, kl_div: 312.25933837890625\n",
            "Epoch [17/20] Step [500/3000] loss: 2724.747314453125 rmse: 2438.498779296875, kl_div: 286.24853515625\n",
            "Epoch [17/20] Step [1000/3000] loss: 3041.9267578125 rmse: 2744.804931640625, kl_div: 297.1217041015625\n",
            "Epoch [17/20] Step [1500/3000] loss: 2558.48095703125 rmse: 2277.78857421875, kl_div: 280.69232177734375\n",
            "Epoch [17/20] Step [2000/3000] loss: 2913.6171875 rmse: 2612.202392578125, kl_div: 301.414794921875\n",
            "Epoch [17/20] Step [2500/3000] loss: 2578.3798828125 rmse: 2292.159912109375, kl_div: 286.2200622558594\n",
            "Epoch [17/20] Step [3000/3000] loss: 2775.543212890625 rmse: 2484.23046875, kl_div: 291.3127136230469\n",
            "Epoch [18/20] Step [500/3000] loss: 2711.585693359375 rmse: 2427.157470703125, kl_div: 284.42828369140625\n",
            "Epoch [18/20] Step [1000/3000] loss: 2805.3642578125 rmse: 2509.263671875, kl_div: 296.1007080078125\n",
            "Epoch [18/20] Step [1500/3000] loss: 2772.10791015625 rmse: 2494.080078125, kl_div: 278.02789306640625\n",
            "Epoch [18/20] Step [2000/3000] loss: 2678.193359375 rmse: 2392.5341796875, kl_div: 285.6590881347656\n",
            "Epoch [18/20] Step [2500/3000] loss: 2990.369140625 rmse: 2672.044921875, kl_div: 318.32427978515625\n",
            "Epoch [18/20] Step [3000/3000] loss: 3308.9423828125 rmse: 3012.177978515625, kl_div: 296.7642822265625\n",
            "Epoch [19/20] Step [500/3000] loss: 2684.988037109375 rmse: 2403.3515625, kl_div: 281.6365661621094\n",
            "Epoch [19/20] Step [1000/3000] loss: 2481.66845703125 rmse: 2201.22216796875, kl_div: 280.44622802734375\n",
            "Epoch [19/20] Step [1500/3000] loss: 2865.845947265625 rmse: 2577.498779296875, kl_div: 288.34722900390625\n",
            "Epoch [19/20] Step [2000/3000] loss: 2944.793212890625 rmse: 2647.26806640625, kl_div: 297.5251770019531\n",
            "Epoch [19/20] Step [2500/3000] loss: 2886.836181640625 rmse: 2595.34228515625, kl_div: 291.4939880371094\n",
            "Epoch [19/20] Step [3000/3000] loss: 2692.614990234375 rmse: 2412.733154296875, kl_div: 279.8819274902344\n",
            "Epoch [20/20] Step [500/3000] loss: 2654.56591796875 rmse: 2370.2529296875, kl_div: 284.3130798339844\n",
            "Epoch [20/20] Step [1000/3000] loss: 2926.7626953125 rmse: 2633.70263671875, kl_div: 293.06005859375\n",
            "Epoch [20/20] Step [1500/3000] loss: 2637.489013671875 rmse: 2342.729248046875, kl_div: 294.7597961425781\n",
            "Epoch [20/20] Step [2000/3000] loss: 2724.712158203125 rmse: 2405.0400390625, kl_div: 319.67205810546875\n",
            "Epoch [20/20] Step [2500/3000] loss: 2560.98046875 rmse: 2282.71337890625, kl_div: 278.2669677734375\n",
            "Epoch [20/20] Step [3000/3000] loss: 2987.84228515625 rmse: 2659.892578125, kl_div: 327.94964599609375\n"
          ],
          "name": "stdout"
        },
        {
          "output_type": "display_data",
          "data": {
            "text/plain": [
              "<Figure size 432x288 with 0 Axes>"
            ]
          },
          "metadata": {
            "tags": []
          }
        }
      ]
    },
    {
      "cell_type": "code",
      "metadata": {
        "id": "p6wjWCY18IBf",
        "colab_type": "code",
        "colab": {}
      },
      "source": [
        "compare_img(img[5], new_img[5], label[5], 78)"
      ],
      "execution_count": null,
      "outputs": []
    },
    {
      "cell_type": "code",
      "metadata": {
        "id": "aXUYkGvvX9_V",
        "colab_type": "code",
        "colab": {}
      },
      "source": [
        "target = torch.Tensor(23, 1, 28, 28)\n",
        "target.view(-1, 784).shape"
      ],
      "execution_count": null,
      "outputs": []
    },
    {
      "cell_type": "markdown",
      "metadata": {
        "id": "So8cj7RogFQC",
        "colab_type": "text"
      },
      "source": [
        "## 결과물\n"
      ]
    },
    {
      "cell_type": "markdown",
      "metadata": {
        "id": "dVlk1gYq39ZV",
        "colab_type": "text"
      },
      "source": [
        "![0](https://i.ibb.co/RPx4rP7/MNIST-VAE-train-0.png)\n",
        "![5](https://i.ibb.co/jZ6pJ0F/MNIST-VAE-train-5.png)\n",
        "![10](https://i.ibb.co/Tr8f1YZ/MNIST-VAE-train-10.png)\n",
        "![19](https://i.ibb.co/9wCY9Pq/MNIST-VAE-train-19.png)\n"
      ]
    }
  ]
}