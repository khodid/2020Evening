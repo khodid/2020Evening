{
  "nbformat": 4,
  "nbformat_minor": 0,
  "metadata": {
    "colab": {
      "name": "proj3-2_VAE_MNIST_withLinearModel.ipynb",
      "provenance": [],
      "collapsed_sections": [],
      "authorship_tag": "ABX9TyNdUh57yq4Bfksg/IhvL2t4",
      "include_colab_link": true
    },
    "kernelspec": {
      "name": "python3",
      "display_name": "Python 3"
    },
    "widgets": {
      "application/vnd.jupyter.widget-state+json": {
        "b43aaa2870d04666902dbba1fd7b44d7": {
          "model_module": "@jupyter-widgets/controls",
          "model_name": "HBoxModel",
          "state": {
            "_view_name": "HBoxView",
            "_dom_classes": [],
            "_model_name": "HBoxModel",
            "_view_module": "@jupyter-widgets/controls",
            "_model_module_version": "1.5.0",
            "_view_count": null,
            "_view_module_version": "1.5.0",
            "box_style": "",
            "layout": "IPY_MODEL_8b5d6a915feb4f5cb6f60b402452bc0c",
            "_model_module": "@jupyter-widgets/controls",
            "children": [
              "IPY_MODEL_77e3a6334f6d460da44e9a78271e334d",
              "IPY_MODEL_3df970646e994fb0aa1ab9f4e2768f90"
            ]
          }
        },
        "8b5d6a915feb4f5cb6f60b402452bc0c": {
          "model_module": "@jupyter-widgets/base",
          "model_name": "LayoutModel",
          "state": {
            "_view_name": "LayoutView",
            "grid_template_rows": null,
            "right": null,
            "justify_content": null,
            "_view_module": "@jupyter-widgets/base",
            "overflow": null,
            "_model_module_version": "1.2.0",
            "_view_count": null,
            "flex_flow": null,
            "width": null,
            "min_width": null,
            "border": null,
            "align_items": null,
            "bottom": null,
            "_model_module": "@jupyter-widgets/base",
            "top": null,
            "grid_column": null,
            "overflow_y": null,
            "overflow_x": null,
            "grid_auto_flow": null,
            "grid_area": null,
            "grid_template_columns": null,
            "flex": null,
            "_model_name": "LayoutModel",
            "justify_items": null,
            "grid_row": null,
            "max_height": null,
            "align_content": null,
            "visibility": null,
            "align_self": null,
            "height": null,
            "min_height": null,
            "padding": null,
            "grid_auto_rows": null,
            "grid_gap": null,
            "max_width": null,
            "order": null,
            "_view_module_version": "1.2.0",
            "grid_template_areas": null,
            "object_position": null,
            "object_fit": null,
            "grid_auto_columns": null,
            "margin": null,
            "display": null,
            "left": null
          }
        },
        "77e3a6334f6d460da44e9a78271e334d": {
          "model_module": "@jupyter-widgets/controls",
          "model_name": "FloatProgressModel",
          "state": {
            "_view_name": "ProgressView",
            "style": "IPY_MODEL_ee80e7bcaab942ce853c2f89b80d9f1d",
            "_dom_classes": [],
            "description": "",
            "_model_name": "FloatProgressModel",
            "bar_style": "success",
            "max": 1,
            "_view_module": "@jupyter-widgets/controls",
            "_model_module_version": "1.5.0",
            "value": 1,
            "_view_count": null,
            "_view_module_version": "1.5.0",
            "orientation": "horizontal",
            "min": 0,
            "description_tooltip": null,
            "_model_module": "@jupyter-widgets/controls",
            "layout": "IPY_MODEL_7e062a5e432741f8ad2e7c26d2772edf"
          }
        },
        "3df970646e994fb0aa1ab9f4e2768f90": {
          "model_module": "@jupyter-widgets/controls",
          "model_name": "HTMLModel",
          "state": {
            "_view_name": "HTMLView",
            "style": "IPY_MODEL_d1cbf6a8b37c4c9c9a4907718675f6b5",
            "_dom_classes": [],
            "description": "",
            "_model_name": "HTMLModel",
            "placeholder": "​",
            "_view_module": "@jupyter-widgets/controls",
            "_model_module_version": "1.5.0",
            "value": " 9920512/? [00:02&lt;00:00, 4238820.86it/s]",
            "_view_count": null,
            "_view_module_version": "1.5.0",
            "description_tooltip": null,
            "_model_module": "@jupyter-widgets/controls",
            "layout": "IPY_MODEL_1dfe898657e94ddc8e590b09f55dcb12"
          }
        },
        "ee80e7bcaab942ce853c2f89b80d9f1d": {
          "model_module": "@jupyter-widgets/controls",
          "model_name": "ProgressStyleModel",
          "state": {
            "_view_name": "StyleView",
            "_model_name": "ProgressStyleModel",
            "description_width": "initial",
            "_view_module": "@jupyter-widgets/base",
            "_model_module_version": "1.5.0",
            "_view_count": null,
            "_view_module_version": "1.2.0",
            "bar_color": null,
            "_model_module": "@jupyter-widgets/controls"
          }
        },
        "7e062a5e432741f8ad2e7c26d2772edf": {
          "model_module": "@jupyter-widgets/base",
          "model_name": "LayoutModel",
          "state": {
            "_view_name": "LayoutView",
            "grid_template_rows": null,
            "right": null,
            "justify_content": null,
            "_view_module": "@jupyter-widgets/base",
            "overflow": null,
            "_model_module_version": "1.2.0",
            "_view_count": null,
            "flex_flow": null,
            "width": null,
            "min_width": null,
            "border": null,
            "align_items": null,
            "bottom": null,
            "_model_module": "@jupyter-widgets/base",
            "top": null,
            "grid_column": null,
            "overflow_y": null,
            "overflow_x": null,
            "grid_auto_flow": null,
            "grid_area": null,
            "grid_template_columns": null,
            "flex": null,
            "_model_name": "LayoutModel",
            "justify_items": null,
            "grid_row": null,
            "max_height": null,
            "align_content": null,
            "visibility": null,
            "align_self": null,
            "height": null,
            "min_height": null,
            "padding": null,
            "grid_auto_rows": null,
            "grid_gap": null,
            "max_width": null,
            "order": null,
            "_view_module_version": "1.2.0",
            "grid_template_areas": null,
            "object_position": null,
            "object_fit": null,
            "grid_auto_columns": null,
            "margin": null,
            "display": null,
            "left": null
          }
        },
        "d1cbf6a8b37c4c9c9a4907718675f6b5": {
          "model_module": "@jupyter-widgets/controls",
          "model_name": "DescriptionStyleModel",
          "state": {
            "_view_name": "StyleView",
            "_model_name": "DescriptionStyleModel",
            "description_width": "",
            "_view_module": "@jupyter-widgets/base",
            "_model_module_version": "1.5.0",
            "_view_count": null,
            "_view_module_version": "1.2.0",
            "_model_module": "@jupyter-widgets/controls"
          }
        },
        "1dfe898657e94ddc8e590b09f55dcb12": {
          "model_module": "@jupyter-widgets/base",
          "model_name": "LayoutModel",
          "state": {
            "_view_name": "LayoutView",
            "grid_template_rows": null,
            "right": null,
            "justify_content": null,
            "_view_module": "@jupyter-widgets/base",
            "overflow": null,
            "_model_module_version": "1.2.0",
            "_view_count": null,
            "flex_flow": null,
            "width": null,
            "min_width": null,
            "border": null,
            "align_items": null,
            "bottom": null,
            "_model_module": "@jupyter-widgets/base",
            "top": null,
            "grid_column": null,
            "overflow_y": null,
            "overflow_x": null,
            "grid_auto_flow": null,
            "grid_area": null,
            "grid_template_columns": null,
            "flex": null,
            "_model_name": "LayoutModel",
            "justify_items": null,
            "grid_row": null,
            "max_height": null,
            "align_content": null,
            "visibility": null,
            "align_self": null,
            "height": null,
            "min_height": null,
            "padding": null,
            "grid_auto_rows": null,
            "grid_gap": null,
            "max_width": null,
            "order": null,
            "_view_module_version": "1.2.0",
            "grid_template_areas": null,
            "object_position": null,
            "object_fit": null,
            "grid_auto_columns": null,
            "margin": null,
            "display": null,
            "left": null
          }
        },
        "7880cac95a2b4fe38269ffbaf6d7a37c": {
          "model_module": "@jupyter-widgets/controls",
          "model_name": "HBoxModel",
          "state": {
            "_view_name": "HBoxView",
            "_dom_classes": [],
            "_model_name": "HBoxModel",
            "_view_module": "@jupyter-widgets/controls",
            "_model_module_version": "1.5.0",
            "_view_count": null,
            "_view_module_version": "1.5.0",
            "box_style": "",
            "layout": "IPY_MODEL_3fc901855e2a4de789a49fb0fd8c4412",
            "_model_module": "@jupyter-widgets/controls",
            "children": [
              "IPY_MODEL_a212d1e322c34324a0fb5b4236cc458c",
              "IPY_MODEL_6825d6d107224d2fb34d8c6f970a4373"
            ]
          }
        },
        "3fc901855e2a4de789a49fb0fd8c4412": {
          "model_module": "@jupyter-widgets/base",
          "model_name": "LayoutModel",
          "state": {
            "_view_name": "LayoutView",
            "grid_template_rows": null,
            "right": null,
            "justify_content": null,
            "_view_module": "@jupyter-widgets/base",
            "overflow": null,
            "_model_module_version": "1.2.0",
            "_view_count": null,
            "flex_flow": null,
            "width": null,
            "min_width": null,
            "border": null,
            "align_items": null,
            "bottom": null,
            "_model_module": "@jupyter-widgets/base",
            "top": null,
            "grid_column": null,
            "overflow_y": null,
            "overflow_x": null,
            "grid_auto_flow": null,
            "grid_area": null,
            "grid_template_columns": null,
            "flex": null,
            "_model_name": "LayoutModel",
            "justify_items": null,
            "grid_row": null,
            "max_height": null,
            "align_content": null,
            "visibility": null,
            "align_self": null,
            "height": null,
            "min_height": null,
            "padding": null,
            "grid_auto_rows": null,
            "grid_gap": null,
            "max_width": null,
            "order": null,
            "_view_module_version": "1.2.0",
            "grid_template_areas": null,
            "object_position": null,
            "object_fit": null,
            "grid_auto_columns": null,
            "margin": null,
            "display": null,
            "left": null
          }
        },
        "a212d1e322c34324a0fb5b4236cc458c": {
          "model_module": "@jupyter-widgets/controls",
          "model_name": "FloatProgressModel",
          "state": {
            "_view_name": "ProgressView",
            "style": "IPY_MODEL_b492842e681940f2b23c0bfd80565147",
            "_dom_classes": [],
            "description": "  0%",
            "_model_name": "FloatProgressModel",
            "bar_style": "info",
            "max": 1,
            "_view_module": "@jupyter-widgets/controls",
            "_model_module_version": "1.5.0",
            "value": 0,
            "_view_count": null,
            "_view_module_version": "1.5.0",
            "orientation": "horizontal",
            "min": 0,
            "description_tooltip": null,
            "_model_module": "@jupyter-widgets/controls",
            "layout": "IPY_MODEL_eeeeabbb5e7d4cf2994e4bb6021baf0e"
          }
        },
        "6825d6d107224d2fb34d8c6f970a4373": {
          "model_module": "@jupyter-widgets/controls",
          "model_name": "HTMLModel",
          "state": {
            "_view_name": "HTMLView",
            "style": "IPY_MODEL_240737bb6a9c403faf5bd71025e1cbd2",
            "_dom_classes": [],
            "description": "",
            "_model_name": "HTMLModel",
            "placeholder": "​",
            "_view_module": "@jupyter-widgets/controls",
            "_model_module_version": "1.5.0",
            "value": " 0/28881 [00:00&lt;?, ?it/s]",
            "_view_count": null,
            "_view_module_version": "1.5.0",
            "description_tooltip": null,
            "_model_module": "@jupyter-widgets/controls",
            "layout": "IPY_MODEL_77a69225b2154cefa83efb8fee96de50"
          }
        },
        "b492842e681940f2b23c0bfd80565147": {
          "model_module": "@jupyter-widgets/controls",
          "model_name": "ProgressStyleModel",
          "state": {
            "_view_name": "StyleView",
            "_model_name": "ProgressStyleModel",
            "description_width": "initial",
            "_view_module": "@jupyter-widgets/base",
            "_model_module_version": "1.5.0",
            "_view_count": null,
            "_view_module_version": "1.2.0",
            "bar_color": null,
            "_model_module": "@jupyter-widgets/controls"
          }
        },
        "eeeeabbb5e7d4cf2994e4bb6021baf0e": {
          "model_module": "@jupyter-widgets/base",
          "model_name": "LayoutModel",
          "state": {
            "_view_name": "LayoutView",
            "grid_template_rows": null,
            "right": null,
            "justify_content": null,
            "_view_module": "@jupyter-widgets/base",
            "overflow": null,
            "_model_module_version": "1.2.0",
            "_view_count": null,
            "flex_flow": null,
            "width": null,
            "min_width": null,
            "border": null,
            "align_items": null,
            "bottom": null,
            "_model_module": "@jupyter-widgets/base",
            "top": null,
            "grid_column": null,
            "overflow_y": null,
            "overflow_x": null,
            "grid_auto_flow": null,
            "grid_area": null,
            "grid_template_columns": null,
            "flex": null,
            "_model_name": "LayoutModel",
            "justify_items": null,
            "grid_row": null,
            "max_height": null,
            "align_content": null,
            "visibility": null,
            "align_self": null,
            "height": null,
            "min_height": null,
            "padding": null,
            "grid_auto_rows": null,
            "grid_gap": null,
            "max_width": null,
            "order": null,
            "_view_module_version": "1.2.0",
            "grid_template_areas": null,
            "object_position": null,
            "object_fit": null,
            "grid_auto_columns": null,
            "margin": null,
            "display": null,
            "left": null
          }
        },
        "240737bb6a9c403faf5bd71025e1cbd2": {
          "model_module": "@jupyter-widgets/controls",
          "model_name": "DescriptionStyleModel",
          "state": {
            "_view_name": "StyleView",
            "_model_name": "DescriptionStyleModel",
            "description_width": "",
            "_view_module": "@jupyter-widgets/base",
            "_model_module_version": "1.5.0",
            "_view_count": null,
            "_view_module_version": "1.2.0",
            "_model_module": "@jupyter-widgets/controls"
          }
        },
        "77a69225b2154cefa83efb8fee96de50": {
          "model_module": "@jupyter-widgets/base",
          "model_name": "LayoutModel",
          "state": {
            "_view_name": "LayoutView",
            "grid_template_rows": null,
            "right": null,
            "justify_content": null,
            "_view_module": "@jupyter-widgets/base",
            "overflow": null,
            "_model_module_version": "1.2.0",
            "_view_count": null,
            "flex_flow": null,
            "width": null,
            "min_width": null,
            "border": null,
            "align_items": null,
            "bottom": null,
            "_model_module": "@jupyter-widgets/base",
            "top": null,
            "grid_column": null,
            "overflow_y": null,
            "overflow_x": null,
            "grid_auto_flow": null,
            "grid_area": null,
            "grid_template_columns": null,
            "flex": null,
            "_model_name": "LayoutModel",
            "justify_items": null,
            "grid_row": null,
            "max_height": null,
            "align_content": null,
            "visibility": null,
            "align_self": null,
            "height": null,
            "min_height": null,
            "padding": null,
            "grid_auto_rows": null,
            "grid_gap": null,
            "max_width": null,
            "order": null,
            "_view_module_version": "1.2.0",
            "grid_template_areas": null,
            "object_position": null,
            "object_fit": null,
            "grid_auto_columns": null,
            "margin": null,
            "display": null,
            "left": null
          }
        },
        "b19b7953f223493f97330e4d586f9658": {
          "model_module": "@jupyter-widgets/controls",
          "model_name": "HBoxModel",
          "state": {
            "_view_name": "HBoxView",
            "_dom_classes": [],
            "_model_name": "HBoxModel",
            "_view_module": "@jupyter-widgets/controls",
            "_model_module_version": "1.5.0",
            "_view_count": null,
            "_view_module_version": "1.5.0",
            "box_style": "",
            "layout": "IPY_MODEL_3db7a0df38144f4389bb41bc888e02aa",
            "_model_module": "@jupyter-widgets/controls",
            "children": [
              "IPY_MODEL_c7e00445934d451a93fb9065c30e75d7",
              "IPY_MODEL_78b11aa000934a29a2fb346d75d16752"
            ]
          }
        },
        "3db7a0df38144f4389bb41bc888e02aa": {
          "model_module": "@jupyter-widgets/base",
          "model_name": "LayoutModel",
          "state": {
            "_view_name": "LayoutView",
            "grid_template_rows": null,
            "right": null,
            "justify_content": null,
            "_view_module": "@jupyter-widgets/base",
            "overflow": null,
            "_model_module_version": "1.2.0",
            "_view_count": null,
            "flex_flow": null,
            "width": null,
            "min_width": null,
            "border": null,
            "align_items": null,
            "bottom": null,
            "_model_module": "@jupyter-widgets/base",
            "top": null,
            "grid_column": null,
            "overflow_y": null,
            "overflow_x": null,
            "grid_auto_flow": null,
            "grid_area": null,
            "grid_template_columns": null,
            "flex": null,
            "_model_name": "LayoutModel",
            "justify_items": null,
            "grid_row": null,
            "max_height": null,
            "align_content": null,
            "visibility": null,
            "align_self": null,
            "height": null,
            "min_height": null,
            "padding": null,
            "grid_auto_rows": null,
            "grid_gap": null,
            "max_width": null,
            "order": null,
            "_view_module_version": "1.2.0",
            "grid_template_areas": null,
            "object_position": null,
            "object_fit": null,
            "grid_auto_columns": null,
            "margin": null,
            "display": null,
            "left": null
          }
        },
        "c7e00445934d451a93fb9065c30e75d7": {
          "model_module": "@jupyter-widgets/controls",
          "model_name": "FloatProgressModel",
          "state": {
            "_view_name": "ProgressView",
            "style": "IPY_MODEL_66663455db8543ef88d2831614b3614a",
            "_dom_classes": [],
            "description": "",
            "_model_name": "FloatProgressModel",
            "bar_style": "success",
            "max": 1,
            "_view_module": "@jupyter-widgets/controls",
            "_model_module_version": "1.5.0",
            "value": 1,
            "_view_count": null,
            "_view_module_version": "1.5.0",
            "orientation": "horizontal",
            "min": 0,
            "description_tooltip": null,
            "_model_module": "@jupyter-widgets/controls",
            "layout": "IPY_MODEL_04ca0777173b4a2bab96b51eb862ab4a"
          }
        },
        "78b11aa000934a29a2fb346d75d16752": {
          "model_module": "@jupyter-widgets/controls",
          "model_name": "HTMLModel",
          "state": {
            "_view_name": "HTMLView",
            "style": "IPY_MODEL_01d68b14048348cd8f5ed430a356d94c",
            "_dom_classes": [],
            "description": "",
            "_model_name": "HTMLModel",
            "placeholder": "​",
            "_view_module": "@jupyter-widgets/controls",
            "_model_module_version": "1.5.0",
            "value": " 1654784/? [00:01&lt;00:00, 1402557.90it/s]",
            "_view_count": null,
            "_view_module_version": "1.5.0",
            "description_tooltip": null,
            "_model_module": "@jupyter-widgets/controls",
            "layout": "IPY_MODEL_31fed98e28924c9b8a0b2ca3da9f03d4"
          }
        },
        "66663455db8543ef88d2831614b3614a": {
          "model_module": "@jupyter-widgets/controls",
          "model_name": "ProgressStyleModel",
          "state": {
            "_view_name": "StyleView",
            "_model_name": "ProgressStyleModel",
            "description_width": "initial",
            "_view_module": "@jupyter-widgets/base",
            "_model_module_version": "1.5.0",
            "_view_count": null,
            "_view_module_version": "1.2.0",
            "bar_color": null,
            "_model_module": "@jupyter-widgets/controls"
          }
        },
        "04ca0777173b4a2bab96b51eb862ab4a": {
          "model_module": "@jupyter-widgets/base",
          "model_name": "LayoutModel",
          "state": {
            "_view_name": "LayoutView",
            "grid_template_rows": null,
            "right": null,
            "justify_content": null,
            "_view_module": "@jupyter-widgets/base",
            "overflow": null,
            "_model_module_version": "1.2.0",
            "_view_count": null,
            "flex_flow": null,
            "width": null,
            "min_width": null,
            "border": null,
            "align_items": null,
            "bottom": null,
            "_model_module": "@jupyter-widgets/base",
            "top": null,
            "grid_column": null,
            "overflow_y": null,
            "overflow_x": null,
            "grid_auto_flow": null,
            "grid_area": null,
            "grid_template_columns": null,
            "flex": null,
            "_model_name": "LayoutModel",
            "justify_items": null,
            "grid_row": null,
            "max_height": null,
            "align_content": null,
            "visibility": null,
            "align_self": null,
            "height": null,
            "min_height": null,
            "padding": null,
            "grid_auto_rows": null,
            "grid_gap": null,
            "max_width": null,
            "order": null,
            "_view_module_version": "1.2.0",
            "grid_template_areas": null,
            "object_position": null,
            "object_fit": null,
            "grid_auto_columns": null,
            "margin": null,
            "display": null,
            "left": null
          }
        },
        "01d68b14048348cd8f5ed430a356d94c": {
          "model_module": "@jupyter-widgets/controls",
          "model_name": "DescriptionStyleModel",
          "state": {
            "_view_name": "StyleView",
            "_model_name": "DescriptionStyleModel",
            "description_width": "",
            "_view_module": "@jupyter-widgets/base",
            "_model_module_version": "1.5.0",
            "_view_count": null,
            "_view_module_version": "1.2.0",
            "_model_module": "@jupyter-widgets/controls"
          }
        },
        "31fed98e28924c9b8a0b2ca3da9f03d4": {
          "model_module": "@jupyter-widgets/base",
          "model_name": "LayoutModel",
          "state": {
            "_view_name": "LayoutView",
            "grid_template_rows": null,
            "right": null,
            "justify_content": null,
            "_view_module": "@jupyter-widgets/base",
            "overflow": null,
            "_model_module_version": "1.2.0",
            "_view_count": null,
            "flex_flow": null,
            "width": null,
            "min_width": null,
            "border": null,
            "align_items": null,
            "bottom": null,
            "_model_module": "@jupyter-widgets/base",
            "top": null,
            "grid_column": null,
            "overflow_y": null,
            "overflow_x": null,
            "grid_auto_flow": null,
            "grid_area": null,
            "grid_template_columns": null,
            "flex": null,
            "_model_name": "LayoutModel",
            "justify_items": null,
            "grid_row": null,
            "max_height": null,
            "align_content": null,
            "visibility": null,
            "align_self": null,
            "height": null,
            "min_height": null,
            "padding": null,
            "grid_auto_rows": null,
            "grid_gap": null,
            "max_width": null,
            "order": null,
            "_view_module_version": "1.2.0",
            "grid_template_areas": null,
            "object_position": null,
            "object_fit": null,
            "grid_auto_columns": null,
            "margin": null,
            "display": null,
            "left": null
          }
        },
        "ca00543ab31b492ca2f99363a3998e03": {
          "model_module": "@jupyter-widgets/controls",
          "model_name": "HBoxModel",
          "state": {
            "_view_name": "HBoxView",
            "_dom_classes": [],
            "_model_name": "HBoxModel",
            "_view_module": "@jupyter-widgets/controls",
            "_model_module_version": "1.5.0",
            "_view_count": null,
            "_view_module_version": "1.5.0",
            "box_style": "",
            "layout": "IPY_MODEL_e08f8ae0b9f94b95922482d669c27953",
            "_model_module": "@jupyter-widgets/controls",
            "children": [
              "IPY_MODEL_b56e80810eca4a0eb25e5e21d593d9eb",
              "IPY_MODEL_edd34c0271f14687adc49d0cb9769d9a"
            ]
          }
        },
        "e08f8ae0b9f94b95922482d669c27953": {
          "model_module": "@jupyter-widgets/base",
          "model_name": "LayoutModel",
          "state": {
            "_view_name": "LayoutView",
            "grid_template_rows": null,
            "right": null,
            "justify_content": null,
            "_view_module": "@jupyter-widgets/base",
            "overflow": null,
            "_model_module_version": "1.2.0",
            "_view_count": null,
            "flex_flow": null,
            "width": null,
            "min_width": null,
            "border": null,
            "align_items": null,
            "bottom": null,
            "_model_module": "@jupyter-widgets/base",
            "top": null,
            "grid_column": null,
            "overflow_y": null,
            "overflow_x": null,
            "grid_auto_flow": null,
            "grid_area": null,
            "grid_template_columns": null,
            "flex": null,
            "_model_name": "LayoutModel",
            "justify_items": null,
            "grid_row": null,
            "max_height": null,
            "align_content": null,
            "visibility": null,
            "align_self": null,
            "height": null,
            "min_height": null,
            "padding": null,
            "grid_auto_rows": null,
            "grid_gap": null,
            "max_width": null,
            "order": null,
            "_view_module_version": "1.2.0",
            "grid_template_areas": null,
            "object_position": null,
            "object_fit": null,
            "grid_auto_columns": null,
            "margin": null,
            "display": null,
            "left": null
          }
        },
        "b56e80810eca4a0eb25e5e21d593d9eb": {
          "model_module": "@jupyter-widgets/controls",
          "model_name": "FloatProgressModel",
          "state": {
            "_view_name": "ProgressView",
            "style": "IPY_MODEL_510690deb43a4515974e5b828c5212a4",
            "_dom_classes": [],
            "description": "",
            "_model_name": "FloatProgressModel",
            "bar_style": "success",
            "max": 1,
            "_view_module": "@jupyter-widgets/controls",
            "_model_module_version": "1.5.0",
            "value": 1,
            "_view_count": null,
            "_view_module_version": "1.5.0",
            "orientation": "horizontal",
            "min": 0,
            "description_tooltip": null,
            "_model_module": "@jupyter-widgets/controls",
            "layout": "IPY_MODEL_a852f0a830264be282718bf945757d11"
          }
        },
        "edd34c0271f14687adc49d0cb9769d9a": {
          "model_module": "@jupyter-widgets/controls",
          "model_name": "HTMLModel",
          "state": {
            "_view_name": "HTMLView",
            "style": "IPY_MODEL_2420cd11b26b4c2ba997a682108e4c20",
            "_dom_classes": [],
            "description": "",
            "_model_name": "HTMLModel",
            "placeholder": "​",
            "_view_module": "@jupyter-widgets/controls",
            "_model_module_version": "1.5.0",
            "value": " 8192/? [00:00&lt;00:00, 21396.41it/s]",
            "_view_count": null,
            "_view_module_version": "1.5.0",
            "description_tooltip": null,
            "_model_module": "@jupyter-widgets/controls",
            "layout": "IPY_MODEL_9516e77f07e34dd3926c0ff532ac7707"
          }
        },
        "510690deb43a4515974e5b828c5212a4": {
          "model_module": "@jupyter-widgets/controls",
          "model_name": "ProgressStyleModel",
          "state": {
            "_view_name": "StyleView",
            "_model_name": "ProgressStyleModel",
            "description_width": "initial",
            "_view_module": "@jupyter-widgets/base",
            "_model_module_version": "1.5.0",
            "_view_count": null,
            "_view_module_version": "1.2.0",
            "bar_color": null,
            "_model_module": "@jupyter-widgets/controls"
          }
        },
        "a852f0a830264be282718bf945757d11": {
          "model_module": "@jupyter-widgets/base",
          "model_name": "LayoutModel",
          "state": {
            "_view_name": "LayoutView",
            "grid_template_rows": null,
            "right": null,
            "justify_content": null,
            "_view_module": "@jupyter-widgets/base",
            "overflow": null,
            "_model_module_version": "1.2.0",
            "_view_count": null,
            "flex_flow": null,
            "width": null,
            "min_width": null,
            "border": null,
            "align_items": null,
            "bottom": null,
            "_model_module": "@jupyter-widgets/base",
            "top": null,
            "grid_column": null,
            "overflow_y": null,
            "overflow_x": null,
            "grid_auto_flow": null,
            "grid_area": null,
            "grid_template_columns": null,
            "flex": null,
            "_model_name": "LayoutModel",
            "justify_items": null,
            "grid_row": null,
            "max_height": null,
            "align_content": null,
            "visibility": null,
            "align_self": null,
            "height": null,
            "min_height": null,
            "padding": null,
            "grid_auto_rows": null,
            "grid_gap": null,
            "max_width": null,
            "order": null,
            "_view_module_version": "1.2.0",
            "grid_template_areas": null,
            "object_position": null,
            "object_fit": null,
            "grid_auto_columns": null,
            "margin": null,
            "display": null,
            "left": null
          }
        },
        "2420cd11b26b4c2ba997a682108e4c20": {
          "model_module": "@jupyter-widgets/controls",
          "model_name": "DescriptionStyleModel",
          "state": {
            "_view_name": "StyleView",
            "_model_name": "DescriptionStyleModel",
            "description_width": "",
            "_view_module": "@jupyter-widgets/base",
            "_model_module_version": "1.5.0",
            "_view_count": null,
            "_view_module_version": "1.2.0",
            "_model_module": "@jupyter-widgets/controls"
          }
        },
        "9516e77f07e34dd3926c0ff532ac7707": {
          "model_module": "@jupyter-widgets/base",
          "model_name": "LayoutModel",
          "state": {
            "_view_name": "LayoutView",
            "grid_template_rows": null,
            "right": null,
            "justify_content": null,
            "_view_module": "@jupyter-widgets/base",
            "overflow": null,
            "_model_module_version": "1.2.0",
            "_view_count": null,
            "flex_flow": null,
            "width": null,
            "min_width": null,
            "border": null,
            "align_items": null,
            "bottom": null,
            "_model_module": "@jupyter-widgets/base",
            "top": null,
            "grid_column": null,
            "overflow_y": null,
            "overflow_x": null,
            "grid_auto_flow": null,
            "grid_area": null,
            "grid_template_columns": null,
            "flex": null,
            "_model_name": "LayoutModel",
            "justify_items": null,
            "grid_row": null,
            "max_height": null,
            "align_content": null,
            "visibility": null,
            "align_self": null,
            "height": null,
            "min_height": null,
            "padding": null,
            "grid_auto_rows": null,
            "grid_gap": null,
            "max_width": null,
            "order": null,
            "_view_module_version": "1.2.0",
            "grid_template_areas": null,
            "object_position": null,
            "object_fit": null,
            "grid_auto_columns": null,
            "margin": null,
            "display": null,
            "left": null
          }
        }
      }
    }
  },
  "cells": [
    {
      "cell_type": "markdown",
      "metadata": {
        "id": "view-in-github",
        "colab_type": "text"
      },
      "source": [
        "<a href=\"https://colab.research.google.com/github/khodid/2020Evening/blob/master/proj3_2_VAE_MNIST_withLinearModel.ipynb\" target=\"_parent\"><img src=\"https://colab.research.google.com/assets/colab-badge.svg\" alt=\"Open In Colab\"/></a>"
      ]
    },
    {
      "cell_type": "code",
      "metadata": {
        "id": "PIAh7vsL7aCM",
        "colab_type": "code",
        "colab": {
          "base_uri": "https://localhost:8080/",
          "height": 432,
          "referenced_widgets": [
            "b43aaa2870d04666902dbba1fd7b44d7",
            "8b5d6a915feb4f5cb6f60b402452bc0c",
            "77e3a6334f6d460da44e9a78271e334d",
            "3df970646e994fb0aa1ab9f4e2768f90",
            "ee80e7bcaab942ce853c2f89b80d9f1d",
            "7e062a5e432741f8ad2e7c26d2772edf",
            "d1cbf6a8b37c4c9c9a4907718675f6b5",
            "1dfe898657e94ddc8e590b09f55dcb12",
            "7880cac95a2b4fe38269ffbaf6d7a37c",
            "3fc901855e2a4de789a49fb0fd8c4412",
            "a212d1e322c34324a0fb5b4236cc458c",
            "6825d6d107224d2fb34d8c6f970a4373",
            "b492842e681940f2b23c0bfd80565147",
            "eeeeabbb5e7d4cf2994e4bb6021baf0e",
            "240737bb6a9c403faf5bd71025e1cbd2",
            "77a69225b2154cefa83efb8fee96de50",
            "b19b7953f223493f97330e4d586f9658",
            "3db7a0df38144f4389bb41bc888e02aa",
            "c7e00445934d451a93fb9065c30e75d7",
            "78b11aa000934a29a2fb346d75d16752",
            "66663455db8543ef88d2831614b3614a",
            "04ca0777173b4a2bab96b51eb862ab4a",
            "01d68b14048348cd8f5ed430a356d94c",
            "31fed98e28924c9b8a0b2ca3da9f03d4",
            "ca00543ab31b492ca2f99363a3998e03",
            "e08f8ae0b9f94b95922482d669c27953",
            "b56e80810eca4a0eb25e5e21d593d9eb",
            "edd34c0271f14687adc49d0cb9769d9a",
            "510690deb43a4515974e5b828c5212a4",
            "a852f0a830264be282718bf945757d11",
            "2420cd11b26b4c2ba997a682108e4c20",
            "9516e77f07e34dd3926c0ff532ac7707"
          ]
        },
        "outputId": "0906e3f3-578b-49ba-b854-82e856e135cd"
      },
      "source": [
        "import torchvision\n",
        "\n",
        "MNIST_train = torchvision.datasets.MNIST(root = './content', train = True, transform = torchvision.transforms.ToTensor(), download = True)"
      ],
      "execution_count": 1,
      "outputs": [
        {
          "output_type": "stream",
          "text": [
            "Downloading http://yann.lecun.com/exdb/mnist/train-images-idx3-ubyte.gz to ./content/MNIST/raw/train-images-idx3-ubyte.gz\n"
          ],
          "name": "stdout"
        },
        {
          "output_type": "display_data",
          "data": {
            "application/vnd.jupyter.widget-view+json": {
              "model_id": "b43aaa2870d04666902dbba1fd7b44d7",
              "version_minor": 0,
              "version_major": 2
            },
            "text/plain": [
              "HBox(children=(FloatProgress(value=1.0, bar_style='info', max=1.0), HTML(value='')))"
            ]
          },
          "metadata": {
            "tags": []
          }
        },
        {
          "output_type": "stream",
          "text": [
            "Extracting ./content/MNIST/raw/train-images-idx3-ubyte.gz to ./content/MNIST/raw\n",
            "Downloading http://yann.lecun.com/exdb/mnist/train-labels-idx1-ubyte.gz to ./content/MNIST/raw/train-labels-idx1-ubyte.gz\n",
            "\n"
          ],
          "name": "stdout"
        },
        {
          "output_type": "display_data",
          "data": {
            "application/vnd.jupyter.widget-view+json": {
              "model_id": "7880cac95a2b4fe38269ffbaf6d7a37c",
              "version_minor": 0,
              "version_major": 2
            },
            "text/plain": [
              "HBox(children=(FloatProgress(value=1.0, bar_style='info', max=1.0), HTML(value='')))"
            ]
          },
          "metadata": {
            "tags": []
          }
        },
        {
          "output_type": "stream",
          "text": [
            "Extracting ./content/MNIST/raw/train-labels-idx1-ubyte.gz to ./content/MNIST/raw\n",
            "Downloading http://yann.lecun.com/exdb/mnist/t10k-images-idx3-ubyte.gz to ./content/MNIST/raw/t10k-images-idx3-ubyte.gz\n"
          ],
          "name": "stdout"
        },
        {
          "output_type": "display_data",
          "data": {
            "application/vnd.jupyter.widget-view+json": {
              "model_id": "b19b7953f223493f97330e4d586f9658",
              "version_minor": 0,
              "version_major": 2
            },
            "text/plain": [
              "HBox(children=(FloatProgress(value=1.0, bar_style='info', max=1.0), HTML(value='')))"
            ]
          },
          "metadata": {
            "tags": []
          }
        },
        {
          "output_type": "stream",
          "text": [
            "Extracting ./content/MNIST/raw/t10k-images-idx3-ubyte.gz to ./content/MNIST/raw\n",
            "Downloading http://yann.lecun.com/exdb/mnist/t10k-labels-idx1-ubyte.gz to ./content/MNIST/raw/t10k-labels-idx1-ubyte.gz\n"
          ],
          "name": "stdout"
        },
        {
          "output_type": "display_data",
          "data": {
            "application/vnd.jupyter.widget-view+json": {
              "model_id": "ca00543ab31b492ca2f99363a3998e03",
              "version_minor": 0,
              "version_major": 2
            },
            "text/plain": [
              "HBox(children=(FloatProgress(value=1.0, bar_style='info', max=1.0), HTML(value='')))"
            ]
          },
          "metadata": {
            "tags": []
          }
        },
        {
          "output_type": "stream",
          "text": [
            "Extracting ./content/MNIST/raw/t10k-labels-idx1-ubyte.gz to ./content/MNIST/raw\n",
            "Processing...\n",
            "Done!\n",
            "\n",
            "\n"
          ],
          "name": "stdout"
        },
        {
          "output_type": "stream",
          "text": [
            "/usr/local/lib/python3.6/dist-packages/torchvision/datasets/mnist.py:469: UserWarning: The given NumPy array is not writeable, and PyTorch does not support non-writeable tensors. This means you can write to the underlying (supposedly non-writeable) NumPy array using the tensor. You may want to copy the array to protect its data or make it writeable before converting it to a tensor. This type of warning will be suppressed for the rest of this program. (Triggered internally at  /pytorch/torch/csrc/utils/tensor_numpy.cpp:141.)\n",
            "  return torch.from_numpy(parsed.astype(m[2], copy=False)).view(*s)\n"
          ],
          "name": "stderr"
        }
      ]
    },
    {
      "cell_type": "code",
      "metadata": {
        "id": "2aoSa0mUiaJB",
        "colab_type": "code",
        "colab": {}
      },
      "source": [
        "import torch.utils"
      ],
      "execution_count": 2,
      "outputs": []
    },
    {
      "cell_type": "code",
      "metadata": {
        "id": "hFs4tu3Djefs",
        "colab_type": "code",
        "colab": {}
      },
      "source": [
        "# dataloader 설정\n",
        "batch_size = 20\n",
        "\n",
        "train_set = torch.utils.data.DataLoader(MNIST_train, batch_size= batch_size, shuffle = True, drop_last = True)"
      ],
      "execution_count": 3,
      "outputs": []
    },
    {
      "cell_type": "code",
      "metadata": {
        "id": "sG_tq_y1kkxd",
        "colab_type": "code",
        "colab": {}
      },
      "source": [
        "# 디바이스 설정\n",
        "import torch.cuda\n",
        "device = 'cuda' if torch.cuda.is_available() else 'cpu'\n",
        "\n",
        "torch.manual_seed(777)\n",
        "if device == 'cuda' : torch.cuda.manual_seed_all(777)"
      ],
      "execution_count": 4,
      "outputs": []
    },
    {
      "cell_type": "code",
      "metadata": {
        "id": "oRybeWt2GBlV",
        "colab_type": "code",
        "colab": {
          "base_uri": "https://localhost:8080/",
          "height": 52
        },
        "outputId": "54d2d5e8-6df4-4f73-ea91-f31f7c2ab4c3"
      },
      "source": [
        "# Checking training data shape\n",
        "print(type(train_set))\n",
        "for img, label in train_set:\n",
        "  break\n",
        "print(img.shape)"
      ],
      "execution_count": 5,
      "outputs": [
        {
          "output_type": "stream",
          "text": [
            "<class 'torch.utils.data.dataloader.DataLoader'>\n",
            "torch.Size([20, 1, 28, 28])\n"
          ],
          "name": "stdout"
        }
      ]
    },
    {
      "cell_type": "code",
      "metadata": {
        "id": "RTS5EPtE7mUV",
        "colab_type": "code",
        "colab": {}
      },
      "source": [
        "import torch.nn as nn\n",
        "\n",
        "class VAE(nn.Module):\n",
        "  def __init__(self, latent_size):\n",
        "    super(VAE, self).__init__()\n",
        "    self.latent_size = latent_size\n",
        "    self.encoder = nn.Sequential(\n",
        "        nn.Flatten(),\n",
        "        nn.Linear(784, 512),\n",
        "        nn.Linear(512, 256)\n",
        "        )\n",
        "    self.mu = nn.Linear(256, self.latent_size)\n",
        "    self.var = nn.Linear(256, self.latent_size)\n",
        "    self.decoder = nn.Sequential(\n",
        "        nn.Linear(self.latent_size, 256),\n",
        "        nn.Linear(256, 512),\n",
        "        nn.Linear(512, 784),\n",
        "        nn.Sigmoid()\n",
        "        )\n",
        "      \n",
        "  def sampler(self, mu, var):\n",
        "    sigma = torch.exp(0.5*var)\n",
        "    epsilon = torch.randn_like(sigma)\n",
        "    return mu + epsilon*sigma\n",
        "\n",
        "  def Encode(self, x):\n",
        "    z = self.encoder(x)\n",
        "    mu = self.mu(z)\n",
        "    var = self.var(z)\n",
        "    z = self.sampler(mu, var)\n",
        "    return z, mu, var\n",
        "\n",
        "  def Decode(self, z):\n",
        "    img = self.decoder(z)\n",
        "    img = img.view(z.size(0), 1, 28, 28)\n",
        "    return img\n",
        "  \n",
        "  def forward(self, x):\n",
        "    z, mu, var = self.Encode(x)\n",
        "    img = self.Decode(z)\n",
        "    return img, mu, var"
      ],
      "execution_count": 6,
      "outputs": []
    },
    {
      "cell_type": "code",
      "metadata": {
        "id": "gmV36OCH9bXx",
        "colab_type": "code",
        "colab": {
          "base_uri": "https://localhost:8080/",
          "height": 336
        },
        "outputId": "fc3ec843-c54d-46c7-e296-bdb9c880780d"
      },
      "source": [
        "# model test\n",
        "with torch.no_grad():\n",
        "  input = torch.randn(64, 1, 28, 28).to(device)\n",
        "  model = VAE(latent_size = 10).to(device)\n",
        "  test_z, _, _ = model.Encode(input)\n",
        "  test_out = model.Decode(test_z)\n",
        "\n",
        "  print('====== ENCODER ======')\n",
        "  print(test_z.shape)\n",
        "  print('====== DECODER ======')\n",
        "  print(test_out.shape)\n",
        "\n",
        "  import matplotlib.pyplot as plt\n",
        "  if device == 'cuda': test_out = test_out.cpu()\n",
        "  show = test_out[0].view(28,28).numpy()\n",
        "  plt.imshow(show, cmap='gray')"
      ],
      "execution_count": 7,
      "outputs": [
        {
          "output_type": "stream",
          "text": [
            "====== ENCODER ======\n",
            "torch.Size([64, 10])\n",
            "====== DECODER ======\n",
            "torch.Size([64, 1, 28, 28])\n"
          ],
          "name": "stdout"
        },
        {
          "output_type": "display_data",
          "data": {
            "image/png": "[encoded data removed]",
            "text/plain": [
              "<Figure size 432x288 with 1 Axes>"
            ]
          },
          "metadata": {
            "tags": [],
            "needs_background": "light"
          }
        }
      ]
    },
    {
      "cell_type": "code",
      "metadata": {
        "id": "XP1s4M6qMt-v",
        "colab_type": "code",
        "colab": {
          "base_uri": "https://localhost:8080/",
          "height": 284
        },
        "outputId": "baab79e6-1a09-4f74-93f1-d5b350ee020e"
      },
      "source": [
        "model = VAE(latent_size= 10).to(device)\n",
        "model.train()"
      ],
      "execution_count": 8,
      "outputs": [
        {
          "output_type": "execute_result",
          "data": {
            "text/plain": [
              "VAE(\n",
              "  (encoder): Sequential(\n",
              "    (0): Flatten()\n",
              "    (1): Linear(in_features=784, out_features=512, bias=True)\n",
              "    (2): Linear(in_features=512, out_features=256, bias=True)\n",
              "  )\n",
              "  (mu): Linear(in_features=256, out_features=10, bias=True)\n",
              "  (var): Linear(in_features=256, out_features=10, bias=True)\n",
              "  (decoder): Sequential(\n",
              "    (0): Linear(in_features=10, out_features=256, bias=True)\n",
              "    (1): Linear(in_features=256, out_features=512, bias=True)\n",
              "    (2): Linear(in_features=512, out_features=784, bias=True)\n",
              "    (3): Sigmoid()\n",
              "  )\n",
              ")"
            ]
          },
          "metadata": {
            "tags": []
          },
          "execution_count": 8
        }
      ]
    },
    {
      "cell_type": "code",
      "metadata": {
        "id": "unnDTvEwM6Nt",
        "colab_type": "code",
        "colab": {}
      },
      "source": [
        "# 얘는 그냥 프로젝트 1에서 복붙함. loss function\n",
        "import torch.nn.functional as F\n",
        "\n",
        "def loss_function(x, target, mu, log_var):\n",
        "  x, target = x.view(-1, 784), target.view(-1, 784) # (batch_size, 784)\n",
        "  # rmse_loss = torch.sum(torch.sqrt(torch.mean(torch.square(target - x), dim=-1) + 1e-7)) # p98 참고 # 0 되는 걸 방지하기 위해\n",
        "  BCE = F.binary_cross_entropy(target=target, input = x, reduction='sum') # bce loss\n",
        "  kl_div = -0.5 * torch.sum(1 + log_var - mu.pow(2) - log_var.exp())\n",
        "  return BCE, kl_div, BCE + kl_div"
      ],
      "execution_count": 49,
      "outputs": []
    },
    {
      "cell_type": "markdown",
      "metadata": {
        "id": "mjiLBFTPoNr6",
        "colab_type": "text"
      },
      "source": [
        "이 loss function에서 시행착오가 많았다.\n"
      ]
    },
    {
      "cell_type": "markdown",
      "metadata": {
        "id": "JATfBdUloRsj",
        "colab_type": "text"
      },
      "source": [
        "![MNIST_VAE_train_8.png](data:image/png;base64,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)"
      ]
    },
    {
      "cell_type": "markdown",
      "metadata": {
        "id": "HTZdu8YUoTwj",
        "colab_type": "text"
      },
      "source": [
        "몇 번을 학습시켜도 위와 같은 이미지가 나오던 것인데, \n",
        "```python\n",
        "rmse_loss = torch.sqrt(torch.mean(torch.square(target - x)) + 1e-7)\n",
        "```\n",
        "loss function을 위와 같이 짰을 때 계속해서 이런 현상이 나타났다.\n",
        "\n",
        "다른 사람의 코드를 참고해서 BCE loss로 학습 시켜보니 정상적으로 학습이 되었는데, 처음에는 minibatch 내의 모든 loss를 label 상관 없이 학습 시킨 것이 문제가 되는 것으로 생각했다.\n",
        "\n",
        "그래서 \n",
        "```python\n",
        "rmse_loss = torch.sqrt(torch.mean(torch.square(target - x), dim=-1) + 1e-7)\n",
        "```\n",
        "의 결과를 실험해보기도 했다.\n",
        "\n",
        "그러나 이 경우 loss가 하나의 값으로 나오지 않아서 loss.backward() 부분에서 오류가 발생했다. 그렇다고 해서 bce에서 해준 것처럼 sum을 해준다면 앞선 것과 동일한 오류가 발생한다."
      ]
    },
    {
      "cell_type": "code",
      "metadata": {
        "id": "7KddLIbOiQOP",
        "colab_type": "code",
        "colab": {
          "base_uri": "https://localhost:8080/",
          "height": 195
        },
        "outputId": "4c95c06e-0ca7-48ba-f773-9a21e25e1ae0"
      },
      "source": [
        "target = torch.rand(3,5)\n",
        "x = torch.rand(3,5)\n",
        "print(target)\n",
        "print(x)\n",
        "print('==========')\n",
        "p = F.binary_cross_entropy(target=target, input = x, reduction='sum')\n",
        "rmse_loss = torch.sqrt(torch.mean(torch.square(target - x)))\n",
        "d = torch.sqrt(torch.nn.functional.mse_loss(x, target, reduction='mean'))\n",
        "\n",
        "print(p)\n",
        "print(rmse_loss)\n",
        "print(d)\n"
      ],
      "execution_count": 48,
      "outputs": [
        {
          "output_type": "stream",
          "text": [
            "tensor([[0.1643, 0.2434, 0.3639, 0.8486, 0.9004],\n",
            "        [0.4232, 0.3507, 0.4002, 0.5484, 0.6555],\n",
            "        [0.2729, 0.6385, 0.1805, 0.4319, 0.3435]])\n",
            "tensor([[0.9989, 0.2350, 0.2375, 0.2295, 0.2997],\n",
            "        [0.5185, 0.9834, 0.5311, 0.4173, 0.9265],\n",
            "        [0.7131, 0.6360, 0.9956, 0.4500, 0.3779]])\n",
            "==========\n",
            "tensor(22.5487)\n",
            "tensor(0.4346)\n",
            "tensor(0.4346)\n"
          ],
          "name": "stdout"
        }
      ]
    },
    {
      "cell_type": "markdown",
      "metadata": {
        "id": "xk3vQOI9rosp",
        "colab_type": "text"
      },
      "source": [
        "[torch.nn.functional 내에 있는 mse_loss](https://pytorch.org/docs/stable/generated/torch.nn.MSELoss.html#torch.nn.MSELoss)와 이론적으로 동일한 거라서 구현 문제는 아닌 것 같고, **왜 binary cross entropy만 먹힌 건지는 잘 모르겠다. 교재에 있는 건 root mean square error인데...**"
      ]
    },
    {
      "cell_type": "code",
      "metadata": {
        "id": "Yue5nnpcY1CA",
        "colab_type": "code",
        "colab": {}
      },
      "source": [
        "\n",
        "# 진행상황 모니터링용\n",
        "def compare_img(img, new_img, label, epoch):\n",
        "  with torch.no_grad():\n",
        "    if device == 'cuda': img, new_img = img.cpu(), new_img.cpu()\n",
        "    show_original = img.view(28,28).numpy()\n",
        "    show_gen = new_img.view(28,28).numpy()\n",
        "\n",
        "    plt.subplot(1, 2, 1)\n",
        "    plt.title('original')\n",
        "    plt.imshow(show_original, cmap='gray')\n",
        "    plt.subplot(1, 2, 2)\n",
        "    plt.title('generated')\n",
        "    plt.imshow(show_gen, cmap = 'gray')\n",
        "    \n",
        "    plt.suptitle('Epoch: {} [label-{}]'.format(epoch, label), fontsize=16)\n",
        "    plt.savefig('MNIST_VAE_train_{}.png'.format(epoch))\n",
        "\n",
        "    plt.clf() # 다음 그림 위해서 비워두기"
      ],
      "execution_count": 10,
      "outputs": []
    },
    {
      "cell_type": "code",
      "metadata": {
        "id": "cv44vLjENtxP",
        "colab_type": "code",
        "colab": {}
      },
      "source": [
        "optimizer = torch.optim.RMSprop(model.parameters(),lr = 0.001)"
      ],
      "execution_count": 11,
      "outputs": []
    },
    {
      "cell_type": "code",
      "metadata": {
        "id": "n8R8dhQyQ47d",
        "colab_type": "code",
        "colab": {}
      },
      "source": [
        "lenth = len(train_set)"
      ],
      "execution_count": 12,
      "outputs": []
    },
    {
      "cell_type": "code",
      "metadata": {
        "id": "fS_7VEIi9IwF",
        "colab_type": "code",
        "colab": {
          "base_uri": "https://localhost:8080/",
          "height": 1000
        },
        "outputId": "fab0315f-c8fa-46a4-a4a4-3d3a15aae7d1"
      },
      "source": [
        "epochs = 20\n",
        "tick = [0, 5, 8, 10, 20, 50, 80, 100, 120, 150, 180, 200]\n",
        "\n",
        "model.train(True)\n",
        "\n",
        "for epoch in range(epochs):\n",
        "  for idx, (img, label) in enumerate(train_set):\n",
        "    img = img.to(device)\n",
        "    \n",
        "    new_img, mu, var = model(img)\n",
        "    r, k, loss = loss_function(x= new_img, target = img, mu=mu, log_var=var)\n",
        "    \n",
        "    optimizer.zero_grad()\n",
        "    loss.backward()\n",
        "    optimizer.step()\n",
        "    if (idx+1) % 500 is 0 : print('Epoch [{}/{}] Step [{}/{}] loss: {} rmse: {}, kl_div: {}'.format(epoch+1, epochs, idx+1, lenth, loss.item(), r.item(), k.item()))\n",
        "  if epoch in tick : compare_img(img[0], new_img[0], label[0], epoch)\n",
        "compare_img(img[0], new_img[0], label[0], epoch)"
      ],
      "execution_count": 50,
      "outputs": [
        {
          "output_type": "stream",
          "text": [
            "Epoch [1/20] Step [500/3000] loss: 3131.986083984375 rmse: 2937.93798828125, kl_div: 194.04798889160156\n",
            "Epoch [1/20] Step [1000/3000] loss: 2990.840087890625 rmse: 2787.029296875, kl_div: 203.81080627441406\n",
            "Epoch [1/20] Step [1500/3000] loss: 2858.624755859375 rmse: 2625.4677734375, kl_div: 233.15708923339844\n",
            "Epoch [1/20] Step [2000/3000] loss: 2999.4892578125 rmse: 2731.283203125, kl_div: 268.2059326171875\n",
            "Epoch [1/20] Step [2500/3000] loss: 2780.24560546875 rmse: 2515.784912109375, kl_div: 264.4606628417969\n",
            "Epoch [1/20] Step [3000/3000] loss: 3225.636474609375 rmse: 2940.327392578125, kl_div: 285.30908203125\n",
            "Epoch [2/20] Step [500/3000] loss: 3008.054931640625 rmse: 2745.6533203125, kl_div: 262.40167236328125\n",
            "Epoch [2/20] Step [1000/3000] loss: 3532.03125 rmse: 3235.17919921875, kl_div: 296.8520812988281\n",
            "Epoch [2/20] Step [1500/3000] loss: 3052.525634765625 rmse: 2790.1748046875, kl_div: 262.350830078125\n",
            "Epoch [2/20] Step [2000/3000] loss: 2487.62646484375 rmse: 2243.2275390625, kl_div: 244.39891052246094\n",
            "Epoch [2/20] Step [2500/3000] loss: 2711.26220703125 rmse: 2440.634033203125, kl_div: 270.628173828125\n",
            "Epoch [2/20] Step [3000/3000] loss: 2621.49169921875 rmse: 2363.335693359375, kl_div: 258.15594482421875\n",
            "Epoch [3/20] Step [500/3000] loss: 2703.068115234375 rmse: 2438.500244140625, kl_div: 264.5679626464844\n",
            "Epoch [3/20] Step [1000/3000] loss: 2744.684326171875 rmse: 2478.6923828125, kl_div: 265.9919738769531\n",
            "Epoch [3/20] Step [1500/3000] loss: 2807.31298828125 rmse: 2550.197509765625, kl_div: 257.115478515625\n",
            "Epoch [3/20] Step [2000/3000] loss: 3166.5537109375 rmse: 2903.078369140625, kl_div: 263.4754333496094\n",
            "Epoch [3/20] Step [2500/3000] loss: 2875.560546875 rmse: 2618.680419921875, kl_div: 256.880126953125\n",
            "Epoch [3/20] Step [3000/3000] loss: 3076.64111328125 rmse: 2827.603515625, kl_div: 249.0377197265625\n",
            "Epoch [4/20] Step [500/3000] loss: 3021.354248046875 rmse: 2752.5859375, kl_div: 268.7684020996094\n",
            "Epoch [4/20] Step [1000/3000] loss: 2766.040283203125 rmse: 2524.297119140625, kl_div: 241.74305725097656\n",
            "Epoch [4/20] Step [1500/3000] loss: 2877.9912109375 rmse: 2611.23779296875, kl_div: 266.75341796875\n",
            "Epoch [4/20] Step [2000/3000] loss: 2662.6494140625 rmse: 2406.42724609375, kl_div: 256.2221374511719\n",
            "Epoch [4/20] Step [2500/3000] loss: 3008.283203125 rmse: 2739.02197265625, kl_div: 269.26123046875\n",
            "Epoch [4/20] Step [3000/3000] loss: 2864.71484375 rmse: 2560.244384765625, kl_div: 304.4705810546875\n",
            "Epoch [5/20] Step [500/3000] loss: 3015.80859375 rmse: 2741.06103515625, kl_div: 274.7474365234375\n",
            "Epoch [5/20] Step [1000/3000] loss: 2784.83251953125 rmse: 2500.19384765625, kl_div: 284.6387939453125\n",
            "Epoch [5/20] Step [1500/3000] loss: 3149.979736328125 rmse: 2841.7529296875, kl_div: 308.2268371582031\n",
            "Epoch [5/20] Step [2000/3000] loss: 2597.575439453125 rmse: 2343.950927734375, kl_div: 253.62461853027344\n",
            "Epoch [5/20] Step [2500/3000] loss: 2893.99609375 rmse: 2593.100341796875, kl_div: 300.8958740234375\n",
            "Epoch [5/20] Step [3000/3000] loss: 2916.137939453125 rmse: 2616.78369140625, kl_div: 299.3542785644531\n",
            "Epoch [6/20] Step [500/3000] loss: 2572.787109375 rmse: 2273.213134765625, kl_div: 299.5740966796875\n",
            "Epoch [6/20] Step [1000/3000] loss: 2603.346435546875 rmse: 2320.87890625, kl_div: 282.46746826171875\n",
            "Epoch [6/20] Step [1500/3000] loss: 3011.489990234375 rmse: 2687.428955078125, kl_div: 324.06109619140625\n",
            "Epoch [6/20] Step [2000/3000] loss: 2860.471435546875 rmse: 2557.330078125, kl_div: 303.1413879394531\n",
            "Epoch [6/20] Step [2500/3000] loss: 2921.507080078125 rmse: 2609.889892578125, kl_div: 311.61712646484375\n",
            "Epoch [6/20] Step [3000/3000] loss: 3061.380615234375 rmse: 2770.21533203125, kl_div: 291.1653137207031\n",
            "Epoch [7/20] Step [500/3000] loss: 2821.42626953125 rmse: 2515.314453125, kl_div: 306.1117858886719\n",
            "Epoch [7/20] Step [1000/3000] loss: 2816.81103515625 rmse: 2540.87939453125, kl_div: 275.93170166015625\n",
            "Epoch [7/20] Step [1500/3000] loss: 2760.0576171875 rmse: 2442.11572265625, kl_div: 317.9418029785156\n",
            "Epoch [7/20] Step [2000/3000] loss: 2600.960693359375 rmse: 2340.8779296875, kl_div: 260.0826721191406\n",
            "Epoch [7/20] Step [2500/3000] loss: 2967.970703125 rmse: 2654.78955078125, kl_div: 313.1811828613281\n",
            "Epoch [7/20] Step [3000/3000] loss: 2853.589111328125 rmse: 2547.788330078125, kl_div: 305.80078125\n",
            "Epoch [8/20] Step [500/3000] loss: 2767.112548828125 rmse: 2463.434326171875, kl_div: 303.6781921386719\n",
            "Epoch [8/20] Step [1000/3000] loss: 2681.20556640625 rmse: 2396.22119140625, kl_div: 284.9844055175781\n",
            "Epoch [8/20] Step [1500/3000] loss: 2941.77001953125 rmse: 2648.4287109375, kl_div: 293.3412170410156\n",
            "Epoch [8/20] Step [2000/3000] loss: 2763.038330078125 rmse: 2464.11083984375, kl_div: 298.92742919921875\n",
            "Epoch [8/20] Step [2500/3000] loss: 2828.088134765625 rmse: 2538.931884765625, kl_div: 289.15631103515625\n",
            "Epoch [8/20] Step [3000/3000] loss: 3117.47998046875 rmse: 2817.970458984375, kl_div: 299.5096435546875\n",
            "Epoch [9/20] Step [500/3000] loss: 2727.4482421875 rmse: 2433.250244140625, kl_div: 294.1981201171875\n",
            "Epoch [9/20] Step [1000/3000] loss: 2690.93896484375 rmse: 2407.39990234375, kl_div: 283.5389709472656\n",
            "Epoch [9/20] Step [1500/3000] loss: 3185.79638671875 rmse: 2882.1728515625, kl_div: 303.6234130859375\n",
            "Epoch [9/20] Step [2000/3000] loss: 2734.061279296875 rmse: 2446.037109375, kl_div: 288.02423095703125\n",
            "Epoch [9/20] Step [2500/3000] loss: 3033.745849609375 rmse: 2748.070556640625, kl_div: 285.6753845214844\n",
            "Epoch [9/20] Step [3000/3000] loss: 2906.96533203125 rmse: 2590.264892578125, kl_div: 316.7004699707031\n",
            "Epoch [10/20] Step [500/3000] loss: 3008.2294921875 rmse: 2732.020751953125, kl_div: 276.208740234375\n",
            "Epoch [10/20] Step [1000/3000] loss: 2958.550537109375 rmse: 2648.79541015625, kl_div: 309.75506591796875\n",
            "Epoch [10/20] Step [1500/3000] loss: 2842.5830078125 rmse: 2552.1201171875, kl_div: 290.46295166015625\n",
            "Epoch [10/20] Step [2000/3000] loss: 2709.90087890625 rmse: 2405.807861328125, kl_div: 304.0931091308594\n",
            "Epoch [10/20] Step [2500/3000] loss: 3117.546630859375 rmse: 2816.390869140625, kl_div: 301.1558532714844\n",
            "Epoch [10/20] Step [3000/3000] loss: 3200.3486328125 rmse: 2884.820556640625, kl_div: 315.5280456542969\n",
            "Epoch [11/20] Step [500/3000] loss: 2917.03564453125 rmse: 2607.194091796875, kl_div: 309.84161376953125\n",
            "Epoch [11/20] Step [1000/3000] loss: 2724.225341796875 rmse: 2432.042236328125, kl_div: 292.1831970214844\n",
            "Epoch [11/20] Step [1500/3000] loss: 2722.803955078125 rmse: 2421.502685546875, kl_div: 301.3013000488281\n",
            "Epoch [11/20] Step [2000/3000] loss: 2645.154052734375 rmse: 2369.80810546875, kl_div: 275.3458557128906\n",
            "Epoch [11/20] Step [2500/3000] loss: 2546.005126953125 rmse: 2281.644287109375, kl_div: 264.3607482910156\n",
            "Epoch [11/20] Step [3000/3000] loss: 2663.71728515625 rmse: 2357.689697265625, kl_div: 306.027587890625\n",
            "Epoch [12/20] Step [500/3000] loss: 2721.826171875 rmse: 2440.89453125, kl_div: 280.93170166015625\n",
            "Epoch [12/20] Step [1000/3000] loss: 2830.0390625 rmse: 2547.9208984375, kl_div: 282.11810302734375\n",
            "Epoch [12/20] Step [1500/3000] loss: 2695.55322265625 rmse: 2409.75537109375, kl_div: 285.7978210449219\n",
            "Epoch [12/20] Step [2000/3000] loss: 2712.0419921875 rmse: 2419.00537109375, kl_div: 293.0365295410156\n",
            "Epoch [12/20] Step [2500/3000] loss: 2677.9482421875 rmse: 2398.1611328125, kl_div: 279.7871398925781\n",
            "Epoch [12/20] Step [3000/3000] loss: 2561.31005859375 rmse: 2278.339599609375, kl_div: 282.9704895019531\n",
            "Epoch [13/20] Step [500/3000] loss: 2867.141845703125 rmse: 2575.764892578125, kl_div: 291.3768615722656\n",
            "Epoch [13/20] Step [1000/3000] loss: 2844.306884765625 rmse: 2555.5654296875, kl_div: 288.7415466308594\n",
            "Epoch [13/20] Step [1500/3000] loss: 2922.75537109375 rmse: 2630.697509765625, kl_div: 292.05792236328125\n",
            "Epoch [13/20] Step [2000/3000] loss: 2842.5126953125 rmse: 2553.11474609375, kl_div: 289.39801025390625\n",
            "Epoch [13/20] Step [2500/3000] loss: 3158.90771484375 rmse: 2875.68701171875, kl_div: 283.2206726074219\n",
            "Epoch [13/20] Step [3000/3000] loss: 2440.705322265625 rmse: 2167.143798828125, kl_div: 273.5614929199219\n",
            "Epoch [14/20] Step [500/3000] loss: 2875.7568359375 rmse: 2597.8212890625, kl_div: 277.9355773925781\n",
            "Epoch [14/20] Step [1000/3000] loss: 2877.461181640625 rmse: 2558.67578125, kl_div: 318.7853698730469\n",
            "Epoch [14/20] Step [1500/3000] loss: 2860.966796875 rmse: 2569.365234375, kl_div: 291.6016845703125\n",
            "Epoch [14/20] Step [2000/3000] loss: 2900.936279296875 rmse: 2605.19384765625, kl_div: 295.74249267578125\n",
            "Epoch [14/20] Step [2500/3000] loss: 2657.1005859375 rmse: 2374.86962890625, kl_div: 282.23089599609375\n",
            "Epoch [14/20] Step [3000/3000] loss: 2835.7265625 rmse: 2557.19384765625, kl_div: 278.5328063964844\n",
            "Epoch [15/20] Step [500/3000] loss: 2823.182373046875 rmse: 2520.6748046875, kl_div: 302.50762939453125\n",
            "Epoch [15/20] Step [1000/3000] loss: 3058.8076171875 rmse: 2777.930908203125, kl_div: 280.87677001953125\n",
            "Epoch [15/20] Step [1500/3000] loss: 2966.732421875 rmse: 2673.9375, kl_div: 292.7950439453125\n",
            "Epoch [15/20] Step [2000/3000] loss: 2800.47119140625 rmse: 2515.378173828125, kl_div: 285.0931396484375\n",
            "Epoch [15/20] Step [2500/3000] loss: 2872.621826171875 rmse: 2583.58740234375, kl_div: 289.034423828125\n",
            "Epoch [15/20] Step [3000/3000] loss: 3024.852294921875 rmse: 2667.558837890625, kl_div: 357.2933654785156\n",
            "Epoch [16/20] Step [500/3000] loss: 3209.15380859375 rmse: 2885.583984375, kl_div: 323.5698547363281\n",
            "Epoch [16/20] Step [1000/3000] loss: 2737.896484375 rmse: 2382.4267578125, kl_div: 355.4698486328125\n",
            "Epoch [16/20] Step [1500/3000] loss: 3069.183837890625 rmse: 2730.086181640625, kl_div: 339.09765625\n",
            "Epoch [16/20] Step [2000/3000] loss: 3010.921875 rmse: 2679.340087890625, kl_div: 331.5819091796875\n",
            "Epoch [16/20] Step [2500/3000] loss: 3025.65673828125 rmse: 2698.11962890625, kl_div: 327.5370178222656\n",
            "Epoch [16/20] Step [3000/3000] loss: 2710.69775390625 rmse: 2398.4384765625, kl_div: 312.25933837890625\n",
            "Epoch [17/20] Step [500/3000] loss: 2724.747314453125 rmse: 2438.498779296875, kl_div: 286.24853515625\n",
            "Epoch [17/20] Step [1000/3000] loss: 3041.9267578125 rmse: 2744.804931640625, kl_div: 297.1217041015625\n",
            "Epoch [17/20] Step [1500/3000] loss: 2558.48095703125 rmse: 2277.78857421875, kl_div: 280.69232177734375\n",
            "Epoch [17/20] Step [2000/3000] loss: 2913.6171875 rmse: 2612.202392578125, kl_div: 301.414794921875\n",
            "Epoch [17/20] Step [2500/3000] loss: 2578.3798828125 rmse: 2292.159912109375, kl_div: 286.2200622558594\n",
            "Epoch [17/20] Step [3000/3000] loss: 2775.543212890625 rmse: 2484.23046875, kl_div: 291.3127136230469\n",
            "Epoch [18/20] Step [500/3000] loss: 2711.585693359375 rmse: 2427.157470703125, kl_div: 284.42828369140625\n",
            "Epoch [18/20] Step [1000/3000] loss: 2805.3642578125 rmse: 2509.263671875, kl_div: 296.1007080078125\n",
            "Epoch [18/20] Step [1500/3000] loss: 2772.10791015625 rmse: 2494.080078125, kl_div: 278.02789306640625\n",
            "Epoch [18/20] Step [2000/3000] loss: 2678.193359375 rmse: 2392.5341796875, kl_div: 285.6590881347656\n",
            "Epoch [18/20] Step [2500/3000] loss: 2990.369140625 rmse: 2672.044921875, kl_div: 318.32427978515625\n",
            "Epoch [18/20] Step [3000/3000] loss: 3308.9423828125 rmse: 3012.177978515625, kl_div: 296.7642822265625\n",
            "Epoch [19/20] Step [500/3000] loss: 2684.988037109375 rmse: 2403.3515625, kl_div: 281.6365661621094\n",
            "Epoch [19/20] Step [1000/3000] loss: 2481.66845703125 rmse: 2201.22216796875, kl_div: 280.44622802734375\n",
            "Epoch [19/20] Step [1500/3000] loss: 2865.845947265625 rmse: 2577.498779296875, kl_div: 288.34722900390625\n",
            "Epoch [19/20] Step [2000/3000] loss: 2944.793212890625 rmse: 2647.26806640625, kl_div: 297.5251770019531\n",
            "Epoch [19/20] Step [2500/3000] loss: 2886.836181640625 rmse: 2595.34228515625, kl_div: 291.4939880371094\n",
            "Epoch [19/20] Step [3000/3000] loss: 2692.614990234375 rmse: 2412.733154296875, kl_div: 279.8819274902344\n",
            "Epoch [20/20] Step [500/3000] loss: 2654.56591796875 rmse: 2370.2529296875, kl_div: 284.3130798339844\n",
            "Epoch [20/20] Step [1000/3000] loss: 2926.7626953125 rmse: 2633.70263671875, kl_div: 293.06005859375\n",
            "Epoch [20/20] Step [1500/3000] loss: 2637.489013671875 rmse: 2342.729248046875, kl_div: 294.7597961425781\n",
            "Epoch [20/20] Step [2000/3000] loss: 2724.712158203125 rmse: 2405.0400390625, kl_div: 319.67205810546875\n",
            "Epoch [20/20] Step [2500/3000] loss: 2560.98046875 rmse: 2282.71337890625, kl_div: 278.2669677734375\n",
            "Epoch [20/20] Step [3000/3000] loss: 2987.84228515625 rmse: 2659.892578125, kl_div: 327.94964599609375\n"
          ],
          "name": "stdout"
        },
        {
          "output_type": "display_data",
          "data": {
            "text/plain": [
              "<Figure size 432x288 with 0 Axes>"
            ]
          },
          "metadata": {
            "tags": []
          }
        }
      ]
    },
    {
      "cell_type": "code",
      "metadata": {
        "id": "p6wjWCY18IBf",
        "colab_type": "code",
        "colab": {}
      },
      "source": [
        "compare_img(img[5], new_img[5], label[5], 78)"
      ],
      "execution_count": null,
      "outputs": []
    },
    {
      "cell_type": "code",
      "metadata": {
        "id": "aXUYkGvvX9_V",
        "colab_type": "code",
        "colab": {}
      },
      "source": [
        "target = torch.Tensor(23, 1, 28, 28)\n",
        "target.view(-1, 784).shape"
      ],
      "execution_count": null,
      "outputs": []
    },
    {
      "cell_type": "markdown",
      "metadata": {
        "id": "So8cj7RogFQC",
        "colab_type": "text"
      },
      "source": [
        "## 결과물\n"
      ]
    },
    {
      "cell_type": "markdown",
      "metadata": {
        "id": "hFVSC75IgOfo",
        "colab_type": "text"
      },
      "source": [
        "![MNIST_VAE_train_0.png](data:image/png;base64,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)"
      ]
    },
    {
      "cell_type": "markdown",
      "metadata": {
        "id": "6MZK2-53uzsv",
        "colab_type": "text"
      },
      "source": [
        "![MNIST_VAE_train_5.png](data:image/png;base64,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)"
      ]
    },
    {
      "cell_type": "markdown",
      "metadata": {
        "id": "JVRUdbhdu9To",
        "colab_type": "text"
      },
      "source": [
        "![MNIST_VAE_train_8 (1).png](data:image/png;base64,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)"
      ]
    },
    {
      "cell_type": "markdown",
      "metadata": {
        "id": "fy6P7hwqvX9w",
        "colab_type": "text"
      },
      "source": [
        "![MNIST_VAE_train_10.png](data:image/png;base64,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)"
      ]
    },
    {
      "cell_type": "markdown",
      "metadata": {
        "id": "Gl2Y367Jvawc",
        "colab_type": "text"
      },
      "source": [
        "![MNIST_VAE_train_19.png](data:image/png;base64,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)"
      ]
    }
  ]
}